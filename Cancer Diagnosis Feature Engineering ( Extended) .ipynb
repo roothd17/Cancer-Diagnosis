{
 "cells": [
  {
   "cell_type": "markdown",
   "metadata": {
    "collapsed": true
   },
   "source": [
    "# Cancer Diagnosis 2"
   ]
  },
  {
   "cell_type": "code",
   "execution_count": 60,
   "metadata": {
    "collapsed": true
   },
   "outputs": [],
   "source": [
    "import os\n",
    "\n",
    "os.chdir('E:\\Datasets\\Cancer Diagnosis')"
   ]
  },
  {
   "cell_type": "code",
   "execution_count": 61,
   "metadata": {
    "collapsed": true
   },
   "outputs": [],
   "source": [
    "import pandas as pd\n",
    "import numpy as np\n",
    "import seaborn as sns\n",
    "import matplotlib.pyplot as plt"
   ]
  },
  {
   "cell_type": "code",
   "execution_count": 62,
   "metadata": {},
   "outputs": [
    {
     "data": {
      "text/html": [
       "<div>\n",
       "<style>\n",
       "    .dataframe thead tr:only-child th {\n",
       "        text-align: right;\n",
       "    }\n",
       "\n",
       "    .dataframe thead th {\n",
       "        text-align: left;\n",
       "    }\n",
       "\n",
       "    .dataframe tbody tr th {\n",
       "        vertical-align: top;\n",
       "    }\n",
       "</style>\n",
       "<table border=\"1\" class=\"dataframe\">\n",
       "  <thead>\n",
       "    <tr style=\"text-align: right;\">\n",
       "      <th></th>\n",
       "      <th>ID</th>\n",
       "      <th>Gene</th>\n",
       "      <th>Variation</th>\n",
       "      <th>Class</th>\n",
       "      <th>TEXT</th>\n",
       "    </tr>\n",
       "  </thead>\n",
       "  <tbody>\n",
       "    <tr>\n",
       "      <th>0</th>\n",
       "      <td>0</td>\n",
       "      <td>FAM58A</td>\n",
       "      <td>Truncating_Mutations</td>\n",
       "      <td>1</td>\n",
       "      <td>cyclin dependent kinases cdks regulate variety...</td>\n",
       "    </tr>\n",
       "    <tr>\n",
       "      <th>1</th>\n",
       "      <td>1</td>\n",
       "      <td>CBL</td>\n",
       "      <td>W802*</td>\n",
       "      <td>2</td>\n",
       "      <td>abstract background non small cell lung cancer...</td>\n",
       "    </tr>\n",
       "    <tr>\n",
       "      <th>2</th>\n",
       "      <td>2</td>\n",
       "      <td>CBL</td>\n",
       "      <td>Q249E</td>\n",
       "      <td>2</td>\n",
       "      <td>abstract background non small cell lung cancer...</td>\n",
       "    </tr>\n",
       "    <tr>\n",
       "      <th>3</th>\n",
       "      <td>3</td>\n",
       "      <td>CBL</td>\n",
       "      <td>N454D</td>\n",
       "      <td>3</td>\n",
       "      <td>recent evidence demonstrated acquired uniparen...</td>\n",
       "    </tr>\n",
       "    <tr>\n",
       "      <th>4</th>\n",
       "      <td>4</td>\n",
       "      <td>CBL</td>\n",
       "      <td>L399V</td>\n",
       "      <td>4</td>\n",
       "      <td>oncogenic mutations monomeric casitas b lineag...</td>\n",
       "    </tr>\n",
       "  </tbody>\n",
       "</table>\n",
       "</div>"
      ],
      "text/plain": [
       "   ID    Gene             Variation  Class  \\\n",
       "0   0  FAM58A  Truncating_Mutations      1   \n",
       "1   1     CBL                 W802*      2   \n",
       "2   2     CBL                 Q249E      2   \n",
       "3   3     CBL                 N454D      3   \n",
       "4   4     CBL                 L399V      4   \n",
       "\n",
       "                                                TEXT  \n",
       "0  cyclin dependent kinases cdks regulate variety...  \n",
       "1  abstract background non small cell lung cancer...  \n",
       "2  abstract background non small cell lung cancer...  \n",
       "3  recent evidence demonstrated acquired uniparen...  \n",
       "4  oncogenic mutations monomeric casitas b lineag...  "
      ]
     },
     "execution_count": 62,
     "metadata": {},
     "output_type": "execute_result"
    }
   ],
   "source": [
    "df = pd.read_csv('Data.csv')\n",
    "\n",
    "df.head()"
   ]
  },
  {
   "cell_type": "code",
   "execution_count": 63,
   "metadata": {},
   "outputs": [
    {
     "name": "stdout",
     "output_type": "stream",
     "text": [
      " Data points :  3321\n",
      " Features :  ['ID' 'Gene' 'Variation']\n"
     ]
    }
   ],
   "source": [
    "print(' Data points : ', df.shape[0] )\n",
    "print(' Features : ', df.columns.values[0:3] )"
   ]
  },
  {
   "cell_type": "code",
   "execution_count": 64,
   "metadata": {},
   "outputs": [
    {
     "data": {
      "image/png": "[encoded data removed]",
      "text/plain": [
       "<matplotlib.figure.Figure at 0x240c8d987f0>"
      ]
     },
     "metadata": {},
     "output_type": "display_data"
    }
   ],
   "source": [
    "df.Class.value_counts().plot(kind = 'bar', figsize = (15,6), color='violet' )\n",
    "plt.title(' Class Distribution ')\n",
    "plt.xlabel(' Class ')\n",
    "plt.ylabel(' Value Count ')\n",
    "plt.show()"
   ]
  },
  {
   "cell_type": "code",
   "execution_count": 65,
   "metadata": {},
   "outputs": [
    {
     "data": {
      "text/plain": [
       "7    953\n",
       "4    686\n",
       "1    568\n",
       "2    452\n",
       "6    275\n",
       "5    242\n",
       "3     89\n",
       "9     37\n",
       "8     19\n",
       "Name: Class, dtype: int64"
      ]
     },
     "execution_count": 65,
     "metadata": {},
     "output_type": "execute_result"
    }
   ],
   "source": [
    "df['Class'].value_counts()"
   ]
  },
  {
   "cell_type": "markdown",
   "metadata": {},
   "source": [
    "<font size = 3> Classes 9, 8 and 3 have very few number of data points such type of classes are called <b>Sparse Classes</b> \n",
    "    \n",
    "Sparse Classes are those that have very few total observations. <br>\n",
    "    They can be problematic for certain machine learning algorithms, causing models to be overfit.  \n",
    "<br>\n",
    "All the rest Classes ( i,e; 1, 2, 4, 5, 6, 7 ) have > 240 observations ( data points )  and Class 3, 9, 8 have < 90 observations\n",
    "\n",
    "Even Class 3, 9, 8 combined have < 150 Observations\n",
    "\n",
    "So we combine these three ( Class 3, 9, 8 ) Class to a single Class ( say we name it Class 893 ) to gain better performence from our model\n",
    "\n",
    "And we use a seperate model later to Classify these three Classes independantly "
   ]
  },
  {
   "cell_type": "markdown",
   "metadata": {},
   "source": [
    "# Feature Engg"
   ]
  },
  {
   "cell_type": "markdown",
   "metadata": {},
   "source": [
    "#  Combining Classes"
   ]
  },
  {
   "cell_type": "code",
   "execution_count": 66,
   "metadata": {},
   "outputs": [
    {
     "data": {
      "text/plain": [
       "(3321, 5)"
      ]
     },
     "execution_count": 66,
     "metadata": {},
     "output_type": "execute_result"
    }
   ],
   "source": [
    "# Sparse classes (in categorical features) are those that have very few total observations. \n",
    "#They can be problematic for certain machine learning algorithms, causing models to be overfit.\n",
    "\n",
    "data1 =  df.copy()\n",
    "data1.shape"
   ]
  },
  {
   "cell_type": "code",
   "execution_count": 67,
   "metadata": {
    "collapsed": true
   },
   "outputs": [],
   "source": [
    "newClass = []\n",
    "\n",
    "for c in data1.Class.values:\n",
    "    \n",
    "    if c == 8 or c == 9 or c == 3:\n",
    "        newClass.append(893)\n",
    "    else:\n",
    "        newClass.append(c)"
   ]
  },
  {
   "cell_type": "code",
   "execution_count": 68,
   "metadata": {
    "collapsed": true
   },
   "outputs": [],
   "source": [
    "data1['newClass'] = newClass"
   ]
  },
  {
   "cell_type": "code",
   "execution_count": 69,
   "metadata": {},
   "outputs": [
    {
     "data": {
      "image/png": "[encoded data removed]",
      "text/plain": [
       "<matplotlib.figure.Figure at 0x240c8ddddd8>"
      ]
     },
     "metadata": {},
     "output_type": "display_data"
    }
   ],
   "source": [
    "data1.newClass.value_counts().plot(kind = 'bar', figsize = (15,6), color='violet' )\n",
    "plt.title(' Class Distribution ')\n",
    "plt.xlabel(' Class ')\n",
    "plt.ylabel(' Value Count ')\n",
    "plt.show()"
   ]
  },
  {
   "cell_type": "code",
   "execution_count": 70,
   "metadata": {
    "collapsed": true
   },
   "outputs": [],
   "source": [
    "data1.drop( \"Class\", axis = 1, inplace = True )"
   ]
  },
  {
   "cell_type": "code",
   "execution_count": 71,
   "metadata": {},
   "outputs": [
    {
     "data": {
      "text/html": [
       "<div>\n",
       "<style>\n",
       "    .dataframe thead tr:only-child th {\n",
       "        text-align: right;\n",
       "    }\n",
       "\n",
       "    .dataframe thead th {\n",
       "        text-align: left;\n",
       "    }\n",
       "\n",
       "    .dataframe tbody tr th {\n",
       "        vertical-align: top;\n",
       "    }\n",
       "</style>\n",
       "<table border=\"1\" class=\"dataframe\">\n",
       "  <thead>\n",
       "    <tr style=\"text-align: right;\">\n",
       "      <th></th>\n",
       "      <th>ID</th>\n",
       "      <th>Gene</th>\n",
       "      <th>Variation</th>\n",
       "      <th>TEXT</th>\n",
       "      <th>newClass</th>\n",
       "    </tr>\n",
       "  </thead>\n",
       "  <tbody>\n",
       "    <tr>\n",
       "      <th>0</th>\n",
       "      <td>0</td>\n",
       "      <td>FAM58A</td>\n",
       "      <td>Truncating_Mutations</td>\n",
       "      <td>cyclin dependent kinases cdks regulate variety...</td>\n",
       "      <td>1</td>\n",
       "    </tr>\n",
       "    <tr>\n",
       "      <th>1</th>\n",
       "      <td>1</td>\n",
       "      <td>CBL</td>\n",
       "      <td>W802*</td>\n",
       "      <td>abstract background non small cell lung cancer...</td>\n",
       "      <td>2</td>\n",
       "    </tr>\n",
       "  </tbody>\n",
       "</table>\n",
       "</div>"
      ],
      "text/plain": [
       "   ID    Gene             Variation  \\\n",
       "0   0  FAM58A  Truncating_Mutations   \n",
       "1   1     CBL                 W802*   \n",
       "\n",
       "                                                TEXT  newClass  \n",
       "0  cyclin dependent kinases cdks regulate variety...         1  \n",
       "1  abstract background non small cell lung cancer...         2  "
      ]
     },
     "execution_count": 71,
     "metadata": {},
     "output_type": "execute_result"
    }
   ],
   "source": [
    "data1.head(2)"
   ]
  },
  {
   "cell_type": "code",
   "execution_count": 72,
   "metadata": {
    "collapsed": true
   },
   "outputs": [],
   "source": [
    "Y1 = data1['newClass']"
   ]
  },
  {
   "cell_type": "code",
   "execution_count": 73,
   "metadata": {
    "collapsed": true
   },
   "outputs": [],
   "source": [
    "# Test Train CV split\n",
    "\n",
    "from sklearn.model_selection import train_test_split\n",
    "\n",
    "xtrd1, xted1, ytrd1, yted1 = train_test_split( data1, Y1 , stratify = Y1, test_size = 0.2 )\n",
    "\n",
    "xtrd1, xcvd1, ytrd1, ycvd1 = train_test_split( xtrd1, ytrd1, stratify = ytrd1, test_size = 0.2 )"
   ]
  },
  {
   "cell_type": "code",
   "execution_count": 74,
   "metadata": {
    "collapsed": true
   },
   "outputs": [],
   "source": [
    "from sklearn.calibration import CalibratedClassifierCV\n",
    "from sklearn.metrics.classification import accuracy_score, log_loss\n",
    "from sklearn.preprocessing import normalize\n",
    "from sklearn.metrics import confusion_matrix\n",
    "from sklearn.linear_model import SGDClassifier"
   ]
  },
  {
   "cell_type": "markdown",
   "metadata": {},
   "source": [
    "### Creating Data Matrix TFIDF features"
   ]
  },
  {
   "cell_type": "code",
   "execution_count": 75,
   "metadata": {},
   "outputs": [
    {
     "name": "stdout",
     "output_type": "stream",
     "text": [
      "(2124, 226)\n",
      "(532, 226)\n",
      "(665, 226)\n",
      "(2124, 226)\n",
      "(532, 226)\n",
      "(665, 226)\n",
      "(2124, 1000)\n",
      "(532, 1000)\n",
      "(665, 1000)\n"
     ]
    }
   ],
   "source": [
    "from sklearn.feature_extraction.text import TfidfVectorizer\n",
    "\n",
    "#Genes\n",
    "gTfVect1 = TfidfVectorizer( max_features = 1000 )\n",
    "\n",
    "xtrGeneTF1 = gTfVect1.fit_transform( xtrd1['Gene'] )\n",
    "xteGeneTF1 = gTfVect1.transform( xted1['Gene'] )\n",
    "xcvGeneTF1 = gTfVect1.transform( xcvd1['Gene'] )\n",
    "\n",
    "print(xtrGeneTF1.shape )\n",
    "print(xcvGeneTF1.shape )\n",
    "print(xteGeneTF1.shape )\n",
    "\n",
    "#variation\n",
    "vTfVect1 = TfidfVectorizer( max_features = 1000 )\n",
    "\n",
    "xtrVarTF1 = vTfVect1.fit_transform( xtrd1['Variation'] )\n",
    "xteVarTF1 = vTfVect1.transform( xted1['Variation'] )\n",
    "xcvVarTF1 = vTfVect1.transform( xcvd1['Variation'] )\n",
    "\n",
    "print(xtrGeneTF1.shape )\n",
    "print(xcvGeneTF1.shape )\n",
    "print(xteGeneTF1.shape )\n",
    "\n",
    "# Text\n",
    "teTfvect1 = TfidfVectorizer( max_features = 1000 )\n",
    "\n",
    "xtrTextTF1 = teTfvect1.fit_transform( xtrd1['TEXT'] )\n",
    "\n",
    "xtrTextTF1 = normalize( xtrTextTF1 , axis=0 )\n",
    "# Don't forget to normalize every feature\n",
    "\n",
    "xteTextTF1 = teTfvect1.fit_transform( xted1['TEXT'] )\n",
    "  # we use the same vectorizer that was trained on train data\n",
    "xteTextTF1 = normalize( xteTextTF1, axis=0 )\n",
    "\n",
    "xcvTextTF1 = teTfvect1.fit_transform( xcvd1['TEXT'] )\n",
    "xcvTextTF1 = normalize( xcvTextTF1, axis=0 ) # don't forget to normalize every feature\n",
    "\n",
    "print( xtrTextTF1.shape )\n",
    "print( xcvTextTF1.shape )\n",
    "print( xteTextTF1.shape )"
   ]
  },
  {
   "cell_type": "code",
   "execution_count": 76,
   "metadata": {},
   "outputs": [
    {
     "name": "stdout",
     "output_type": "stream",
     "text": [
      "(2124, 2226)\n",
      "(665, 2226)\n",
      "(532, 2226)\n"
     ]
    }
   ],
   "source": [
    "from scipy.sparse import hstack\n",
    "\n",
    "xtr2 = hstack(( xtrGeneTF1, xtrVarTF1, xtrTextTF1 )).tocsr()\n",
    "xte2 = hstack(( xteGeneTF1, xteVarTF1, xteTextTF1 )).tocsr()\n",
    "xcv2 = hstack(( xcvGeneTF1, xcvVarTF1, xcvTextTF1 )).tocsr()\n",
    "\n",
    "print( xtr2.shape )\n",
    "print( xte2.shape )\n",
    "print( xcv2.shape )"
   ]
  },
  {
   "cell_type": "code",
   "execution_count": 77,
   "metadata": {
    "collapsed": true
   },
   "outputs": [],
   "source": [
    "import warnings\n",
    "\n",
    "warnings.filterwarnings(\"ignore\")"
   ]
  },
  {
   "cell_type": "markdown",
   "metadata": {},
   "source": [
    "## Logistic Regression TFIDF"
   ]
  },
  {
   "cell_type": "code",
   "execution_count": 90,
   "metadata": {},
   "outputs": [
    {
     "name": "stdout",
     "output_type": "stream",
     "text": [
      "For values of alpha =  1e-06  the log loss is :  1.4687972991248666\n",
      "For values of alpha =  1e-05  the log loss is :  1.4566365751620225\n",
      "For values of alpha =  0.0001  the log loss is :  1.2799290960834055\n",
      "For values of alpha =  0.001  the log loss is :  1.2299620715710688\n",
      "For values of alpha =  0.01  the log loss is :  1.3477191301676261\n",
      "For values of alpha =  0.1  the log loss is :  1.6002053472026894\n",
      "For values of alpha =  1  the log loss is :  1.7184310549069408\n",
      "For values of alpha =  10  the log loss is :  1.730941204513949\n",
      "For values of alpha =  100  the log loss is :  1.7322881002777852\n"
     ]
    }
   ],
   "source": [
    "alpha = [ 10 ** x for x in range(-6, 3) ]\n",
    "\n",
    "logError = [ ]\n",
    "\n",
    "for i in alpha :\n",
    "    classifier = SGDClassifier(class_weight='balanced', alpha = i, penalty='l2', loss='log', random_state=42)\n",
    "    classifier.fit(xtr2, ytrd1)\n",
    "    \n",
    "    # ClaibratedClassifierCV() : Probability calibration with isotonic regression or sigmoid.\n",
    "    # With this class, the base_estimator is fit on the train set of the cross-validation generator and the ......\n",
    "    # .... test set is used for calibration. The probabilities for each of the folds are then averaged for prediction\n",
    "    \n",
    "    clf = CalibratedClassifierCV( classifier, method=\"sigmoid\" )\n",
    "    \n",
    "    # base_estimator : (classifier) The classifier whose output decision func needs to be calibrated to offer more accurate...\n",
    "    # .... predict_proba outputs. If cv=prefit, the classifier must have been fit already on data.\n",
    "    \n",
    "    clf.fit(xtr2, ytrd1)\n",
    "    \n",
    "    predictY = clf.predict_proba( xcv2 )\n",
    "    \n",
    "    logError.append( log_loss( ycvd1, predictY, labels = clf.classes_, eps = 1e-15) )\n",
    "    print('For values of alpha = ', i, \" the log loss is : \",log_loss(ycvd1, predictY, labels=clf.classes_, eps=1e-15) )"
   ]
  },
  {
   "cell_type": "code",
   "execution_count": 94,
   "metadata": {},
   "outputs": [
    {
     "name": "stdout",
     "output_type": "stream",
     "text": [
      " Best alpha :  0.001\n",
      " The train log loss is :  0.7567304666109059\n",
      " The test log loss is :  1.0972456188008082\n",
      " The cv log loss is :  1.2299620715710688\n"
     ]
    }
   ],
   "source": [
    "import numpy as np \n",
    "bestA = alpha[ np.argmin(logError) ]\n",
    "\n",
    "clf = SGDClassifier(class_weight='balanced', alpha = bestA, penalty='l2', loss='log', random_state=42)\n",
    "clf.fit(xtr2, ytrd1)\n",
    "\n",
    "clf = CalibratedClassifierCV( clf, method=\"sigmoid\" )\n",
    "clf.fit(xtr2, ytrd1)\n",
    "\n",
    "print(' Best alpha : ', bestA)\n",
    "\n",
    "predictY = clf.predict_proba( xtr2 )\n",
    "print(' The train log loss is : ',log_loss( ytrd1, predictY, labels = clf.classes_, eps = 1e-15) )\n",
    "\n",
    "predictY = clf.predict_proba( xte2 )\n",
    "print(' The test log loss is : ',log_loss( yted1, predictY, labels = clf.classes_, eps = 1e-15) )\n",
    "\n",
    "predictY = clf.predict_proba( xcv2 )\n",
    "print(' The cv log loss is : ',log_loss( ycvd1, predictY, labels = clf.classes_, eps = 1e-15) )"
   ]
  },
  {
   "cell_type": "code",
   "execution_count": 95,
   "metadata": {},
   "outputs": [
    {
     "name": "stdout",
     "output_type": "stream",
     "text": [
      " % of points correctly classified :  61.65413533834586\n"
     ]
    }
   ],
   "source": [
    "y_ = clf.predict( xte2 )\n",
    "i =  y_ ^ yted1\n",
    "print(' % of points correctly classified : ', ( ( i.shape[0] - np.count_nonzero( i ) )  / i.shape[0] ) * 100 )"
   ]
  },
  {
   "cell_type": "markdown",
   "metadata": {},
   "source": [
    "## Linear SVM TFIDF"
   ]
  },
  {
   "cell_type": "code",
   "execution_count": 97,
   "metadata": {},
   "outputs": [
    {
     "name": "stdout",
     "output_type": "stream",
     "text": [
      "For values of alpha =  1e-06  the log loss is :  1.458320838533109\n",
      "For values of alpha =  1e-05  the log loss is :  1.4671068426549754\n",
      "For values of alpha =  0.0001  the log loss is :  1.3787852521888202\n",
      "For values of alpha =  0.001  the log loss is :  1.3285852523862536\n",
      "For values of alpha =  0.01  the log loss is :  1.5195654038072075\n",
      "For values of alpha =  0.1  the log loss is :  1.6202019276963164\n",
      "For values of alpha =  1  the log loss is :  1.6839625575676258\n",
      "For values of alpha =  10  the log loss is :  1.683962565155213\n",
      "For values of alpha =  100  the log loss is :  1.6839626214672128\n"
     ]
    }
   ],
   "source": [
    "alpha = [ 10 ** x for x in range(-6, 3) ]\n",
    "\n",
    "logError = [ ]\n",
    "\n",
    "for i in alpha :\n",
    "    classifier = SGDClassifier( alpha = i, penalty='l2', loss='hinge', random_state=42)\n",
    "    classifier.fit(xtr2, ytrd1)\n",
    "    \n",
    "    # ClaibratedClassifierCV() : Probability calibration with isotonic regression or sigmoid.\n",
    "    # With this class, the base_estimator is fit on the train set of the cross-validation generator and the ......\n",
    "    # .... test set is used for calibration. The probabilities for each of the folds are then averaged for prediction\n",
    "    \n",
    "    clf = CalibratedClassifierCV( classifier, method=\"sigmoid\" )\n",
    "    \n",
    "    # base_estimator : (classifier) The classifier whose output decision func needs to be calibrated to offer more accurate...\n",
    "    # .... predict_proba outputs. If cv=prefit, the classifier must have been fit already on data.\n",
    "    \n",
    "    clf.fit(xtr2, ytrd1)\n",
    "    \n",
    "    predictY = clf.predict_proba( xcv2 )\n",
    "    \n",
    "    logError.append( log_loss( ycvd1, predictY, labels = clf.classes_, eps = 1e-15) )\n",
    "    print('For values of alpha = ', i, \" the log loss is : \",log_loss(ycvd1, predictY, labels=clf.classes_, eps=1e-15) )"
   ]
  },
  {
   "cell_type": "code",
   "execution_count": 101,
   "metadata": {},
   "outputs": [
    {
     "name": "stdout",
     "output_type": "stream",
     "text": [
      " Best alpha :  0.001\n",
      " The train log loss is :  0.7231530990540695\n",
      " The test log loss is :  1.1877776963799551\n",
      " The cv log loss is :  1.3285852523862536\n"
     ]
    }
   ],
   "source": [
    "import numpy as np \n",
    "bestA = alpha[ np.argmin(logError) ]\n",
    "\n",
    "clf = SGDClassifier( alpha = bestA, penalty='l2', loss='hinge', random_state=42)\n",
    "clf.fit(xtr2, ytrd1)\n",
    "\n",
    "clf = CalibratedClassifierCV( clf, method=\"sigmoid\" )\n",
    "clf.fit(xtr2, ytrd1)\n",
    "\n",
    "print(' Best alpha : ', bestA)\n",
    "\n",
    "predictY = clf.predict_proba( xtr2 )\n",
    "print(' The train log loss is : ',log_loss( ytrd1, predictY, labels = clf.classes_, eps = 1e-15) )\n",
    "\n",
    "predictY = clf.predict_proba( xte2 )\n",
    "print(' The test log loss is : ',log_loss( yted1, predictY, labels = clf.classes_, eps = 1e-15) )\n",
    "\n",
    "predictY = clf.predict_proba( xcv2 )\n",
    "print(' The cv log loss is : ',log_loss( ycvd1, predictY, labels = clf.classes_, eps = 1e-15) )"
   ]
  },
  {
   "cell_type": "code",
   "execution_count": 102,
   "metadata": {},
   "outputs": [
    {
     "name": "stdout",
     "output_type": "stream",
     "text": [
      " % of points correctly classified :  61.65413533834586\n"
     ]
    }
   ],
   "source": [
    "y_ = clf.predict( xte2 )\n",
    "i =  y_ ^ yted1\n",
    "print(' % of points correctly classified : ', ( ( i.shape[0] - np.count_nonzero( i ) )  / i.shape[0] ) * 100 )"
   ]
  },
  {
   "cell_type": "markdown",
   "metadata": {},
   "source": [
    "## KNN TF IDF"
   ]
  },
  {
   "cell_type": "code",
   "execution_count": 133,
   "metadata": {},
   "outputs": [
    {
     "name": "stdout",
     "output_type": "stream",
     "text": [
      "For values of K =  3  the log loss is :  1.309102314493684\n",
      "For values of K =  5  the log loss is :  1.2661574452774875\n",
      "For values of K =  6  the log loss is :  1.2574809203324075\n",
      "For values of K =  7  the log loss is :  1.2606531237743746\n",
      "For values of K =  8  the log loss is :  1.2638659913118246\n",
      "For values of K =  10  the log loss is :  1.2746841007536194\n",
      "For values of K =  15  the log loss is :  1.2808868245192049\n",
      "For values of K =  19  the log loss is :  1.2935249919765313\n",
      "For values of K =  21  the log loss is :  1.2928428777610008\n",
      "For values of K =  25  the log loss is :  1.2961464790722281\n",
      "For values of K =  31  the log loss is :  1.306381082212762\n",
      "For values of K =  41  the log loss is :  1.3264890372316778\n",
      "For values of K =  51  the log loss is :  1.3425767099519093\n",
      "For values of K =  61  the log loss is :  1.3504130998505512\n",
      "For values of K =  81  the log loss is :  1.3695687972941895\n",
      "For values of K =  91  the log loss is :  1.3793026850131156\n"
     ]
    }
   ],
   "source": [
    "from sklearn.neighbors import KNeighborsClassifier\n",
    "\n",
    "k = [ 3, 5, 6, 7, 8, 10, 15, 19, 21, 25, 31, 41, 51, 61, 81, 91] # Various value of Hyperparameter\n",
    "\n",
    "logError = [ ]\n",
    "\n",
    "for i in k :\n",
    "    classifier = KNeighborsClassifier( n_neighbors = i ) \n",
    "    classifier.fit(xtr2, ytrd1)\n",
    "    \n",
    "    # ClaibratedClassifierCV() : Probability calibration with isotonic regression or sigmoid.\n",
    "    # With this class, the base_estimator is fit on the train set of the cross-validation generator and the ......\n",
    "    # .... test set is used for calibration. The probabilities for each of the folds are then averaged for prediction\n",
    "    \n",
    "    clf = CalibratedClassifierCV( classifier, method=\"sigmoid\" )\n",
    "    \n",
    "    # base_estimator : (classifier) The classifier whose output decision func needs to be calibrated to offer more accurate...\n",
    "    # .... predict_proba outputs. If cv=prefit, the classifier must have been fit already on data.\n",
    "    \n",
    "    clf.fit(xtr2, ytrd1)\n",
    "    \n",
    "    predictY = clf.predict_proba( xcv2 )\n",
    "    \n",
    "    logError.append( log_loss( ycvd1, predictY, labels = clf.classes_, eps = 1e-15) )\n",
    "    print('For values of K = ', i, \" the log loss is : \",log_loss(ycvd1, predictY, labels=clf.classes_, eps=1e-15) )"
   ]
  },
  {
   "cell_type": "code",
   "execution_count": null,
   "metadata": {
    "collapsed": true
   },
   "outputs": [],
   "source": []
  },
  {
   "cell_type": "markdown",
   "metadata": {
    "collapsed": true
   },
   "source": [
    "### Function for Response Coding of Categorical Features"
   ]
  },
  {
   "cell_type": "code",
   "execution_count": 82,
   "metadata": {
    "collapsed": true
   },
   "outputs": [],
   "source": [
    "def feaDic( alpha, feature, df ):\n",
    "    \n",
    "    count = xtrd1[ feature ].value_counts()\n",
    "    # output:\n",
    "    #        {BRCA1      174\n",
    "    #         TP53       106\n",
    "    #         EGFR        86.....\n",
    "    \n",
    "    # featDict : Feature Dict, which contains the probability array for each gene/variation\n",
    "    featDict = dict()\n",
    "    \n",
    "    # denominator will contain the number of time that particular feature occured in whole data\n",
    "    \n",
    "    for i, denominator in count.items():\n",
    "        \n",
    "        # vec will contain ( P( yi == 1 / Gi ) probability of gene/variation belongs to particular class\n",
    "        # vec is 9 diamensional vector\n",
    "        vec = []\n",
    "        \n",
    "        c = [1,2,4,5,6,7,893]\n",
    "        \n",
    "        for j in c:\n",
    "           \n",
    "            # print( xtr.loc[ ( xtr['Class'] == 1 ) & ( xtr['Gene'] == 'BRCA1' )] )\n",
    "            #         ID   Gene             Variation  Class  \n",
    "            # 2470  2470  BRCA1                S1715C      1   \n",
    "            # 2486  2486  BRCA1                S1841R      1   \n",
    "            # 2614  2614  BRCA1                   M1R      1....\n",
    "            \n",
    "            # cls_cnt.shape[0] will return the number of rows\n",
    "\n",
    "            cls_cnt = xtrd1.loc[ ( xtrd1['newClass'] == j ) & ( xtrd1[feature] == i ) ]\n",
    "            \n",
    "            # cls_cnt.shape[0] will contain the number of time that particular feature occured in the whole data\n",
    "            \n",
    "            vec.append( ( cls_cnt.shape[0] + alpha * 10 ) / ( denominator + 90 * alpha ) )\n",
    "\n",
    "        # we are adding the gene/variation to the dict as key and vec as value\n",
    "        featDict[i] = vec\n",
    "    return featDict\n",
    "\n",
    "# when we caculate the probability of a feature belongs to any particular class, we apply laplace smoothing\n",
    "# (numerator + 10 *alpha) / (denominator + 90 *alpha ) "
   ]
  },
  {
   "cell_type": "code",
   "execution_count": 83,
   "metadata": {
    "collapsed": true
   },
   "outputs": [],
   "source": [
    " \n",
    "\n",
    "def feature( alpha, feature, df ):\n",
    "   \n",
    "    featureDict = feaDic( alpha, feature, df )\n",
    "\n",
    "    count = xtrd1[feature].value_counts()\n",
    "    \n",
    "    # feat : Gene_variation feature, it will contain the feature for each feature value in the data\n",
    "    feat = []\n",
    "    \n",
    "    # for every feature values in the given data frame we will check if it is there in the train data then we will add...\n",
    "    #... the feature to gv_fea. if not we will add [1/9,1/9,1/9,1/9,1/9,1/9,1/9,1/9,1/9] to gv_fea\n",
    "    \n",
    "    for index, row in df.iterrows():\n",
    "        \n",
    "        if row[feature] in dict( count ).keys():\n",
    "            feat.append( featureDict[ row[feature] ] )\n",
    "        else:\n",
    "            feat.append([1/9,1/9,1/9,1/9,1/9,1/9,1/9])\n",
    "\n",
    "    return feat\n"
   ]
  },
  {
   "cell_type": "code",
   "execution_count": 84,
   "metadata": {},
   "outputs": [
    {
     "name": "stdout",
     "output_type": "stream",
     "text": [
      "(2124, 7)\n",
      "(532, 7)\n",
      "(665, 7)\n"
     ]
    }
   ],
   "source": [
    "# Response-coding of the Gene feature\n",
    "alpha = 1 # alpha is used for laplace smoothing\n",
    "\n",
    "xtrGeneRC = np.array( feature( alpha, \"Gene\", xtrd1) )\n",
    "xteGeneRC = np.array( feature( alpha, \"Gene\", xted1) )\n",
    "xcvGeneRC = np.array( feature( alpha, \"Gene\", xcvd1) )\n",
    "\n",
    "print(xtrGeneRC.shape )\n",
    "print(xcvGeneRC.shape )\n",
    "print(xteGeneRC.shape )\n"
   ]
  },
  {
   "cell_type": "code",
   "execution_count": 85,
   "metadata": {},
   "outputs": [
    {
     "name": "stdout",
     "output_type": "stream",
     "text": [
      "(2124, 7)\n",
      "(532, 7)\n",
      "(665, 7)\n"
     ]
    }
   ],
   "source": [
    "# Response-coding of the Variation feature\n",
    "alpha = 1 # alpha is used for laplace smoothing\n",
    "\n",
    "xtrVarRC = np.array( feature( alpha, \"Variation\", xtrd1) )\n",
    "xteVarRC = np.array( feature( alpha, \"Variation\", xted1) )\n",
    "xcvVarRC = np.array( feature( alpha, \"Variation\", xcvd1) )\n",
    "\n",
    "print(xtrVarRC.shape )\n",
    "print(xcvVarRC.shape )\n",
    "print(xteVarRC.shape )"
   ]
  },
  {
   "cell_type": "code",
   "execution_count": 105,
   "metadata": {
    "collapsed": true
   },
   "outputs": [],
   "source": [
    "from sklearn.preprocessing import normalize\n",
    "\n",
    "from collections import Counter, defaultdict"
   ]
  },
  {
   "cell_type": "code",
   "execution_count": 106,
   "metadata": {
    "collapsed": true
   },
   "outputs": [],
   "source": [
    "# cls_text is a data frame\n",
    "# 1. for every row in data fram consider the 'TEXT'\n",
    "# 2.     Split the words by space\n",
    "# 3.     Make a dict with those words\n",
    "# 4.     Increment its count whenever we see that word\n",
    "\n",
    "def extract(classText):\n",
    "    \n",
    "    dictionary = defaultdict( int )\n",
    "    \n",
    "    for index, row in classText.iterrows():\n",
    "        for word in row['TEXT'].split():\n",
    "            dictionary[word] +=1\n",
    "    return dictionary"
   ]
  },
  {
   "cell_type": "code",
   "execution_count": 107,
   "metadata": {
    "collapsed": true
   },
   "outputs": [],
   "source": [
    "import math\n",
    "def textResponseC(df):\n",
    "    \n",
    "    textFeat = np.zeros( ( df.shape[0], 7 ) )\n",
    "    \n",
    "    #c = [1,2,4,5,6,7,893]\n",
    "\n",
    "    for i in range(0,7):\n",
    "        row_index = 0\n",
    "        \n",
    "        for index, row in df.iterrows():\n",
    "            \n",
    "            prob = 0\n",
    "            for word in row['TEXT'].split():\n",
    "                prob += math.log(( ( dictli[i].get( word, 0 ) + 10 ) / ( totaldict.get( word, 0 ) + 90 ) ))\n",
    "                # here 10 and 90 are alpha fro Laplace smoothing \n",
    "            \n",
    "            textFeat[ row_index ][i] = math.exp( prob / len( row['TEXT'].split() ))\n",
    "            row_index += 1\n",
    "        \n",
    "    return textFeat\n",
    "\n",
    "# Ref : #https://stackoverflow.com/a/1602964"
   ]
  },
  {
   "cell_type": "code",
   "execution_count": null,
   "metadata": {
    "collapsed": true
   },
   "outputs": [],
   "source": []
  },
  {
   "cell_type": "code",
   "execution_count": 108,
   "metadata": {
    "collapsed": true
   },
   "outputs": [],
   "source": [
    "dictli = [] # dictli : contains 9 dictoinaries each corresponds to a class\n",
    "\n",
    "c = [1,2,4,5,6,7,893]\n",
    "\n",
    "for i in c:\n",
    "    classText = xtrd1[ xtrd1['newClass'] == i ]  # build a word dict based on the words in that class\n",
    "    dictli.append( extract( classText ) ) # append it to dictli\n",
    "\n",
    "# dictli[i] is build on i'th  class text data\n",
    "\n",
    "totaldict = extract( xtrd1 ) # totaldict is buid on whole training text data"
   ]
  },
  {
   "cell_type": "code",
   "execution_count": 109,
   "metadata": {},
   "outputs": [
    {
     "name": "stdout",
     "output_type": "stream",
     "text": [
      "(2124, 7)\n",
      "(665, 7)\n",
      "(532, 7)\n"
     ]
    }
   ],
   "source": [
    "totaldict = extract( xtrd1 ) # totaldict is buid on whole training text data\n",
    "# Response coding of text features\n",
    "\n",
    "xtrTextRC  = textResponseC( xtrd1 )\n",
    "xteTextRC  = textResponseC( xted1 )\n",
    "xcvTextRC  = textResponseC( xcvd1 )\n",
    "\n",
    "print( xtrTextRC.shape ) \n",
    "print( xteTextRC.shape ) \n",
    "print( xcvTextRC.shape ) "
   ]
  },
  {
   "cell_type": "code",
   "execution_count": 110,
   "metadata": {
    "collapsed": true
   },
   "outputs": [],
   "source": [
    "# We convert each row values such that they sum to 1  \n",
    "\n",
    "xtrTextRC = ( xtrTextRC.T / xtrTextRC.sum( axis=1 ) ).T\n",
    "xteTextRC = ( xteTextRC.T / xteTextRC.sum( axis=1 ) ).T\n",
    "xcvTextRC = ( xcvTextRC.T / xcvTextRC.sum( axis=1 ) ).T\n",
    "\n",
    "# Ref : # https://stackoverflow.com/a/16202486"
   ]
  },
  {
   "cell_type": "code",
   "execution_count": 111,
   "metadata": {},
   "outputs": [
    {
     "name": "stdout",
     "output_type": "stream",
     "text": [
      "(2124, 21)\n",
      "(665, 21)\n",
      "(532, 21)\n"
     ]
    }
   ],
   "source": [
    "\n",
    "xtrRC = np.hstack(( xtrGeneRC, xtrVarRC, xtrTextRC )) # giving error on just hstack() and not on np.hstack()\n",
    "xteRC = np.hstack(( xteGeneRC, xteVarRC, xteTextRC ))\n",
    "xcvRC = np.hstack(( xcvGeneRC, xcvVarRC, xcvTextRC ))  \n",
    "\n",
    "print( xtrRC.shape )\n",
    "print( xteRC.shape )\n",
    "print( xcvRC.shape )"
   ]
  },
  {
   "cell_type": "markdown",
   "metadata": {},
   "source": [
    "## Logistic Regression Response Coding"
   ]
  },
  {
   "cell_type": "code",
   "execution_count": 134,
   "metadata": {},
   "outputs": [
    {
     "name": "stdout",
     "output_type": "stream",
     "text": [
      "For values of alpha =  1e-06  the log loss is :  1.2097329767518612\n",
      "For values of alpha =  1e-05  the log loss is :  1.1991886238924199\n",
      "For values of alpha =  0.0001  the log loss is :  1.1871013330642404\n",
      "For values of alpha =  0.001  the log loss is :  1.2306775662446807\n",
      "For values of alpha =  0.01  the log loss is :  1.2716702604378192\n",
      "For values of alpha =  0.1  the log loss is :  1.2833499267625812\n",
      "For values of alpha =  1  the log loss is :  1.2988574185974213\n",
      "For values of alpha =  10  the log loss is :  1.4329001028086221\n",
      "For values of alpha =  100  the log loss is :  1.4882458591820107\n"
     ]
    }
   ],
   "source": [
    "alpha = [ 10 ** x for x in range(-6, 3) ]\n",
    "\n",
    "logError = [ ]\n",
    "\n",
    "for i in alpha :\n",
    "    classifier = SGDClassifier(class_weight='balanced', alpha = i, penalty='l2', loss='log', random_state=42)\n",
    "    classifier.fit(xtrRC, ytrd1)\n",
    "    \n",
    "    # ClaibratedClassifierCV() : Probability calibration with isotonic regression or sigmoid.\n",
    "    # With this class, the base_estimator is fit on the train set of the cross-validation generator and the ......\n",
    "    # .... test set is used for calibration. The probabilities for each of the folds are then averaged for prediction\n",
    "    \n",
    "    clf = CalibratedClassifierCV( classifier, method=\"sigmoid\" )\n",
    "    \n",
    "    # base_estimator : (classifier) The classifier whose output decision func needs to be calibrated to offer more accurate...\n",
    "    # .... predict_proba outputs. If cv=prefit, the classifier must have been fit already on data.\n",
    "    \n",
    "    clf.fit(xtrRC, ytrd1)\n",
    "    \n",
    "    predictY = clf.predict_proba( xcvRC )\n",
    "    \n",
    "    logError.append( log_loss( ycvd1, predictY, labels = clf.classes_, eps = 1e-15) )\n",
    "    print('For values of alpha = ', i, \" the log loss is : \",log_loss(ycvd1, predictY, labels=clf.classes_, eps=1e-15) )"
   ]
  },
  {
   "cell_type": "code",
   "execution_count": 149,
   "metadata": {},
   "outputs": [
    {
     "name": "stdout",
     "output_type": "stream",
     "text": [
      " Best alpha :  0.0001\n",
      " The train log loss is :  0.847346054797082\n",
      " The test log loss is :  1.0578775240871088\n",
      " The cv log loss is :  1.1871013330642404\n"
     ]
    }
   ],
   "source": [
    "import numpy as np \n",
    "bestA = alpha[ np.argmin(logError) ]\n",
    "\n",
    "clf = SGDClassifier(class_weight='balanced', alpha = bestA, penalty='l2', loss='log', random_state=42)\n",
    "clf.fit(xtrRC, ytrd1)\n",
    "\n",
    "clf = CalibratedClassifierCV( clf, method=\"sigmoid\" )\n",
    "clf.fit(xtrRC, ytrd1)\n",
    "\n",
    "print(' Best alpha : ', bestA)\n",
    "\n",
    "predictY = clf.predict_proba( xtrRC )\n",
    "print(' The train log loss is : ',log_loss( ytrd1, predictY, labels = clf.classes_, eps = 1e-15) )\n",
    "\n",
    "predictY = clf.predict_proba( xteRC )\n",
    "print(' The test log loss is : ',log_loss( yted1, predictY, labels = clf.classes_, eps = 1e-15) )\n",
    "\n",
    "predictY = clf.predict_proba( xcvRC )\n",
    "print(' The cv log loss is : ',log_loss( ycvd1, predictY, labels = clf.classes_, eps = 1e-15) )"
   ]
  },
  {
   "cell_type": "markdown",
   "metadata": {},
   "source": [
    "## KNN  Response Coding"
   ]
  },
  {
   "cell_type": "code",
   "execution_count": 112,
   "metadata": {},
   "outputs": [
    {
     "name": "stdout",
     "output_type": "stream",
     "text": [
      "For values of K =  3  the log loss is :  1.1496646063660707\n",
      "For values of K =  5  the log loss is :  1.1271072704794478\n",
      "For values of K =  6  the log loss is :  1.124875237202507\n",
      "For values of K =  7  the log loss is :  1.1298541755794924\n",
      "For values of K =  8  the log loss is :  1.1228641944883615\n",
      "For values of K =  10  the log loss is :  1.1318325684713941\n",
      "For values of K =  15  the log loss is :  1.1561685601388505\n",
      "For values of K =  19  the log loss is :  1.170575958728822\n",
      "For values of K =  21  the log loss is :  1.1782535432088335\n",
      "For values of K =  25  the log loss is :  1.1839933122361526\n",
      "For values of K =  31  the log loss is :  1.195787700430199\n",
      "For values of K =  41  the log loss is :  1.206799952666955\n",
      "For values of K =  51  the log loss is :  1.2117733390622996\n",
      "For values of K =  61  the log loss is :  1.2167668204386415\n",
      "For values of K =  81  the log loss is :  1.2332846602789427\n",
      "For values of K =  91  the log loss is :  1.224721744635219\n"
     ]
    }
   ],
   "source": [
    "from sklearn.neighbors import KNeighborsClassifier\n",
    "\n",
    "k = [ 3, 5, 6, 7, 8, 10, 15, 19, 21, 25, 31, 41, 51, 61, 81, 91] # Various value of Hyperparameter\n",
    "\n",
    "logError = [ ]\n",
    "\n",
    "for i in k :\n",
    "    classifier = KNeighborsClassifier( n_neighbors = i ) \n",
    "    classifier.fit(xtrRC, ytrd1)\n",
    "    \n",
    "    # ClaibratedClassifierCV() : Probability calibration with isotonic regression or sigmoid.\n",
    "    # With this class, the base_estimator is fit on the train set of the cross-validation generator and the ......\n",
    "    # .... test set is used for calibration. The probabilities for each of the folds are then averaged for prediction\n",
    "    \n",
    "    clf = CalibratedClassifierCV( classifier, method=\"sigmoid\" )\n",
    "    \n",
    "    # base_estimator : (classifier) The classifier whose output decision func needs to be calibrated to offer more accurate...\n",
    "    # .... predict_proba outputs. If cv=prefit, the classifier must have been fit already on data.\n",
    "    \n",
    "    clf.fit(xtrRC, ytrd1)\n",
    "    \n",
    "    predictY = clf.predict_proba( xcvRC )\n",
    "    \n",
    "    logError.append( log_loss( ycvd1, predictY, labels = clf.classes_, eps = 1e-15) )\n",
    "    print('For values of K = ', i, \" the log loss is : \",log_loss(ycvd1, predictY, labels=clf.classes_, eps=1e-15) )"
   ]
  },
  {
   "cell_type": "code",
   "execution_count": 113,
   "metadata": {},
   "outputs": [
    {
     "name": "stdout",
     "output_type": "stream",
     "text": [
      " Best K :  8\n",
      " The train log loss is :  0.5460165182858353\n",
      " The test log loss is :  1.0314135355026817\n",
      " The cv log loss is :  1.1228641944883615\n"
     ]
    }
   ],
   "source": [
    "bestk = k[np.argmin( logError )]\n",
    "\n",
    "clf = KNeighborsClassifier( n_neighbors = bestk )\n",
    "clf.fit(xtrRC, ytrd1)\n",
    "\n",
    "clf = CalibratedClassifierCV( clf, method=\"sigmoid\" )\n",
    "clf.fit(xtrRC, ytrd1)\n",
    "\n",
    "print(' Best K : ', bestk)\n",
    "\n",
    "predictY = clf.predict_proba( xtrRC )\n",
    "print(' The train log loss is : ',log_loss( ytrd1, predictY, labels = clf.classes_, eps = 1e-15) )\n",
    "\n",
    "predictY = clf.predict_proba( xteRC )\n",
    "print(' The test log loss is : ',log_loss( yted1, predictY, labels = clf.classes_, eps = 1e-15) )\n",
    "\n",
    "predictY = clf.predict_proba( xcvRC )\n",
    "print(' The cv log loss is : ',log_loss( ycvd1, predictY, labels = clf.classes_, eps = 1e-15) )"
   ]
  },
  {
   "cell_type": "code",
   "execution_count": 114,
   "metadata": {},
   "outputs": [
    {
     "name": "stdout",
     "output_type": "stream",
     "text": [
      " % of points correctly classified :  60.902255639097746\n"
     ]
    }
   ],
   "source": [
    "y_ = clf.predict( xcvRC )\n",
    "i =  y_ ^ ycvd1\n",
    "print(' % of points correctly classified : ', ( ( i.shape[0] - np.count_nonzero( i ) )  / i.shape[0] ) * 100 )"
   ]
  },
  {
   "cell_type": "markdown",
   "metadata": {},
   "source": [
    "# Random Forest"
   ]
  },
  {
   "cell_type": "markdown",
   "metadata": {},
   "source": [
    "### Response Coding"
   ]
  },
  {
   "cell_type": "code",
   "execution_count": 53,
   "metadata": {},
   "outputs": [
    {
     "name": "stdout",
     "output_type": "stream",
     "text": [
      "For values of alpha =  100  and depth =  2  the log loss is :  1.8135106327650334\n",
      "For values of alpha =  100  and depth =  5  the log loss is :  1.4653435642351722\n",
      "For values of alpha =  100  and depth =  7  the log loss is :  1.5518833462740955\n",
      "For values of alpha =  100  and depth =  10  the log loss is :  1.8170193084122674\n",
      "For values of alpha =  200  and depth =  2  the log loss is :  1.8584374638726346\n",
      "For values of alpha =  200  and depth =  5  the log loss is :  1.3582053710797792\n",
      "For values of alpha =  200  and depth =  7  the log loss is :  1.4448862491701397\n",
      "For values of alpha =  200  and depth =  10  the log loss is :  1.7739596446510717\n",
      "For values of alpha =  300  and depth =  2  the log loss is :  1.6753668927828127\n",
      "For values of alpha =  300  and depth =  5  the log loss is :  1.3287588166618869\n",
      "For values of alpha =  300  and depth =  7  the log loss is :  1.416561059059895\n",
      "For values of alpha =  300  and depth =  10  the log loss is :  1.7484154939873404\n",
      "For values of alpha =  500  and depth =  2  the log loss is :  1.8231509845333473\n",
      "For values of alpha =  500  and depth =  5  the log loss is :  1.327916658232618\n",
      "For values of alpha =  500  and depth =  7  the log loss is :  1.4342177599855181\n",
      "For values of alpha =  500  and depth =  10  the log loss is :  1.7532803171194906\n",
      "For values of alpha =  1000  and depth =  2  the log loss is :  1.670741882974861\n",
      "For values of alpha =  1000  and depth =  5  the log loss is :  1.3795847176007232\n",
      "For values of alpha =  1000  and depth =  7  the log loss is :  1.4717070568993684\n",
      "For values of alpha =  1000  and depth =  10  the log loss is :  1.7623378566698389\n"
     ]
    }
   ],
   "source": [
    "from sklearn.ensemble import RandomForestClassifier\n",
    "\n",
    "alpha = [100,200,300, 500,1000] # Various value of Hyperparameter\n",
    "max_depth = [2, 5, 7, 10]\n",
    "\n",
    "logError = [ ]\n",
    "\n",
    "for i in alpha :\n",
    "    for j in max_depth:\n",
    "        classifier = RandomForestClassifier(n_estimators=i, criterion='gini', max_depth=j, random_state=42, n_jobs=-1)\n",
    "        classifier.fit(xtrRC, ytrd1)\n",
    "\n",
    "        # ClaibratedClassifierCV() : Probability calibration with isotonic regression or sigmoid.\n",
    "        # With this class, the base_estimator is fit on the train set of the cross-validation generator and the ......\n",
    "        # .... test set is used for calibration. The probabilities for each of the folds are then averaged for prediction\n",
    "\n",
    "        clf = CalibratedClassifierCV( classifier, method=\"sigmoid\" )\n",
    "\n",
    "        # base_estimator : (classifier) The classifier whose output decision func needs to be calibrated to offer more accurate...\n",
    "        # .... predict_proba outputs. If cv=prefit, the classifier must have been fit already on data.\n",
    "\n",
    "        clf.fit(xtrRC, ytrd1)\n",
    "\n",
    "        predictY = clf.predict_proba( xcvRC )\n",
    "\n",
    "        logError.append( log_loss( ycvd1, predictY, labels = clf.classes_, eps = 1e-15) )\n",
    "        print('For values of alpha = ', i,' and depth = ', j, \" the log loss is : \",log_loss(ycvd1, predictY, labels=clf.classes_, eps=1e-15) )"
   ]
  },
  {
   "cell_type": "markdown",
   "metadata": {},
   "source": [
    "### TFIDF"
   ]
  },
  {
   "cell_type": "code",
   "execution_count": 76,
   "metadata": {},
   "outputs": [
    {
     "name": "stdout",
     "output_type": "stream",
     "text": [
      "For values of alpha =  100  and depth =  5  the log loss is :  1.8286017630445017\n",
      "For values of alpha =  100  and depth =  10  the log loss is :  1.8095730920310142\n",
      "For values of alpha =  100  and depth =  20  the log loss is :  1.7970179946986695\n",
      "For values of alpha =  200  and depth =  5  the log loss is :  1.8133310093991468\n",
      "For values of alpha =  200  and depth =  10  the log loss is :  1.7959032569314377\n",
      "For values of alpha =  200  and depth =  20  the log loss is :  1.7875699946931947\n",
      "For values of alpha =  500  and depth =  5  the log loss is :  1.7955359030590359\n",
      "For values of alpha =  500  and depth =  10  the log loss is :  1.7885713206960039\n",
      "For values of alpha =  500  and depth =  20  the log loss is :  1.782934556969202\n",
      "For values of alpha =  1000  and depth =  5  the log loss is :  1.7958811959984269\n",
      "For values of alpha =  1000  and depth =  10  the log loss is :  1.7904618647087542\n",
      "For values of alpha =  1000  and depth =  20  the log loss is :  1.7854094176380635\n",
      "For values of alpha =  2000  and depth =  5  the log loss is :  1.7899986769176195\n",
      "For values of alpha =  2000  and depth =  10  the log loss is :  1.7904137314578212\n",
      "For values of alpha =  2000  and depth =  20  the log loss is :  1.7852703737447695\n"
     ]
    }
   ],
   "source": [
    "alpha = [100,200,500,1000,2000] # Various value of Hyperparameter\n",
    "max_depth = [5, 10, 20]\n",
    "\n",
    "logError = [ ]\n",
    "\n",
    "for i in alpha :\n",
    "    for j in max_depth:\n",
    "        classifier = RandomForestClassifier(n_estimators=i, criterion='gini', max_depth=j, random_state=42, n_jobs=-1)\n",
    "        classifier.fit(xtr2, ytrd1)\n",
    "\n",
    "        # ClaibratedClassifierCV() : Probability calibration with isotonic regression or sigmoid.\n",
    "        # With this class, the base_estimator is fit on the train set of the cross-validation generator and the ......\n",
    "        # .... test set is used for calibration. The probabilities for each of the folds are then averaged for prediction\n",
    "\n",
    "        clf = CalibratedClassifierCV( classifier, method=\"sigmoid\" )\n",
    "\n",
    "        # base_estimator : (classifier) The classifier whose output decision func needs to be calibrated to offer more accurate...\n",
    "        # .... predict_proba outputs. If cv=prefit, the classifier must have been fit already on data.\n",
    "\n",
    "        clf.fit(xtr2, ytrd1)\n",
    "\n",
    "        predictY = clf.predict_proba( xcv2 )\n",
    "\n",
    "        logError.append( log_loss( ycvd1, predictY, labels = clf.classes_, eps = 1e-15) )\n",
    "        print('For values of alpha = ', i,' and depth = ', j, \" the log loss is : \",log_loss(ycvd1, predictY, labels=clf.classes_, eps=1e-15) )"
   ]
  },
  {
   "cell_type": "markdown",
   "metadata": {
    "collapsed": true
   },
   "source": [
    "## XG Boost Response Coding features"
   ]
  },
  {
   "cell_type": "code",
   "execution_count": 56,
   "metadata": {},
   "outputs": [
    {
     "name": "stdout",
     "output_type": "stream",
     "text": [
      "For values of alpha =  0.01  and depth =  1  the log loss is :  3.959960525623231\n",
      "For values of alpha =  0.01  and depth =  5  the log loss is :  2.540907705410178\n",
      "For values of alpha =  0.01  and depth =  10  the log loss is :  2.535579048226781\n",
      "For values of alpha =  0.01  and depth =  50  the log loss is :  2.535579048226781\n",
      "For values of alpha =  0.01  and depth =  100  the log loss is :  2.535579048226781\n",
      "For values of alpha =  0.01  and depth =  500  the log loss is :  2.535579048226781\n",
      "For values of alpha =  0.1  and depth =  1  the log loss is :  3.959960525623231\n",
      "For values of alpha =  0.1  and depth =  5  the log loss is :  2.540907705410178\n",
      "For values of alpha =  0.1  and depth =  10  the log loss is :  2.535579048226781\n",
      "For values of alpha =  0.1  and depth =  50  the log loss is :  2.535579048226781\n",
      "For values of alpha =  0.1  and depth =  100  the log loss is :  2.535579048226781\n",
      "For values of alpha =  0.1  and depth =  500  the log loss is :  2.535579048226781\n",
      "For values of alpha =  0  and depth =  1  the log loss is :  3.959960525623231\n",
      "For values of alpha =  0  and depth =  5  the log loss is :  2.540907705410178\n",
      "For values of alpha =  0  and depth =  10  the log loss is :  2.535579048226781\n",
      "For values of alpha =  0  and depth =  50  the log loss is :  2.535579048226781\n",
      "For values of alpha =  0  and depth =  100  the log loss is :  2.535579048226781\n",
      "For values of alpha =  0  and depth =  500  the log loss is :  2.535579048226781\n",
      "For values of alpha =  1  and depth =  1  the log loss is :  3.959960525623231\n",
      "For values of alpha =  1  and depth =  5  the log loss is :  2.540907705410178\n",
      "For values of alpha =  1  and depth =  10  the log loss is :  2.535579048226781\n",
      "For values of alpha =  1  and depth =  50  the log loss is :  2.535579048226781\n",
      "For values of alpha =  1  and depth =  100  the log loss is :  2.535579048226781\n",
      "For values of alpha =  1  and depth =  500  the log loss is :  2.535579048226781\n"
     ]
    }
   ],
   "source": [
    "import xgboost as xgb\n",
    "\n",
    "max_depth = [ 1, 5, 10, 50, 100, 500 ]\n",
    "learning_rate = [ 0.01, 0.1, 0 , 1  ]\n",
    "\n",
    "logError = [ ]\n",
    "\n",
    "for i in learning_rate :\n",
    "    for j in max_depth:\n",
    "        \n",
    "        classifier = xgb.XGBClassifier( objective = \"binary:logistic\", random_state = 42, max_depth = j, eta = i )\n",
    "        classifier.fit(xtrRC, ytrd1)\n",
    "\n",
    "        # ClaibratedClassifierCV() : Probability calibration with isotonic regression or sigmoid.\n",
    "        # With this class, the base_estimator is fit on the train set of the cross-validation generator and the ......\n",
    "        # .... test set is used for calibration. The probabilities for each of the folds are then averaged for prediction\n",
    "\n",
    "        clf = CalibratedClassifierCV( classifier, method=\"sigmoid\" )\n",
    "\n",
    "        # base_estimator : (classifier) The classifier whose output decision func needs to be calibrated to offer more accurate...\n",
    "        # .... predict_proba outputs. If cv=prefit, the classifier must have been fit already on data.\n",
    "\n",
    "        clf.fit(xtrRC, ytrd1)\n",
    "\n",
    "        predictY = clf.predict_proba( xcvRC )\n",
    "\n",
    "        logError.append( log_loss( ycvd1, predictY, labels = clf.classes_, eps = 1e-15) )\n",
    "        print('For values of alpha = ', i,' and depth = ', j, \" the log loss is : \",log_loss(ycvd1, predictY, labels=clf.classes_, eps=1e-15) )"
   ]
  },
  {
   "cell_type": "code",
   "execution_count": 153,
   "metadata": {},
   "outputs": [
    {
     "name": "stdout",
     "output_type": "stream",
     "text": [
      "+-------------------------------+------------------+------------------+---------------+-----------------+\n",
      "|             Model             |  Featurization   |  Train log loss  |  CV log loss  |  Test log loss  |\n",
      "+-------------------------------+------------------+------------------+---------------+-----------------+\n",
      "|      Logistic Regression      |      TFIDF       |      0.7567      |     1.2299    |      1.0972     |\n",
      "|  Linear SVM (balanced class)  |      TFIDF       |      0.7231      |     1.3285    |      1.1877     |\n",
      "|      K Nearest Neighbour      |      TFIDF       |        *         |     1.2574    |        *        |\n",
      "|         Random Forest         |      TFIDF       |        *         |     1.7852    |        *        |\n",
      "|      Logistic Regression      |  ResponseCoding  |      0.8473      |     1.1871    |      1.0578     |\n",
      "|      K Nearest Neighbour      |  ResponseCoding  |      0.5460      |     1.1228    |      1.0314     |\n",
      "|         Random Forest         |  ResponseCoding  |        *         |     1.3279    |        *        |\n",
      "|            XG Boost           |  ResponseCoding  |        *         |     2.5355    |        *        |\n",
      "+-------------------------------+------------------+------------------+---------------+-----------------+\n",
      "\n",
      "\t\t\t * : ignored calculation since CV log loss > 1.2 \n"
     ]
    }
   ],
   "source": [
    "from prettytable import PrettyTable\n",
    "    \n",
    "x = PrettyTable()\n",
    "   \n",
    "x.field_names = [ \" Model \", \" Featurization \", \" Train log loss \", \" CV log loss \", \" Test log loss \" ]\n",
    "\n",
    "x.add_row( [ \" Logistic Regression \", \" TFIDF \", \" 0.7567 \", \" 1.2299 \", \" 1.0972 \" ] )\n",
    "x.add_row( [ \" Linear SVM (balanced class) \", \" TFIDF \", \" 0.7231 \", \" 1.3285 \", \" 1.1877 \" ] )\n",
    "x.add_row( [ \" K Nearest Neighbour \", \" TFIDF \", \" * \", \" 1.2574 \", \" * \" ] )\n",
    "x.add_row( [ \" Random Forest \", \" TFIDF \", \" * \", \" 1.7852 \", \" * \" ] )\n",
    "\n",
    "x.add_row( [ \" Logistic Regression \", \" ResponseCoding \", \" 0.8473 \", \" 1.1871 \", \" 1.0578 \" ] )\n",
    "x.add_row( [ \" K Nearest Neighbour \", \" ResponseCoding \", \" 0.5460 \", \" 1.1228 \", \" 1.0314 \" ] )\n",
    "x.add_row( [ \" Random Forest \", \" ResponseCoding \", \" * \", \" 1.3279 \", \" * \" ] )\n",
    "x.add_row( [ \" XG Boost \", \" ResponseCoding \", \" * \", \" 2.5355 \", \" * \" ] )\n",
    "\n",
    "\n",
    "print( x )\n",
    "print(\"\\n\\t\\t\\t * : ignored calculation since CV log loss > 1.2 \")\n",
    "# Ref : http://zetcode.com/python/prettytable/"
   ]
  },
  {
   "cell_type": "markdown",
   "metadata": {},
   "source": [
    "Since the log loss is not still not quite low ( < 1.0 ) we need to perform futher Feature Engineering <br><br>"
   ]
  },
  {
   "cell_type": "markdown",
   "metadata": {
    "collapsed": true
   },
   "source": [
    "# Creating new features + combining classes"
   ]
  },
  {
   "cell_type": "code",
   "execution_count": 13,
   "metadata": {},
   "outputs": [
    {
     "data": {
      "text/plain": [
       "(3321, 5)"
      ]
     },
     "execution_count": 13,
     "metadata": {},
     "output_type": "execute_result"
    }
   ],
   "source": [
    "data2 =  data1.copy()\n",
    "data2.shape"
   ]
  },
  {
   "cell_type": "code",
   "execution_count": 14,
   "metadata": {},
   "outputs": [
    {
     "data": {
      "text/html": [
       "<div>\n",
       "<style>\n",
       "    .dataframe thead tr:only-child th {\n",
       "        text-align: right;\n",
       "    }\n",
       "\n",
       "    .dataframe thead th {\n",
       "        text-align: left;\n",
       "    }\n",
       "\n",
       "    .dataframe tbody tr th {\n",
       "        vertical-align: top;\n",
       "    }\n",
       "</style>\n",
       "<table border=\"1\" class=\"dataframe\">\n",
       "  <thead>\n",
       "    <tr style=\"text-align: right;\">\n",
       "      <th></th>\n",
       "      <th>ID</th>\n",
       "      <th>Gene</th>\n",
       "      <th>Variation</th>\n",
       "      <th>TEXT</th>\n",
       "      <th>newClass</th>\n",
       "    </tr>\n",
       "  </thead>\n",
       "  <tbody>\n",
       "    <tr>\n",
       "      <th>0</th>\n",
       "      <td>0</td>\n",
       "      <td>FAM58A</td>\n",
       "      <td>Truncating_Mutations</td>\n",
       "      <td>cyclin dependent kinases cdks regulate variety...</td>\n",
       "      <td>1</td>\n",
       "    </tr>\n",
       "    <tr>\n",
       "      <th>1</th>\n",
       "      <td>1</td>\n",
       "      <td>CBL</td>\n",
       "      <td>W802*</td>\n",
       "      <td>abstract background non small cell lung cancer...</td>\n",
       "      <td>2</td>\n",
       "    </tr>\n",
       "  </tbody>\n",
       "</table>\n",
       "</div>"
      ],
      "text/plain": [
       "   ID    Gene             Variation  \\\n",
       "0   0  FAM58A  Truncating_Mutations   \n",
       "1   1     CBL                 W802*   \n",
       "\n",
       "                                                TEXT  newClass  \n",
       "0  cyclin dependent kinases cdks regulate variety...         1  \n",
       "1  abstract background non small cell lung cancer...         2  "
      ]
     },
     "execution_count": 14,
     "metadata": {},
     "output_type": "execute_result"
    }
   ],
   "source": [
    "data2.head(2)"
   ]
  },
  {
   "cell_type": "code",
   "execution_count": 15,
   "metadata": {},
   "outputs": [
    {
     "data": {
      "text/plain": [
       "25"
      ]
     },
     "execution_count": 15,
     "metadata": {},
     "output_type": "execute_result"
    }
   ],
   "source": [
    "gene = dict( data2.Gene.value_counts() )\n",
    "len( gene )\n",
    "gene['CBL']"
   ]
  },
  {
   "cell_type": "code",
   "execution_count": 16,
   "metadata": {
    "collapsed": true
   },
   "outputs": [],
   "source": [
    "# Loop for calculating len of each Gene feature and no. of time it appears in the dataset\n",
    "\n",
    "li = []\n",
    "le = []\n",
    "for ge in data2.Gene:\n",
    "    li.append( gene[ ge ] )\n",
    "    le.append( len(ge) )\n",
    "data2['countGene'] = li\n",
    "data2['lenGene'] = le"
   ]
  },
  {
   "cell_type": "code",
   "execution_count": 17,
   "metadata": {},
   "outputs": [
    {
     "data": {
      "text/html": [
       "<div>\n",
       "<style>\n",
       "    .dataframe thead tr:only-child th {\n",
       "        text-align: right;\n",
       "    }\n",
       "\n",
       "    .dataframe thead th {\n",
       "        text-align: left;\n",
       "    }\n",
       "\n",
       "    .dataframe tbody tr th {\n",
       "        vertical-align: top;\n",
       "    }\n",
       "</style>\n",
       "<table border=\"1\" class=\"dataframe\">\n",
       "  <thead>\n",
       "    <tr style=\"text-align: right;\">\n",
       "      <th></th>\n",
       "      <th>ID</th>\n",
       "      <th>Gene</th>\n",
       "      <th>Variation</th>\n",
       "      <th>TEXT</th>\n",
       "      <th>newClass</th>\n",
       "      <th>countGene</th>\n",
       "      <th>lenGene</th>\n",
       "    </tr>\n",
       "  </thead>\n",
       "  <tbody>\n",
       "    <tr>\n",
       "      <th>0</th>\n",
       "      <td>0</td>\n",
       "      <td>FAM58A</td>\n",
       "      <td>Truncating_Mutations</td>\n",
       "      <td>cyclin dependent kinases cdks regulate variety...</td>\n",
       "      <td>1</td>\n",
       "      <td>1</td>\n",
       "      <td>6</td>\n",
       "    </tr>\n",
       "    <tr>\n",
       "      <th>1</th>\n",
       "      <td>1</td>\n",
       "      <td>CBL</td>\n",
       "      <td>W802*</td>\n",
       "      <td>abstract background non small cell lung cancer...</td>\n",
       "      <td>2</td>\n",
       "      <td>25</td>\n",
       "      <td>3</td>\n",
       "    </tr>\n",
       "    <tr>\n",
       "      <th>2</th>\n",
       "      <td>2</td>\n",
       "      <td>CBL</td>\n",
       "      <td>Q249E</td>\n",
       "      <td>abstract background non small cell lung cancer...</td>\n",
       "      <td>2</td>\n",
       "      <td>25</td>\n",
       "      <td>3</td>\n",
       "    </tr>\n",
       "    <tr>\n",
       "      <th>3</th>\n",
       "      <td>3</td>\n",
       "      <td>CBL</td>\n",
       "      <td>N454D</td>\n",
       "      <td>recent evidence demonstrated acquired uniparen...</td>\n",
       "      <td>893</td>\n",
       "      <td>25</td>\n",
       "      <td>3</td>\n",
       "    </tr>\n",
       "    <tr>\n",
       "      <th>4</th>\n",
       "      <td>4</td>\n",
       "      <td>CBL</td>\n",
       "      <td>L399V</td>\n",
       "      <td>oncogenic mutations monomeric casitas b lineag...</td>\n",
       "      <td>4</td>\n",
       "      <td>25</td>\n",
       "      <td>3</td>\n",
       "    </tr>\n",
       "  </tbody>\n",
       "</table>\n",
       "</div>"
      ],
      "text/plain": [
       "   ID    Gene             Variation  \\\n",
       "0   0  FAM58A  Truncating_Mutations   \n",
       "1   1     CBL                 W802*   \n",
       "2   2     CBL                 Q249E   \n",
       "3   3     CBL                 N454D   \n",
       "4   4     CBL                 L399V   \n",
       "\n",
       "                                                TEXT  newClass  countGene  \\\n",
       "0  cyclin dependent kinases cdks regulate variety...         1          1   \n",
       "1  abstract background non small cell lung cancer...         2         25   \n",
       "2  abstract background non small cell lung cancer...         2         25   \n",
       "3  recent evidence demonstrated acquired uniparen...       893         25   \n",
       "4  oncogenic mutations monomeric casitas b lineag...         4         25   \n",
       "\n",
       "   lenGene  \n",
       "0        6  \n",
       "1        3  \n",
       "2        3  \n",
       "3        3  \n",
       "4        3  "
      ]
     },
     "execution_count": 17,
     "metadata": {},
     "output_type": "execute_result"
    }
   ],
   "source": [
    "data2.head()"
   ]
  },
  {
   "cell_type": "code",
   "execution_count": 18,
   "metadata": {},
   "outputs": [
    {
     "data": {
      "text/plain": [
       "93"
      ]
     },
     "execution_count": 18,
     "metadata": {},
     "output_type": "execute_result"
    }
   ],
   "source": [
    "var = dict( data2.Variation.value_counts() )\n",
    "len(var)\n",
    "var['Truncating_Mutations']"
   ]
  },
  {
   "cell_type": "code",
   "execution_count": 19,
   "metadata": {
    "collapsed": true
   },
   "outputs": [],
   "source": [
    "# Loop for calculating len of each Variation feature and no. of time it appears in the dataset\n",
    "\n",
    "li = []\n",
    "le = []\n",
    "for v in data2.Variation:\n",
    "    li.append( var[ v ] )\n",
    "    le.append( len(v) )\n",
    "data2['countVar'] = li\n",
    "data2['lenVar'] = le"
   ]
  },
  {
   "cell_type": "code",
   "execution_count": 20,
   "metadata": {},
   "outputs": [
    {
     "data": {
      "text/html": [
       "<div>\n",
       "<style>\n",
       "    .dataframe thead tr:only-child th {\n",
       "        text-align: right;\n",
       "    }\n",
       "\n",
       "    .dataframe thead th {\n",
       "        text-align: left;\n",
       "    }\n",
       "\n",
       "    .dataframe tbody tr th {\n",
       "        vertical-align: top;\n",
       "    }\n",
       "</style>\n",
       "<table border=\"1\" class=\"dataframe\">\n",
       "  <thead>\n",
       "    <tr style=\"text-align: right;\">\n",
       "      <th></th>\n",
       "      <th>ID</th>\n",
       "      <th>Gene</th>\n",
       "      <th>Variation</th>\n",
       "      <th>TEXT</th>\n",
       "      <th>newClass</th>\n",
       "      <th>countGene</th>\n",
       "      <th>lenGene</th>\n",
       "      <th>countVar</th>\n",
       "      <th>lenVar</th>\n",
       "    </tr>\n",
       "  </thead>\n",
       "  <tbody>\n",
       "    <tr>\n",
       "      <th>0</th>\n",
       "      <td>0</td>\n",
       "      <td>FAM58A</td>\n",
       "      <td>Truncating_Mutations</td>\n",
       "      <td>cyclin dependent kinases cdks regulate variety...</td>\n",
       "      <td>1</td>\n",
       "      <td>1</td>\n",
       "      <td>6</td>\n",
       "      <td>93</td>\n",
       "      <td>20</td>\n",
       "    </tr>\n",
       "    <tr>\n",
       "      <th>1</th>\n",
       "      <td>1</td>\n",
       "      <td>CBL</td>\n",
       "      <td>W802*</td>\n",
       "      <td>abstract background non small cell lung cancer...</td>\n",
       "      <td>2</td>\n",
       "      <td>25</td>\n",
       "      <td>3</td>\n",
       "      <td>1</td>\n",
       "      <td>5</td>\n",
       "    </tr>\n",
       "    <tr>\n",
       "      <th>2</th>\n",
       "      <td>2</td>\n",
       "      <td>CBL</td>\n",
       "      <td>Q249E</td>\n",
       "      <td>abstract background non small cell lung cancer...</td>\n",
       "      <td>2</td>\n",
       "      <td>25</td>\n",
       "      <td>3</td>\n",
       "      <td>1</td>\n",
       "      <td>5</td>\n",
       "    </tr>\n",
       "    <tr>\n",
       "      <th>3</th>\n",
       "      <td>3</td>\n",
       "      <td>CBL</td>\n",
       "      <td>N454D</td>\n",
       "      <td>recent evidence demonstrated acquired uniparen...</td>\n",
       "      <td>893</td>\n",
       "      <td>25</td>\n",
       "      <td>3</td>\n",
       "      <td>1</td>\n",
       "      <td>5</td>\n",
       "    </tr>\n",
       "    <tr>\n",
       "      <th>4</th>\n",
       "      <td>4</td>\n",
       "      <td>CBL</td>\n",
       "      <td>L399V</td>\n",
       "      <td>oncogenic mutations monomeric casitas b lineag...</td>\n",
       "      <td>4</td>\n",
       "      <td>25</td>\n",
       "      <td>3</td>\n",
       "      <td>1</td>\n",
       "      <td>5</td>\n",
       "    </tr>\n",
       "  </tbody>\n",
       "</table>\n",
       "</div>"
      ],
      "text/plain": [
       "   ID    Gene             Variation  \\\n",
       "0   0  FAM58A  Truncating_Mutations   \n",
       "1   1     CBL                 W802*   \n",
       "2   2     CBL                 Q249E   \n",
       "3   3     CBL                 N454D   \n",
       "4   4     CBL                 L399V   \n",
       "\n",
       "                                                TEXT  newClass  countGene  \\\n",
       "0  cyclin dependent kinases cdks regulate variety...         1          1   \n",
       "1  abstract background non small cell lung cancer...         2         25   \n",
       "2  abstract background non small cell lung cancer...         2         25   \n",
       "3  recent evidence demonstrated acquired uniparen...       893         25   \n",
       "4  oncogenic mutations monomeric casitas b lineag...         4         25   \n",
       "\n",
       "   lenGene  countVar  lenVar  \n",
       "0        6        93      20  \n",
       "1        3         1       5  \n",
       "2        3         1       5  \n",
       "3        3         1       5  \n",
       "4        3         1       5  "
      ]
     },
     "execution_count": 20,
     "metadata": {},
     "output_type": "execute_result"
    }
   ],
   "source": [
    "data2.head()"
   ]
  },
  {
   "cell_type": "code",
   "execution_count": 21,
   "metadata": {
    "collapsed": true
   },
   "outputs": [],
   "source": [
    "a = data2['TEXT']\n",
    "a = list(a)\n",
    "len(a)"
   ]
  },
  {
   "cell_type": "code",
   "execution_count": 23,
   "metadata": {
    "collapsed": true
   },
   "outputs": [],
   "source": [
    "from tqdm import tqdm\n",
    "from statistics import mode\n",
    "from collections import Counter"
   ]
  },
  {
   "cell_type": "markdown",
   "metadata": {},
   "source": [
    "word = []\n",
    "max = []\n",
    "for sent in tqdm( a ) :\n",
    "    for w in sent.split():\n",
    "          word.append(w)\n",
    "    mc = Counter(word)\n",
    "    max.append(mc)"
   ]
  },
  {
   "cell_type": "code",
   "execution_count": 24,
   "metadata": {},
   "outputs": [
    {
     "name": "stderr",
     "output_type": "stream",
     "text": [
      "100%|█████████████████████████████████████████████████████████████████████████| 3321/3321 [00:00<00:00, 1110788.16it/s]\n"
     ]
    }
   ],
   "source": [
    "# Loop for calculating len of each TEXT features\n",
    "le = []\n",
    "for sent in tqdm( a ):\n",
    "    le.append( len(sent) )\n",
    "\n",
    "data2['lenText'] = le"
   ]
  },
  {
   "cell_type": "code",
   "execution_count": 25,
   "metadata": {},
   "outputs": [
    {
     "data": {
      "text/html": [
       "<div>\n",
       "<style>\n",
       "    .dataframe thead tr:only-child th {\n",
       "        text-align: right;\n",
       "    }\n",
       "\n",
       "    .dataframe thead th {\n",
       "        text-align: left;\n",
       "    }\n",
       "\n",
       "    .dataframe tbody tr th {\n",
       "        vertical-align: top;\n",
       "    }\n",
       "</style>\n",
       "<table border=\"1\" class=\"dataframe\">\n",
       "  <thead>\n",
       "    <tr style=\"text-align: right;\">\n",
       "      <th></th>\n",
       "      <th>ID</th>\n",
       "      <th>Gene</th>\n",
       "      <th>Variation</th>\n",
       "      <th>TEXT</th>\n",
       "      <th>newClass</th>\n",
       "      <th>countGene</th>\n",
       "      <th>lenGene</th>\n",
       "      <th>countVar</th>\n",
       "      <th>lenVar</th>\n",
       "      <th>lenText</th>\n",
       "    </tr>\n",
       "  </thead>\n",
       "  <tbody>\n",
       "    <tr>\n",
       "      <th>0</th>\n",
       "      <td>0</td>\n",
       "      <td>FAM58A</td>\n",
       "      <td>Truncating_Mutations</td>\n",
       "      <td>cyclin dependent kinases cdks regulate variety...</td>\n",
       "      <td>1</td>\n",
       "      <td>1</td>\n",
       "      <td>6</td>\n",
       "      <td>93</td>\n",
       "      <td>20</td>\n",
       "      <td>30836</td>\n",
       "    </tr>\n",
       "    <tr>\n",
       "      <th>1</th>\n",
       "      <td>1</td>\n",
       "      <td>CBL</td>\n",
       "      <td>W802*</td>\n",
       "      <td>abstract background non small cell lung cancer...</td>\n",
       "      <td>2</td>\n",
       "      <td>25</td>\n",
       "      <td>3</td>\n",
       "      <td>1</td>\n",
       "      <td>5</td>\n",
       "      <td>27844</td>\n",
       "    </tr>\n",
       "    <tr>\n",
       "      <th>2</th>\n",
       "      <td>2</td>\n",
       "      <td>CBL</td>\n",
       "      <td>Q249E</td>\n",
       "      <td>abstract background non small cell lung cancer...</td>\n",
       "      <td>2</td>\n",
       "      <td>25</td>\n",
       "      <td>3</td>\n",
       "      <td>1</td>\n",
       "      <td>5</td>\n",
       "      <td>27844</td>\n",
       "    </tr>\n",
       "    <tr>\n",
       "      <th>3</th>\n",
       "      <td>3</td>\n",
       "      <td>CBL</td>\n",
       "      <td>N454D</td>\n",
       "      <td>recent evidence demonstrated acquired uniparen...</td>\n",
       "      <td>893</td>\n",
       "      <td>25</td>\n",
       "      <td>3</td>\n",
       "      <td>1</td>\n",
       "      <td>5</td>\n",
       "      <td>28093</td>\n",
       "    </tr>\n",
       "    <tr>\n",
       "      <th>4</th>\n",
       "      <td>4</td>\n",
       "      <td>CBL</td>\n",
       "      <td>L399V</td>\n",
       "      <td>oncogenic mutations monomeric casitas b lineag...</td>\n",
       "      <td>4</td>\n",
       "      <td>25</td>\n",
       "      <td>3</td>\n",
       "      <td>1</td>\n",
       "      <td>5</td>\n",
       "      <td>31649</td>\n",
       "    </tr>\n",
       "  </tbody>\n",
       "</table>\n",
       "</div>"
      ],
      "text/plain": [
       "   ID    Gene             Variation  \\\n",
       "0   0  FAM58A  Truncating_Mutations   \n",
       "1   1     CBL                 W802*   \n",
       "2   2     CBL                 Q249E   \n",
       "3   3     CBL                 N454D   \n",
       "4   4     CBL                 L399V   \n",
       "\n",
       "                                                TEXT  newClass  countGene  \\\n",
       "0  cyclin dependent kinases cdks regulate variety...         1          1   \n",
       "1  abstract background non small cell lung cancer...         2         25   \n",
       "2  abstract background non small cell lung cancer...         2         25   \n",
       "3  recent evidence demonstrated acquired uniparen...       893         25   \n",
       "4  oncogenic mutations monomeric casitas b lineag...         4         25   \n",
       "\n",
       "   lenGene  countVar  lenVar  lenText  \n",
       "0        6        93      20    30836  \n",
       "1        3         1       5    27844  \n",
       "2        3         1       5    27844  \n",
       "3        3         1       5    28093  \n",
       "4        3         1       5    31649  "
      ]
     },
     "execution_count": 25,
     "metadata": {},
     "output_type": "execute_result"
    }
   ],
   "source": [
    "data2.head()"
   ]
  },
  {
   "cell_type": "code",
   "execution_count": 26,
   "metadata": {},
   "outputs": [
    {
     "name": "stdout",
     "output_type": "stream",
     "text": [
      "1899\n"
     ]
    },
    {
     "data": {
      "text/plain": [
       "32995    53\n",
       "37392    47\n",
       "34377    42\n",
       "26199    31\n",
       "27133    31\n",
       "Name: lenText, dtype: int64"
      ]
     },
     "execution_count": 26,
     "metadata": {},
     "output_type": "execute_result"
    }
   ],
   "source": [
    "print( len( data2.lenText.value_counts() ),' Unique length of TEXT feature' )\n",
    "\n",
    "data2.lenText.value_counts().head()"
   ]
  },
  {
   "cell_type": "code",
   "execution_count": 27,
   "metadata": {},
   "outputs": [
    {
     "name": "stdout",
     "output_type": "stream",
     "text": [
      "7\n"
     ]
    },
    {
     "data": {
      "text/plain": [
       "4    1276\n",
       "5    1073\n",
       "6     500\n",
       "3     420\n",
       "7      31\n",
       "2      20\n",
       "8       1\n",
       "Name: lenGene, dtype: int64"
      ]
     },
     "execution_count": 27,
     "metadata": {},
     "output_type": "execute_result"
    }
   ],
   "source": [
    "print( len( data2.lenGene.value_counts() ),' Unique length of Gene feature' )\n",
    "\n",
    "data2.lenGene.value_counts()"
   ]
  },
  {
   "cell_type": "code",
   "execution_count": 28,
   "metadata": {},
   "outputs": [
    {
     "name": "stdout",
     "output_type": "stream",
     "text": [
      "33\n"
     ]
    },
    {
     "data": {
      "text/plain": [
       "5     1647\n",
       "6      569\n",
       "4      434\n",
       "20     104\n",
       "8       88\n",
       "Name: lenVar, dtype: int64"
      ]
     },
     "execution_count": 28,
     "metadata": {},
     "output_type": "execute_result"
    }
   ],
   "source": [
    "print( len( data2.lenVar.value_counts() ),' Unique length of Variance feature' )\n",
    "\n",
    "data2.lenVar.value_counts().head()"
   ]
  },
  {
   "cell_type": "code",
   "execution_count": 29,
   "metadata": {},
   "outputs": [
    {
     "data": {
      "image/png": "[encoded data removed]",
      "text/plain": [
       "<matplotlib.figure.Figure at 0x240bf586588>"
      ]
     },
     "metadata": {},
     "output_type": "display_data"
    }
   ],
   "source": [
    "sns.set_style(\"whitegrid\")\n",
    "sns.FacetGrid(data2, hue='newClass', size=8).map(sns.distplot, \"lenGene\").add_legend()\n",
    "plt.title('Univariate Analysis of lenGene')\n",
    "plt.show()"
   ]
  },
  {
   "cell_type": "code",
   "execution_count": 30,
   "metadata": {},
   "outputs": [
    {
     "name": "stderr",
     "output_type": "stream",
     "text": [
      "100%|█████████████████████████████████████████████████████████████████████████████| 3321/3321 [00:03<00:00, 918.58it/s]\n"
     ]
    }
   ],
   "source": [
    "# Loop for calculating 1st word and last word of every TEXT feature\n",
    "li = []\n",
    "w1 = [] # 1st word\n",
    "wl = [] # last word\n",
    "\n",
    "for sent in tqdm(a):\n",
    "    for w in sent.split():\n",
    "        li.append(w)\n",
    "    \n",
    "    w1.append( li[0] )\n",
    "    wl.append( li[-1] )\n",
    "    li = []"
   ]
  },
  {
   "cell_type": "code",
   "execution_count": 31,
   "metadata": {
    "collapsed": true
   },
   "outputs": [],
   "source": [
    "data2['text1st'] = w1"
   ]
  },
  {
   "cell_type": "code",
   "execution_count": 32,
   "metadata": {
    "collapsed": true
   },
   "outputs": [],
   "source": [
    "data2['textLast'] = wl"
   ]
  },
  {
   "cell_type": "code",
   "execution_count": 33,
   "metadata": {},
   "outputs": [
    {
     "data": {
      "text/html": [
       "<div>\n",
       "<style>\n",
       "    .dataframe thead tr:only-child th {\n",
       "        text-align: right;\n",
       "    }\n",
       "\n",
       "    .dataframe thead th {\n",
       "        text-align: left;\n",
       "    }\n",
       "\n",
       "    .dataframe tbody tr th {\n",
       "        vertical-align: top;\n",
       "    }\n",
       "</style>\n",
       "<table border=\"1\" class=\"dataframe\">\n",
       "  <thead>\n",
       "    <tr style=\"text-align: right;\">\n",
       "      <th></th>\n",
       "      <th>ID</th>\n",
       "      <th>Gene</th>\n",
       "      <th>Variation</th>\n",
       "      <th>TEXT</th>\n",
       "      <th>newClass</th>\n",
       "      <th>countGene</th>\n",
       "      <th>lenGene</th>\n",
       "      <th>countVar</th>\n",
       "      <th>lenVar</th>\n",
       "      <th>lenText</th>\n",
       "      <th>text1st</th>\n",
       "      <th>textLast</th>\n",
       "    </tr>\n",
       "  </thead>\n",
       "  <tbody>\n",
       "    <tr>\n",
       "      <th>0</th>\n",
       "      <td>0</td>\n",
       "      <td>FAM58A</td>\n",
       "      <td>Truncating_Mutations</td>\n",
       "      <td>cyclin dependent kinases cdks regulate variety...</td>\n",
       "      <td>1</td>\n",
       "      <td>1</td>\n",
       "      <td>6</td>\n",
       "      <td>93</td>\n",
       "      <td>20</td>\n",
       "      <td>30836</td>\n",
       "      <td>cyclin</td>\n",
       "      <td>females</td>\n",
       "    </tr>\n",
       "    <tr>\n",
       "      <th>1</th>\n",
       "      <td>1</td>\n",
       "      <td>CBL</td>\n",
       "      <td>W802*</td>\n",
       "      <td>abstract background non small cell lung cancer...</td>\n",
       "      <td>2</td>\n",
       "      <td>25</td>\n",
       "      <td>3</td>\n",
       "      <td>1</td>\n",
       "      <td>5</td>\n",
       "      <td>27844</td>\n",
       "      <td>abstract</td>\n",
       "      <td>tumorigenesis</td>\n",
       "    </tr>\n",
       "    <tr>\n",
       "      <th>2</th>\n",
       "      <td>2</td>\n",
       "      <td>CBL</td>\n",
       "      <td>Q249E</td>\n",
       "      <td>abstract background non small cell lung cancer...</td>\n",
       "      <td>2</td>\n",
       "      <td>25</td>\n",
       "      <td>3</td>\n",
       "      <td>1</td>\n",
       "      <td>5</td>\n",
       "      <td>27844</td>\n",
       "      <td>abstract</td>\n",
       "      <td>tumorigenesis</td>\n",
       "    </tr>\n",
       "    <tr>\n",
       "      <th>3</th>\n",
       "      <td>3</td>\n",
       "      <td>CBL</td>\n",
       "      <td>N454D</td>\n",
       "      <td>recent evidence demonstrated acquired uniparen...</td>\n",
       "      <td>893</td>\n",
       "      <td>25</td>\n",
       "      <td>3</td>\n",
       "      <td>1</td>\n",
       "      <td>5</td>\n",
       "      <td>28093</td>\n",
       "      <td>recent</td>\n",
       "      <td>attractive</td>\n",
       "    </tr>\n",
       "    <tr>\n",
       "      <th>4</th>\n",
       "      <td>4</td>\n",
       "      <td>CBL</td>\n",
       "      <td>L399V</td>\n",
       "      <td>oncogenic mutations monomeric casitas b lineag...</td>\n",
       "      <td>4</td>\n",
       "      <td>25</td>\n",
       "      <td>3</td>\n",
       "      <td>1</td>\n",
       "      <td>5</td>\n",
       "      <td>31649</td>\n",
       "      <td>oncogenic</td>\n",
       "      <td>cancer</td>\n",
       "    </tr>\n",
       "  </tbody>\n",
       "</table>\n",
       "</div>"
      ],
      "text/plain": [
       "   ID    Gene             Variation  \\\n",
       "0   0  FAM58A  Truncating_Mutations   \n",
       "1   1     CBL                 W802*   \n",
       "2   2     CBL                 Q249E   \n",
       "3   3     CBL                 N454D   \n",
       "4   4     CBL                 L399V   \n",
       "\n",
       "                                                TEXT  newClass  countGene  \\\n",
       "0  cyclin dependent kinases cdks regulate variety...         1          1   \n",
       "1  abstract background non small cell lung cancer...         2         25   \n",
       "2  abstract background non small cell lung cancer...         2         25   \n",
       "3  recent evidence demonstrated acquired uniparen...       893         25   \n",
       "4  oncogenic mutations monomeric casitas b lineag...         4         25   \n",
       "\n",
       "   lenGene  countVar  lenVar  lenText    text1st       textLast  \n",
       "0        6        93      20    30836     cyclin        females  \n",
       "1        3         1       5    27844   abstract  tumorigenesis  \n",
       "2        3         1       5    27844   abstract  tumorigenesis  \n",
       "3        3         1       5    28093     recent     attractive  \n",
       "4        3         1       5    31649  oncogenic         cancer  "
      ]
     },
     "execution_count": 33,
     "metadata": {},
     "output_type": "execute_result"
    }
   ],
   "source": [
    "data2.head()"
   ]
  },
  {
   "cell_type": "markdown",
   "metadata": {},
   "source": [
    "Features Created :<br>\n",
    "    <b>countGene</b> : No. of times that Gene occour in the dataset <br>\n",
    "    <b>lenGene</b> : Length of that Gene<br>\n",
    "    <b>countVar</b> : No. of times that Variation occour in the dataset <br>\n",
    "    <b>lenVar</b> : Length of that Variation<br>\n",
    "    <b>text1st</b> : First word in the feature TEXT<br>\n",
    "    <b>textLast</b> :  Last word in the feature TEXT<br>\n",
    "    <b>lenText</b>  : Length of the text ( no. of words present ) <br>"
   ]
  },
  {
   "cell_type": "code",
   "execution_count": 34,
   "metadata": {},
   "outputs": [
    {
     "name": "stdout",
     "output_type": "stream",
     "text": [
      "596\n"
     ]
    },
    {
     "data": {
      "text/plain": [
       "abstract        311\n",
       "mutations       123\n",
       "introduction    113\n",
       "purpose          84\n",
       "tumor            74\n",
       "Name: text1st, dtype: int64"
      ]
     },
     "execution_count": 34,
     "metadata": {},
     "output_type": "execute_result"
    }
   ],
   "source": [
    "print( len( data2.text1st.value_counts() ) )\n",
    "data2.text1st.value_counts().head()"
   ]
  },
  {
   "cell_type": "code",
   "execution_count": 35,
   "metadata": {},
   "outputs": [
    {
     "name": "stdout",
     "output_type": "stream",
     "text": [
      "714\n"
     ]
    },
    {
     "data": {
      "text/plain": [
       "cancer        98\n",
       "mutations     92\n",
       "brca1         80\n",
       "patients      69\n",
       "inhibitors    65\n",
       "Name: textLast, dtype: int64"
      ]
     },
     "execution_count": 35,
     "metadata": {},
     "output_type": "execute_result"
    }
   ],
   "source": [
    "print( len( data2.textLast.value_counts() ) )\n",
    "\n",
    "data2.textLast.value_counts().head()"
   ]
  },
  {
   "cell_type": "code",
   "execution_count": 36,
   "metadata": {
    "collapsed": true
   },
   "outputs": [],
   "source": [
    "Y2 = data2['newClass']"
   ]
  },
  {
   "cell_type": "markdown",
   "metadata": {},
   "source": [
    "### Test Train CV split and Creating Data Matrix"
   ]
  },
  {
   "cell_type": "code",
   "execution_count": 46,
   "metadata": {
    "collapsed": true
   },
   "outputs": [],
   "source": [
    "# Test Train CV split\n",
    "\n",
    "from sklearn.model_selection import train_test_split\n",
    "\n",
    "xtrd2, xted2, ytrd2, yted2 = train_test_split( data2, Y2 , stratify = Y2, test_size = 0.2 )\n",
    "\n",
    "xtrd2, xcvd2, ytrd2, ycvd2 = train_test_split( xtrd2, ytrd2, stratify = ytrd2, test_size = 0.2 )"
   ]
  },
  {
   "cell_type": "markdown",
   "metadata": {},
   "source": [
    "##  for TF IDF features"
   ]
  },
  {
   "cell_type": "code",
   "execution_count": 47,
   "metadata": {},
   "outputs": [
    {
     "name": "stdout",
     "output_type": "stream",
     "text": [
      "(2124, 237)\n",
      "(532, 237)\n",
      "(665, 237)\n",
      "(2124, 237)\n",
      "(532, 237)\n",
      "(665, 237)\n",
      "(2124, 1000)\n",
      "(532, 1000)\n",
      "(665, 1000)\n",
      "(2124, 472)\n",
      "(665, 472)\n",
      "(532, 472)\n",
      "(2124, 561)\n",
      "(665, 561)\n",
      "(532, 561)\n"
     ]
    }
   ],
   "source": [
    "from sklearn.calibration import CalibratedClassifierCV\n",
    "from sklearn.metrics.classification import accuracy_score, log_loss\n",
    "from sklearn.preprocessing import normalize\n",
    "from sklearn.metrics import confusion_matrix\n",
    "from sklearn.linear_model import SGDClassifier\n",
    "\n",
    "from sklearn.feature_extraction.text import TfidfVectorizer\n",
    "\n",
    "#Genes\n",
    "gTfVect2 = TfidfVectorizer( max_features = 1000 )\n",
    "\n",
    "xtrGeneTF2 = gTfVect2.fit_transform( xtrd2['Gene'] )\n",
    "xteGeneTF2 = gTfVect2.transform( xted2['Gene'] )\n",
    "xcvGeneTF2 = gTfVect2.transform( xcvd2['Gene'] )\n",
    "\n",
    "print(xtrGeneTF2.shape )\n",
    "print(xcvGeneTF2.shape )\n",
    "print(xteGeneTF2.shape )\n",
    "\n",
    "#variation\n",
    "vTfVect2 = TfidfVectorizer( max_features = 1000 )\n",
    "\n",
    "xtrVarTF2 = vTfVect2.fit_transform( xtrd2['Variation'] )\n",
    "xteVarTF2 = vTfVect2.transform( xted2['Variation'] )\n",
    "xcvVarTF2 = vTfVect2.transform( xcvd2['Variation'] )\n",
    "\n",
    "print(xtrGeneTF2.shape )\n",
    "print(xcvGeneTF2.shape )\n",
    "print(xteGeneTF2.shape )\n",
    "\n",
    "# Text\n",
    "teTfvect2 = TfidfVectorizer( max_features = 1000 )\n",
    "\n",
    "xtrTextTF2 = teTfvect2.fit_transform( xtrd2['TEXT'] )\n",
    "xtrTextTF2 = normalize( xtrTextTF2 , axis=0 ) # Don't forget to normalize every feature\n",
    "\n",
    "xteTextTF2 = teTfvect2.transform( xted2['TEXT'] )\n",
    "xteTextTF2 = normalize( xteTextTF2, axis=0 )\n",
    "\n",
    "xcvTextTF2 = teTfvect2.transform( xcvd2['TEXT'] )\n",
    "xcvTextTF2 = normalize( xcvTextTF2, axis=0 ) \n",
    "\n",
    "print( xtrTextTF2.shape )\n",
    "print( xcvTextTF2.shape )\n",
    "print( xteTextTF2.shape )\n",
    "\n",
    "\n",
    "# First word in Text\n",
    "t1stTfVect2 = TfidfVectorizer( max_features = 1000 )\n",
    "\n",
    "xtrT1stTF2 = t1stTfVect2.fit_transform( xtrd2['text1st'] )\n",
    "xteT1stTF2 = t1stTfVect2.transform( xted2['text1st'] )\n",
    "xcvT1stTF2 = t1stTfVect2.transform( xcvd2['text1st'] )\n",
    "\n",
    "print(xtrT1stTF2.shape )\n",
    "print(xteT1stTF2.shape )\n",
    "print(xcvT1stTF2.shape )\n",
    "\n",
    "\n",
    "# Last word in Text\n",
    "tLTfVect2 = TfidfVectorizer( max_features = 1000 )\n",
    "\n",
    "xtrTLTF2 = tLTfVect2.fit_transform( xtrd2['textLast'] )\n",
    "xteTLTF2 = tLTfVect2.transform( xted2['textLast'] )\n",
    "xcvTLTF2 = tLTfVect2.transform( xcvd2['textLast'] )\n",
    "\n",
    "print(xtrTLTF2.shape )\n",
    "print(xteTLTF2.shape )\n",
    "print(xcvTLTF2.shape )"
   ]
  },
  {
   "cell_type": "code",
   "execution_count": 48,
   "metadata": {},
   "outputs": [
    {
     "name": "stdout",
     "output_type": "stream",
     "text": [
      "(2124, 1)\n",
      "(665, 1)\n",
      "(532, 1)\n",
      "(2124, 1)\n",
      "(665, 1)\n",
      "(532, 1)\n",
      "(2124, 1)\n",
      "(665, 1)\n",
      "(532, 1)\n",
      "(2124, 1)\n",
      "(665, 1)\n",
      "(532, 1)\n",
      "(2124, 1)\n",
      "(665, 1)\n",
      "(532, 1)\n"
     ]
    }
   ],
   "source": [
    "from sklearn.preprocessing import Normalizer\n",
    "\n",
    "# countGene\n",
    "norm = Normalizer()\n",
    "\n",
    "xtrCG = norm.fit_transform( xtrd2['countGene'].values.reshape(-1,1) )\n",
    "xcvCG = norm.transform( xcvd2['countGene'].values.reshape(-1,1) )\n",
    "xteCG = norm.transform( xted2['countGene'].values.reshape(-1,1) )\n",
    "print(xtrCG.shape)\n",
    "print(xteCG.shape)\n",
    "print(xcvCG.shape)\n",
    "\n",
    "\n",
    "# countVar\n",
    "norm = Normalizer()\n",
    "\n",
    "xtrCV = norm.fit_transform( xtrd2['countVar'].values.reshape(-1,1) )\n",
    "xcvCV = norm.transform( xcvd2['countVar'].values.reshape(-1,1) )\n",
    "xteCV = norm.transform( xted2['countVar'].values.reshape(-1,1) )\n",
    "print(xtrCV.shape)\n",
    "print(xteCV.shape)\n",
    "print(xcvCV.shape)\n",
    "\n",
    "\n",
    "# lenVar\n",
    "norm = Normalizer()\n",
    "\n",
    "xtrLV = norm.fit_transform( xtrd2['lenVar'].values.reshape(-1,1) )\n",
    "xcvLV = norm.transform( xcvd2['lenVar'].values.reshape(-1,1) )\n",
    "xteLV = norm.transform( xted2['lenVar'].values.reshape(-1,1) )\n",
    "print(xtrLV.shape)\n",
    "print(xteLV.shape)\n",
    "print(xcvLV.shape)\n",
    "\n",
    "\n",
    "#lenGene\n",
    "norm = Normalizer()\n",
    "\n",
    "xtrLG = norm.fit_transform( xtrd2['lenGene'].values.reshape(-1,1) )\n",
    "xcvLG = norm.transform( xcvd2['lenGene'].values.reshape(-1,1) )\n",
    "xteLG = norm.transform( xted2['lenGene'].values.reshape(-1,1) )\n",
    "print(xtrLG.shape)\n",
    "print(xteLG.shape)\n",
    "print(xcvLG.shape)\n",
    "\n",
    "\n",
    "#lenText\n",
    "norm = Normalizer()\n",
    "\n",
    "xtrLT = norm.fit_transform( xtrd2['lenText'].values.reshape(-1,1) )\n",
    "xcvLT = norm.transform( xcvd2['lenText'].values.reshape(-1,1) )\n",
    "xteLT = norm.transform( xted2['lenText'].values.reshape(-1,1) )\n",
    "print(xtrLT.shape)\n",
    "print(xteLT.shape)\n",
    "print(xcvLT.shape)"
   ]
  },
  {
   "cell_type": "code",
   "execution_count": 49,
   "metadata": {},
   "outputs": [
    {
     "name": "stdout",
     "output_type": "stream",
     "text": [
      "(2124, 3275)\n",
      "(665, 3275)\n",
      "(532, 3275)\n"
     ]
    }
   ],
   "source": [
    "from scipy.sparse import hstack\n",
    "\n",
    "xtr3 = hstack(( xtrGeneTF2, xtrVarTF2, xtrTextTF2, xtrT1stTF2, xtrTLTF2, xtrCG, xtrCV, xtrLV, xtrLG, xtrLT )).tocsr()\n",
    "xte3 = hstack(( xteGeneTF2, xteVarTF2, xteTextTF2, xteT1stTF2, xteTLTF2, xteCG, xteCV, xteLV, xteLG, xteLT )).tocsr()\n",
    "xcv3 = hstack(( xcvGeneTF2, xcvVarTF2, xcvTextTF2, xcvT1stTF2, xcvTLTF2, xcvCG, xcvCV, xcvLV, xcvLG, xcvLT )).tocsr()\n",
    "\n",
    "print( xtr3.shape )\n",
    "print( xte3.shape )\n",
    "print( xcv3.shape )"
   ]
  },
  {
   "cell_type": "code",
   "execution_count": 50,
   "metadata": {
    "collapsed": true
   },
   "outputs": [],
   "source": [
    "import warnings  # removes warning messages from the output\n",
    "\n",
    "warnings.filterwarnings(\"ignore\")"
   ]
  },
  {
   "cell_type": "markdown",
   "metadata": {},
   "source": [
    "## Logistic Regression"
   ]
  },
  {
   "cell_type": "code",
   "execution_count": 51,
   "metadata": {},
   "outputs": [
    {
     "name": "stdout",
     "output_type": "stream",
     "text": [
      "For values of alpha =  1e-06  the log loss is :  0.9862240536254596\n",
      "For values of alpha =  1e-05  the log loss is :  0.9892814497430283\n",
      "For values of alpha =  0.0001  the log loss is :  0.9768187905561545\n",
      "For values of alpha =  0.001  the log loss is :  0.9783214768246432\n",
      "For values of alpha =  0.01  the log loss is :  1.0876345920493318\n",
      "For values of alpha =  0.1  the log loss is :  1.1901507106049096\n",
      "For values of alpha =  1  the log loss is :  1.330142396876936\n",
      "For values of alpha =  10  the log loss is :  1.539050725671884\n",
      "For values of alpha =  100  the log loss is :  1.5957789173148795\n"
     ]
    }
   ],
   "source": [
    "alpha = [ 10 ** x for x in range(-6, 3) ]\n",
    "\n",
    "logError = [ ]\n",
    "\n",
    "for i in alpha :\n",
    "    classifier = SGDClassifier( alpha = i, penalty='l2', loss='log', random_state = 42 )\n",
    "    classifier.fit(xtr3, ytrd2)\n",
    "    \n",
    "    # ClaibratedClassifierCV() : Probability calibration with isotonic regression or sigmoid.\n",
    "    # With this class, the base_estimator is fit on the train set of the cross-validation generator and the ......\n",
    "    # .... test set is used for calibration. The probabilities for each of the folds are then averaged for prediction\n",
    "    \n",
    "    clf = CalibratedClassifierCV( classifier, method=\"sigmoid\" )\n",
    "    \n",
    "    # base_estimator : (classifier) The classifier whose output decision func needs to be calibrated to offer more accurate...\n",
    "    # .... predict_proba outputs. If cv=prefit, the classifier must have been fit already on data.\n",
    "    \n",
    "    clf.fit(xtr3, ytrd2)\n",
    "    \n",
    "    predictY = clf.predict_proba( xcv3 )\n",
    "    \n",
    "    logError.append( log_loss( ycvd2, predictY, labels = clf.classes_, eps = 1e-15) )\n",
    "    print('For values of alpha = ', i, \" the log loss is : \",log_loss(ycvd2, predictY, labels=clf.classes_, eps=1e-15) )"
   ]
  },
  {
   "cell_type": "code",
   "execution_count": 52,
   "metadata": {},
   "outputs": [
    {
     "name": "stdout",
     "output_type": "stream",
     "text": [
      " Best alpha :  0.0001\n",
      " The train log loss is :  0.5302739124807866\n",
      " The test log loss is :  0.9257778414597118\n",
      " The cv log loss is :  0.9768187905561545\n"
     ]
    }
   ],
   "source": [
    "import numpy as np \n",
    "bestA = alpha[ np.argmin(logError) ]\n",
    "clf = SGDClassifier( alpha = bestA, penalty='l2', loss='log', random_state=42)\n",
    "clf.fit(xtr3, ytrd2)\n",
    "\n",
    "clf = CalibratedClassifierCV( clf, method=\"sigmoid\" )\n",
    "clf.fit(xtr3, ytrd2)\n",
    "\n",
    "print(' Best alpha : ', bestA)\n",
    "\n",
    "predictY = clf.predict_proba( xtr3 )\n",
    "print(' The train log loss is : ',log_loss( ytrd2, predictY, labels = clf.classes_, eps = 1e-15) )\n",
    "\n",
    "predictY = clf.predict_proba( xte3 )\n",
    "print(' The test log loss is : ',log_loss( yted2, predictY, labels = clf.classes_, eps = 1e-15) )\n",
    "\n",
    "predictY = clf.predict_proba( xcv3 )\n",
    "print(' The cv log loss is : ',log_loss( ycvd2, predictY, labels = clf.classes_, eps = 1e-15) )"
   ]
  },
  {
   "cell_type": "code",
   "execution_count": 55,
   "metadata": {},
   "outputs": [
    {
     "name": "stdout",
     "output_type": "stream",
     "text": [
      " % of points correctly classified :  66.9172932330827\n"
     ]
    }
   ],
   "source": [
    "y_ = clf.predict( xte3 )\n",
    "i =  y_ ^ yted2\n",
    "print(' % of points correctly classified : ', ( ( i.shape[0] - np.count_nonzero( i ) )  / i.shape[0] ) * 100 )\n",
    "\n",
    "print(' % of points missclassified  : ', ( np.count_nonzero(( clf.predict( xte3 )- yted2 )) / yted2.shape[0] )* 100 )"
   ]
  },
  {
   "cell_type": "markdown",
   "metadata": {},
   "source": [
    "## Linear SVM"
   ]
  },
  {
   "cell_type": "code",
   "execution_count": 117,
   "metadata": {},
   "outputs": [
    {
     "name": "stdout",
     "output_type": "stream",
     "text": [
      "For values of alpha =  1e-06  the log loss is :  0.9872505633126057\n",
      "For values of alpha =  1e-05  the log loss is :  0.9993229913796619\n",
      "For values of alpha =  0.0001  the log loss is :  0.9945911488138485\n",
      "For values of alpha =  0.001  the log loss is :  0.9921881085261784\n",
      "For values of alpha =  0.01  the log loss is :  1.0648666101555004\n",
      "For values of alpha =  0.1  the log loss is :  1.120345617768938\n",
      "For values of alpha =  1  the log loss is :  1.330472839940044\n",
      "For values of alpha =  10  the log loss is :  1.5935044871200792\n",
      "For values of alpha =  100  the log loss is :  1.593501431762243\n"
     ]
    }
   ],
   "source": [
    "alpha = [ 10 ** x for x in range(-6, 3) ]\n",
    "\n",
    "logError = [ ]\n",
    "\n",
    "for i in alpha :\n",
    "    classifier = SGDClassifier(class_weight = 'balanced', alpha = i, penalty='l2', loss='hinge', random_state = 42 )\n",
    "    classifier.fit(xtr3, ytrd2)\n",
    "    \n",
    "    # ClaibratedClassifierCV() : Probability calibration with isotonic regression or sigmoid.\n",
    "    # With this class, the base_estimator is fit on the train set of the cross-validation generator and the ......\n",
    "    # .... test set is used for calibration. The probabilities for each of the folds are then averaged for prediction\n",
    "    \n",
    "    clf = CalibratedClassifierCV( classifier, method=\"sigmoid\" )\n",
    "    \n",
    "    # base_estimator : (classifier) The classifier whose output decision func needs to be calibrated to offer more accurate...\n",
    "    # .... predict_proba outputs. If cv=prefit, the classifier must have been fit already on data.\n",
    "    \n",
    "    clf.fit(xtr3, ytrd2)\n",
    "    \n",
    "    predictY = clf.predict_proba( xcv3 )\n",
    "    \n",
    "    logError.append( log_loss( ycvd2, predictY, labels = clf.classes_, eps = 1e-15) )\n",
    "    print('For values of alpha = ', i, \" the log loss is : \",log_loss(ycvd2, predictY, labels=clf.classes_, eps=1e-15) )"
   ]
  },
  {
   "cell_type": "code",
   "execution_count": 118,
   "metadata": {},
   "outputs": [
    {
     "name": "stdout",
     "output_type": "stream",
     "text": [
      " Best alpha :  1e-06\n",
      " The train log loss is :  0.576004951297067\n",
      " The test log loss is :  0.9432775710318827\n",
      " The cv log loss is :  0.9946360345459967\n"
     ]
    }
   ],
   "source": [
    "import numpy as np \n",
    "bestA = alpha[ np.argmin(logError) ]\n",
    "clf = SGDClassifier(class_weight = 'balanced', alpha = bestA, penalty='l2', loss='log', random_state=42)\n",
    "clf.fit(xtr3, ytrd2)\n",
    "\n",
    "clf = CalibratedClassifierCV( clf, method=\"sigmoid\" )\n",
    "clf.fit(xtr3, ytrd2)\n",
    "\n",
    "print(' Best alpha : ', bestA)\n",
    "\n",
    "predictY = clf.predict_proba( xtr3 )\n",
    "print(' The train log loss is : ',log_loss( ytrd2, predictY, labels = clf.classes_, eps = 1e-15) )\n",
    "\n",
    "predictY = clf.predict_proba( xte3 )\n",
    "print(' The test log loss is : ',log_loss( yted2, predictY, labels = clf.classes_, eps = 1e-15) )\n",
    "\n",
    "predictY = clf.predict_proba( xcv3 )\n",
    "print(' The cv log loss is : ',log_loss( ycvd2, predictY, labels = clf.classes_, eps = 1e-15) )"
   ]
  },
  {
   "cell_type": "code",
   "execution_count": 119,
   "metadata": {},
   "outputs": [
    {
     "name": "stdout",
     "output_type": "stream",
     "text": [
      " % of points correctly classified :  68.1203007518797\n",
      " % of points missclassified  :  31.879699248120303\n"
     ]
    }
   ],
   "source": [
    "y_ = clf.predict( xte3 )\n",
    "i =  y_ ^ yted2\n",
    "print(' % of points correctly classified : ', ( ( i.shape[0] - np.count_nonzero( i ) )  / i.shape[0] ) * 100 )\n",
    "\n",
    "print(' % of points missclassified  : ', ( np.count_nonzero(( clf.predict( xte3 )- yted2 )) / yted2.shape[0] )* 100 )"
   ]
  },
  {
   "cell_type": "markdown",
   "metadata": {},
   "source": [
    "## Random Forest"
   ]
  },
  {
   "cell_type": "code",
   "execution_count": 128,
   "metadata": {},
   "outputs": [
    {
     "name": "stdout",
     "output_type": "stream",
     "text": [
      "For values of alpha =  100  and depth =  5  the log loss is :  1.2046900080062566\n",
      "For values of alpha =  100  and depth =  10  the log loss is :  1.2339441021729443\n",
      "For values of alpha =  100  and depth =  20  the log loss is :  1.304013707971388\n",
      "For values of alpha =  200  and depth =  5  the log loss is :  1.1993286315154505\n",
      "For values of alpha =  200  and depth =  10  the log loss is :  1.2193528263625544\n",
      "For values of alpha =  200  and depth =  20  the log loss is :  1.2896243262020486\n",
      "For values of alpha =  500  and depth =  5  the log loss is :  1.1943661211214818\n",
      "For values of alpha =  500  and depth =  10  the log loss is :  1.2168962762804376\n",
      "For values of alpha =  500  and depth =  20  the log loss is :  1.284611574583206\n",
      "For values of alpha =  1000  and depth =  5  the log loss is :  1.1916428318879262\n",
      "For values of alpha =  1000  and depth =  10  the log loss is :  1.2146662457010344\n",
      "For values of alpha =  1000  and depth =  20  the log loss is :  1.286113900207443\n",
      "For values of alpha =  2000  and depth =  5  the log loss is :  1.190565685843375\n",
      "For values of alpha =  2000  and depth =  10  the log loss is :  1.213038713701574\n",
      "For values of alpha =  2000  and depth =  20  the log loss is :  1.2836419161879775\n"
     ]
    }
   ],
   "source": [
    "from sklearn.ensemble import RandomForestClassifier\n",
    "\n",
    "alpha = [100,200,500,1000,2000] # Various value of Hyperparameter\n",
    "max_depth = [5, 10, 20]\n",
    "\n",
    "logError = [ ]\n",
    "\n",
    "for i in alpha :\n",
    "    for j in max_depth:\n",
    "        classifier = RandomForestClassifier(n_estimators=i, criterion='gini', max_depth=j, random_state=42, n_jobs=-1)\n",
    "        classifier.fit(xtr3, ytrd2)\n",
    "\n",
    "        # ClaibratedClassifierCV() : Probability calibration with isotonic regression or sigmoid.\n",
    "        # With this class, the base_estimator is fit on the train set of the cross-validation generator and the ......\n",
    "        # .... test set is used for calibration. The probabilities for each of the folds are then averaged for prediction\n",
    "\n",
    "        clf = CalibratedClassifierCV( classifier, method=\"sigmoid\" )\n",
    "\n",
    "        # base_estimator : (classifier) The classifier whose output decision func needs to be calibrated to offer more accurate...\n",
    "        # .... predict_proba outputs. If cv=prefit, the classifier must have been fit already on data.\n",
    "\n",
    "        clf.fit(xtr3, ytrd2)\n",
    "\n",
    "        predictY = clf.predict_proba( xcv3 )\n",
    "\n",
    "        logError.append( log_loss( ycvd2, predictY, labels = clf.classes_, eps = 1e-15) )\n",
    "        print('For values of alpha = ', i,' and depth = ', j, \" the log loss is : \",log_loss(ycvd2, predictY, labels=clf.classes_, eps=1e-15) )"
   ]
  },
  {
   "cell_type": "markdown",
   "metadata": {},
   "source": [
    "## for Response Coding"
   ]
  },
  {
   "cell_type": "code",
   "execution_count": 130,
   "metadata": {
    "collapsed": true
   },
   "outputs": [],
   "source": [
    "def feaDic( alpha, feature, df ):\n",
    "    \n",
    "    count = xtrd2[ feature ].value_counts()\n",
    "    # output:\n",
    "    #        {BRCA1      174\n",
    "    #         TP53       106\n",
    "    #         EGFR        86.....\n",
    "    \n",
    "    # featDict : Feature Dict, which contains the probability array for each gene/variation\n",
    "    featDict = dict()\n",
    "    \n",
    "    # denominator will contain the number of time that particular feature occured in whole data\n",
    "    \n",
    "    for i, denominator in count.items():\n",
    "        \n",
    "        # vec will contain ( P( yi == 1 / Gi ) probability of gene/variation belongs to particular class\n",
    "        # vec is 9 diamensional vector\n",
    "        vec = []\n",
    "        \n",
    "        c = [1,2,4,5,6,7,893]\n",
    "        \n",
    "        for j in c:\n",
    "           \n",
    "            # print( xtr.loc[ ( xtr['Class'] == 1 ) & ( xtr['Gene'] == 'BRCA1' )] )\n",
    "            #         ID   Gene             Variation  Class  \n",
    "            # 2470  2470  BRCA1                S1715C      1   \n",
    "            # 2486  2486  BRCA1                S1841R      1   \n",
    "            # 2614  2614  BRCA1                   M1R      1....\n",
    "            \n",
    "            # cls_cnt.shape[0] will return the number of rows\n",
    "\n",
    "            cls_cnt = xtrd2.loc[ ( xtrd2['newClass'] == j ) & ( xtrd2[feature] == i ) ]\n",
    "            \n",
    "            # cls_cnt.shape[0] will contain the number of time that particular feature occured in the whole data\n",
    "            \n",
    "            vec.append( ( cls_cnt.shape[0] + alpha * 10 ) / ( denominator + 90 * alpha ) )\n",
    "\n",
    "        # we are adding the gene/variation to the dict as key and vec as value\n",
    "        featDict[i] = vec\n",
    "    return featDict\n",
    "\n",
    "# when we caculate the probability of a feature belongs to any particular class, we apply laplace smoothing\n",
    "# (numerator + 10 *alpha) / (denominator + 90 *alpha ) \n",
    "\n",
    "def feature( alpha, feature, df ):\n",
    "   \n",
    "    featureDict = feaDic( alpha, feature, df )\n",
    "\n",
    "    count = xtrd2[feature].value_counts()\n",
    "    \n",
    "    # feat : Gene_variation feature, it will contain the feature for each feature value in the data\n",
    "    feat = []\n",
    "    \n",
    "    # for every feature values in the given data frame we will check if it is there in the train data then we will add...\n",
    "    #... the feature to gv_fea. if not we will add [1/9,1/9,1/9,1/9,1/9,1/9,1/9,1/9,1/9] to gv_fea\n",
    "    \n",
    "    for index, row in df.iterrows():\n",
    "        \n",
    "        if row[feature] in dict( count ).keys():\n",
    "            feat.append( featureDict[ row[feature] ] )\n",
    "        else:\n",
    "            feat.append([1/9,1/9,1/9,1/9,1/9,1/9,1/9])\n",
    "\n",
    "    return feat\n"
   ]
  },
  {
   "cell_type": "code",
   "execution_count": 131,
   "metadata": {},
   "outputs": [
    {
     "name": "stdout",
     "output_type": "stream",
     "text": [
      "(2124, 7)\n",
      "(532, 7)\n",
      "(665, 7)\n",
      "(2124, 7)\n",
      "(532, 7)\n",
      "(665, 7)\n",
      "(2124, 7)\n",
      "(665, 7)\n",
      "(532, 7)\n",
      "(2124, 7)\n",
      "(665, 7)\n",
      "(532, 7)\n"
     ]
    }
   ],
   "source": [
    "# Response-coding of the Gene feature\n",
    "alpha = 1 # alpha is used for laplace smoothing\n",
    "\n",
    "xtrGeneRC1 = np.array( feature( alpha, \"Gene\", xtrd2) )\n",
    "xteGeneRC1 = np.array( feature( alpha, \"Gene\", xted2) )\n",
    "xcvGeneRC1 = np.array( feature( alpha, \"Gene\", xcvd2) )\n",
    "\n",
    "print(xtrGeneRC1.shape )\n",
    "print(xcvGeneRC1.shape )\n",
    "print(xteGeneRC1.shape )\n",
    "\n",
    "\n",
    "# Response-coding of the Variation feature\n",
    "alpha = 1 # alpha is used for laplace smoothing\n",
    "\n",
    "xtrVarRC1 = np.array( feature( alpha, \"Variation\", xtrd2) )\n",
    "xteVarRC1 = np.array( feature( alpha, \"Variation\", xted2) )\n",
    "xcvVarRC1 = np.array( feature( alpha, \"Variation\", xcvd2) )\n",
    "\n",
    "print(xtrVarRC1.shape )\n",
    "print(xcvVarRC1.shape )\n",
    "print(xteVarRC1.shape )\n",
    "\n",
    "\n",
    "xtrT1stRC = np.array( feature( alpha, \"text1st\", xtrd2) )\n",
    "xteT1stRC = np.array( feature( alpha, \"text1st\", xted2) )\n",
    "xcvT1stRC = np.array( feature( alpha, \"text1st\", xcvd2) )\n",
    "\n",
    "print(xtrT1stRC.shape )\n",
    "print(xteT1stRC.shape )\n",
    "print(xcvT1stRC.shape )\n",
    "\n",
    "\n",
    "xtrTLRC = np.array( feature( alpha, \"textLast\", xtrd2) )\n",
    "xteTLRC = np.array( feature( alpha, \"textLast\", xted2) )\n",
    "xcvTLRC = np.array( feature( alpha, \"textLast\", xcvd2) )\n",
    "\n",
    "print(xtrTLRC.shape )\n",
    "print(xteTLRC.shape )\n",
    "print(xcvTLRC.shape )\n"
   ]
  },
  {
   "cell_type": "code",
   "execution_count": 133,
   "metadata": {
    "collapsed": true
   },
   "outputs": [],
   "source": [
    "from sklearn.preprocessing import normalize\n",
    "\n",
    "from collections import Counter, defaultdict\n",
    "# cls_text is a data frame\n",
    "# 1. for every row in data fram consider the 'TEXT'\n",
    "# 2.     Split the words by space\n",
    "# 3.     Make a dict with those words\n",
    "# 4.     Increment its count whenever we see that word\n",
    "\n",
    "def extract(classText):\n",
    "    \n",
    "    dictionary = defaultdict( int )\n",
    "    \n",
    "    for index, row in classText.iterrows():\n",
    "        for word in row['TEXT'].split():\n",
    "            dictionary[word] +=1\n",
    "    return dictionary\n",
    "\n",
    "\n",
    "import math\n",
    "def textResponseC(df):\n",
    "    \n",
    "    textFeat = np.zeros( ( df.shape[0], 7 ) )\n",
    "    \n",
    "    #c = [1,2,4,5,6,7,893]\n",
    "\n",
    "    for i in range(0,7):\n",
    "        row_index = 0\n",
    "        \n",
    "        for index, row in df.iterrows():\n",
    "            \n",
    "            prob = 0\n",
    "            for word in row['TEXT'].split():\n",
    "                prob += math.log(( ( dictli[i].get( word, 0 ) + 10 ) / ( totaldict.get( word, 0 ) + 90 ) ))\n",
    "                # here 10 and 90 are alpha fro Laplace smoothing \n",
    "            \n",
    "            textFeat[ row_index ][i] = math.exp( prob / len( row['TEXT'].split() ))\n",
    "            row_index += 1\n",
    "        \n",
    "    return textFeat\n",
    "\n",
    "# Ref : #https://stackoverflow.com/a/1602964"
   ]
  },
  {
   "cell_type": "code",
   "execution_count": 135,
   "metadata": {},
   "outputs": [
    {
     "name": "stdout",
     "output_type": "stream",
     "text": [
      "(2124, 7)\n",
      "(665, 7)\n",
      "(532, 7)\n"
     ]
    }
   ],
   "source": [
    "dictli = [] # dictli : contains 9 dictoinaries each corresponds to a class\n",
    "\n",
    "c = [1,2,4,5,6,7,893]\n",
    "\n",
    "for i in c:\n",
    "    classText = xtrd2[ xtrd2['newClass'] == i ]  # build a word dict based on the words in that class\n",
    "    dictli.append( extract( classText ) ) # append it to dictli\n",
    "\n",
    "# dictli[i] is build on i'th  class text data\n",
    "\n",
    "totaldict = extract( xtrd2 ) # totaldict is buid on whole training text data\n",
    "# Response coding of text features\n",
    "\n",
    "\n",
    "\n",
    "xtrTextRC1 = textResponseC( xtrd2 )\n",
    "xteTextRC1  = textResponseC( xted2 )\n",
    "xcvTextRC1  = textResponseC( xcvd2 )\n",
    "\n",
    "print( xtrTextRC1.shape ) \n",
    "print( xteTextRC1.shape ) \n",
    "print( xcvTextRC1.shape ) "
   ]
  },
  {
   "cell_type": "code",
   "execution_count": 136,
   "metadata": {},
   "outputs": [
    {
     "name": "stdout",
     "output_type": "stream",
     "text": [
      "(2124, 40)\n",
      "(665, 40)\n",
      "(532, 40)\n"
     ]
    }
   ],
   "source": [
    "# We convert each row values such that they sum to 1  \n",
    "\n",
    "xtrTextRC1 = ( xtrTextRC1.T / xtrTextRC1.sum( axis=1 ) ).T\n",
    "xteTextRC1 = ( xteTextRC1.T / xteTextRC1.sum( axis=1 ) ).T\n",
    "xcvTextRC1 = ( xcvTextRC1.T / xcvTextRC1.sum( axis=1 ) ).T\n",
    "\n",
    "# Ref : # https://stackoverflow.com/a/16202486\n",
    "# giving error on just hstack() and not on np.hstack()\n",
    "\n",
    "xtrRC1 = np.hstack(( xtrGeneRC1, xtrVarRC1, xtrTextRC1, xtrT1stRC, xtrTLRC, xtrCG, xtrCV, xtrLV, xtrLG, xtrLT )) \n",
    "xteRC1 = np.hstack(( xteGeneRC1, xteVarRC1, xteTextRC1, xteT1stRC, xteTLRC, xteCG, xteCV, xteLV, xteLG, xteLT  ))\n",
    "xcvRC1 = np.hstack(( xcvGeneRC1, xcvVarRC1, xcvTextRC1, xcvT1stRC, xcvTLRC, xcvCG, xcvCV, xcvLV, xcvLG, xcvLT  ))  \n",
    "\n",
    "print( xtrRC1.shape )\n",
    "print( xteRC1.shape )\n",
    "print( xcvRC1.shape )"
   ]
  },
  {
   "cell_type": "markdown",
   "metadata": {
    "collapsed": true
   },
   "source": [
    "## Logistic Regression"
   ]
  },
  {
   "cell_type": "code",
   "execution_count": 137,
   "metadata": {},
   "outputs": [
    {
     "name": "stdout",
     "output_type": "stream",
     "text": [
      "For values of alpha =  1e-06  the log loss is :  1.0876691402085665\n",
      "For values of alpha =  1e-05  the log loss is :  1.0863845590336372\n",
      "For values of alpha =  0.0001  the log loss is :  1.0910592198950901\n",
      "For values of alpha =  0.001  the log loss is :  1.1525205784225083\n",
      "For values of alpha =  0.01  the log loss is :  1.2259567350370117\n",
      "For values of alpha =  0.1  the log loss is :  1.241184614097225\n",
      "For values of alpha =  1  the log loss is :  1.2676661626111678\n",
      "For values of alpha =  10  the log loss is :  1.4195499561212752\n",
      "For values of alpha =  100  the log loss is :  1.4903646677522868\n"
     ]
    }
   ],
   "source": [
    "alpha = [ 10 ** x for x in range(-6, 3) ]\n",
    "\n",
    "logError = [ ]\n",
    "\n",
    "for i in alpha :\n",
    "    classifier = SGDClassifier(class_weight='balanced', alpha = i, penalty='l2', loss='log', random_state=42)\n",
    "    classifier.fit(xtrRC1, ytrd2)\n",
    "    \n",
    "    # ClaibratedClassifierCV() : Probability calibration with isotonic regression or sigmoid.\n",
    "    # With this class, the base_estimator is fit on the train set of the cross-validation generator and the ......\n",
    "    # .... test set is used for calibration. The probabilities for each of the folds are then averaged for prediction\n",
    "    \n",
    "    clf = CalibratedClassifierCV( classifier, method=\"sigmoid\" )\n",
    "    \n",
    "    # base_estimator : (classifier) The classifier whose output decision func needs to be calibrated to offer more accurate...\n",
    "    # .... predict_proba outputs. If cv=prefit, the classifier must have been fit already on data.\n",
    "    \n",
    "    clf.fit(xtrRC1, ytrd2)\n",
    "    \n",
    "    predictY = clf.predict_proba( xcvRC1 )\n",
    "    \n",
    "    logError.append( log_loss( ycvd2, predictY, labels = clf.classes_, eps = 1e-15) )\n",
    "    print('For values of alpha = ', i, \" the log loss is : \",log_loss(ycvd2, predictY, labels=clf.classes_, eps=1e-15) )"
   ]
  },
  {
   "cell_type": "code",
   "execution_count": 138,
   "metadata": {},
   "outputs": [
    {
     "name": "stdout",
     "output_type": "stream",
     "text": [
      " Best alpha :  1e-05\n",
      " The train log loss is :  0.8230172914388513\n",
      " The test log loss is :  1.0725767673466318\n",
      " The cv log loss is :  1.0863845590336372\n"
     ]
    }
   ],
   "source": [
    "import numpy as np \n",
    "bestA = alpha[ np.argmin(logError) ]\n",
    "clf = SGDClassifier(class_weight='balanced', alpha = bestA, penalty='l2', loss='log', random_state=42)\n",
    "clf.fit(xtrRC1, ytrd2)\n",
    "\n",
    "clf = CalibratedClassifierCV( clf, method=\"sigmoid\" )\n",
    "clf.fit(xtrRC1, ytrd2)\n",
    "\n",
    "print(' Best alpha : ', bestA)\n",
    "\n",
    "predictY = clf.predict_proba( xtrRC1 )\n",
    "print(' The train log loss is : ',log_loss( ytrd2, predictY, labels = clf.classes_, eps = 1e-15) )\n",
    "\n",
    "predictY = clf.predict_proba( xteRC1 )\n",
    "print(' The test log loss is : ',log_loss( yted2, predictY, labels = clf.classes_, eps = 1e-15) )\n",
    "\n",
    "predictY = clf.predict_proba( xcvRC1 )\n",
    "print(' The cv log loss is : ',log_loss( ycvd2, predictY, labels = clf.classes_, eps = 1e-15) )"
   ]
  },
  {
   "cell_type": "markdown",
   "metadata": {
    "collapsed": true
   },
   "source": [
    "## KNN"
   ]
  },
  {
   "cell_type": "code",
   "execution_count": 141,
   "metadata": {},
   "outputs": [
    {
     "name": "stdout",
     "output_type": "stream",
     "text": [
      "For values of K =  5  the log loss is :  1.051420536259782\n",
      "For values of K =  9  the log loss is :  1.0448571817273438\n",
      "For values of K =  10  the log loss is :  1.0440432095480678\n",
      "For values of K =  11  the log loss is :  1.0475122334099145\n",
      "For values of K =  15  the log loss is :  1.0562538943406925\n",
      "For values of K =  25  the log loss is :  1.0765237454071528\n",
      "For values of K =  31  the log loss is :  1.0804853901498412\n",
      "For values of K =  41  the log loss is :  1.0952513060827043\n",
      "For values of K =  51  the log loss is :  1.101224324090317\n",
      "For values of K =  61  the log loss is :  1.1044569395566426\n",
      "For values of K =  81  the log loss is :  1.1001957342243152\n",
      "For values of K =  91  the log loss is :  1.1073710813799102\n"
     ]
    }
   ],
   "source": [
    "from sklearn.neighbors import KNeighborsClassifier\n",
    "\n",
    "k = [5, 9, 10, 11, 15, 25, 31, 41, 51, 61, 81, 91] # Various value of Hyperparameter\n",
    "\n",
    "logError = [ ]\n",
    "\n",
    "for i in k :\n",
    "    classifier = KNeighborsClassifier( n_neighbors = i ) \n",
    "    classifier.fit(xtrRC1, ytrd2)\n",
    "    \n",
    "    # ClaibratedClassifierCV() : Probability calibration with isotonic regression or sigmoid.\n",
    "    # With this class, the base_estimator is fit on the train set of the cross-validation generator and the ......\n",
    "    # .... test set is used for calibration. The probabilities for each of the folds are then averaged for prediction\n",
    "    \n",
    "    clf = CalibratedClassifierCV( classifier, method=\"sigmoid\" )\n",
    "    \n",
    "    # base_estimator : (classifier) The classifier whose output decision func needs to be calibrated to offer more accurate...\n",
    "    # .... predict_proba outputs. If cv=prefit, the classifier must have been fit already on data.\n",
    "    \n",
    "    clf.fit(xtrRC1, ytrd2)\n",
    "    \n",
    "    predictY = clf.predict_proba( xcvRC1 )\n",
    "    \n",
    "    logError.append( log_loss( ycvd2, predictY, labels = clf.classes_, eps = 1e-15) )\n",
    "    print('For values of K = ', i, \" the log loss is : \",log_loss(ycvd2, predictY, labels=clf.classes_, eps=1e-15) )"
   ]
  },
  {
   "cell_type": "code",
   "execution_count": 146,
   "metadata": {},
   "outputs": [
    {
     "name": "stdout",
     "output_type": "stream",
     "text": [
      " Best K :  9\n",
      " The train log loss is :  0.669176825197482\n",
      " The test log loss is :  1.0422140442763765\n",
      " The cv log loss is :  1.0448571817273438\n"
     ]
    }
   ],
   "source": [
    "bestk = 9\n",
    "clf = KNeighborsClassifier( n_neighbors = bestk )\n",
    "clf.fit(xtrRC1, ytrd2)\n",
    "\n",
    "clf = CalibratedClassifierCV( clf, method=\"sigmoid\" )\n",
    "clf.fit(xtrRC1, ytrd2)\n",
    "\n",
    "print(' Best K : ', bestk)\n",
    "\n",
    "predictY = clf.predict_proba( xtrRC1 )\n",
    "print(' The train log loss is : ',log_loss( ytrd2, predictY, labels = clf.classes_, eps = 1e-15) )\n",
    "\n",
    "predictY = clf.predict_proba( xteRC1 )\n",
    "print(' The test log loss is : ',log_loss( yted2, predictY, labels = clf.classes_, eps = 1e-15) )\n",
    "\n",
    "predictY = clf.predict_proba( xcvRC1 )\n",
    "print(' The cv log loss is : ',log_loss( ycvd2, predictY, labels = clf.classes_, eps = 1e-15) )"
   ]
  },
  {
   "cell_type": "markdown",
   "metadata": {
    "collapsed": true
   },
   "source": [
    "## Stacking Classifier Response Coding"
   ]
  },
  {
   "cell_type": "code",
   "execution_count": 126,
   "metadata": {
    "collapsed": true
   },
   "outputs": [],
   "source": [
    "from mlxtend.classifier import StackingClassifier # pip install mlxtend\n",
    "\n",
    "from sklearn.naive_bayes import MultinomialNB\n",
    "from sklearn.linear_model import LogisticRegression\n"
   ]
  },
  {
   "cell_type": "code",
   "execution_count": 188,
   "metadata": {},
   "outputs": [
    {
     "name": "stdout",
     "output_type": "stream",
     "text": [
      "Logistic Regression :  Log Loss: 1.15\n",
      "Support vector machines : Log Loss:  1.131183291709275\n",
      "Naive Bayes : Log Loss:  1.237688611965795\n",
      "--------------------------------------------------\n",
      "Stacking Classifer : for the value of alpha: 0.0001  Log Loss: 1.9306765871556373\n",
      "Stacking Classifer : for the value of alpha: 0.001  Log Loss: 1.8186959924057207\n",
      "Stacking Classifer : for the value of alpha: 0.01  Log Loss: 1.4543067126749814\n",
      "Stacking Classifer : for the value of alpha: 0.1  Log Loss: 1.1673756953353236\n",
      "Stacking Classifer : for the value of alpha: 1  Log Loss: 1.100120329499394\n",
      "Stacking Classifer : for the value of alpha: 10  Log Loss: 1.0920669819790216\n",
      "Stacking Classifer : for the value of alpha: 15  Log Loss: 1.0907299119198675\n",
      "Stacking Classifer : for the value of alpha: 20  Log Loss: 1.0901691219500627\n",
      "Stacking Classifer : for the value of alpha: 23  Log Loss: 1.0899903515151579\n",
      "Stacking Classifer : for the value of alpha: 25  Log Loss: 1.0899614461464064\n",
      "Stacking Classifer : for the value of alpha: 30  Log Loss: 1.0899991542259193\n",
      "Stacking Classifer : for the value of alpha: 40  Log Loss: 1.090316722411891\n",
      "Stacking Classifer : for the value of alpha: 50  Log Loss: 1.090940211058856\n",
      "Stacking Classifer : for the value of alpha: 60  Log Loss: 1.0915735915808882\n"
     ]
    }
   ],
   "source": [
    "classifier1 = SGDClassifier(alpha=0.001, penalty='l2', loss='log', class_weight='balanced', random_state=0)\n",
    "classifier1.fit(xtrRC1, ytrd2)\n",
    "clf1 = CalibratedClassifierCV(classifier1, method=\"sigmoid\")\n",
    "\n",
    "classifier2 = SGDClassifier(alpha=1, penalty='l2', loss='hinge', class_weight='balanced', random_state=0)\n",
    "classifier2.fit(xtrRC1, ytrd2)\n",
    "clf2 = CalibratedClassifierCV(classifier2, method=\"sigmoid\")\n",
    "\n",
    "\n",
    "classifier3 = MultinomialNB(alpha=0.001)\n",
    "classifier3.fit(xtrRC1, ytrd2)\n",
    "clf3 = CalibratedClassifierCV(classifier3, method=\"sigmoid\")\n",
    "\n",
    "\n",
    "clf1.fit(xtrRC1, ytrd2)\n",
    "print(\"Logistic Regression :  Log Loss: %0.2f\" % (log_loss(ycvd2, clf1.predict_proba(xcvRC1))))\n",
    "\n",
    "clf2.fit(xtrRC1, ytrd2)\n",
    "print(\"Support vector machines : Log Loss: \", (log_loss(ycvd2, clf2.predict_proba(xcvRC1))))\n",
    "\n",
    "clf3.fit(xtrRC1, ytrd2)\n",
    "print(\"Naive Bayes : Log Loss: \", (log_loss(ycvd2, clf3.predict_proba(xcvRC1))))\n",
    "print(\"-\"*50)\n",
    "\n",
    "alpha = [0.0001,0.001,0.01,0.1,1,10,15, 20, 23, 25, 30, 40,50, 60] \n",
    "best_alpha = 999\n",
    "\n",
    "for i in alpha:\n",
    "    lr = LogisticRegression(C=i)\n",
    "    sclf = StackingClassifier(classifiers=[clf1, clf2, clf3], meta_classifier=lr, use_probas=True)\n",
    "    sclf.fit(xtrRC1, ytrd2)\n",
    "    print(\"Stacking Classifer : for the value of alpha:\",i, \" Log Loss:\",  (log_loss(ycvd2, sclf.predict_proba(xcvRC1))))\n",
    "    log_error = log_loss(ycvd2, sclf.predict_proba(xcvRC1))\n",
    "    if best_alpha > log_error:\n",
    "        best_alpha = log_error"
   ]
  },
  {
   "cell_type": "code",
   "execution_count": 189,
   "metadata": {},
   "outputs": [
    {
     "name": "stdout",
     "output_type": "stream",
     "text": [
      "Log loss (train) on the stacking classifier : 0.9906576802892209\n",
      "Log loss (CV) on the stacking classifier : 1.1673756953353236\n",
      "Log loss (test) on the stacking classifier : 1.1482238640740874\n"
     ]
    }
   ],
   "source": [
    "lr = LogisticRegression(C = 0.1)\n",
    "sclf = StackingClassifier(classifiers=[clf1, clf2, clf3], meta_classifier=lr, use_probas=True)\n",
    "sclf.fit(xtrRC1, ytrd2)\n",
    "\n",
    "log_error = log_loss(ytrd2, sclf.predict_proba(xtrRC1))\n",
    "print(\"Log loss (train) on the stacking classifier :\",log_error)\n",
    "\n",
    "log_error = log_loss(ycvd2, sclf.predict_proba(xcvRC1))\n",
    "print(\"Log loss (CV) on the stacking classifier :\",log_error)\n",
    "\n",
    "log_error = log_loss(yted2, sclf.predict_proba(xteRC1))\n",
    "print(\"Log loss (test) on the stacking classifier :\",log_error)"
   ]
  },
  {
   "cell_type": "markdown",
   "metadata": {
    "collapsed": true
   },
   "source": [
    "## Stacking Classifier TFIDF"
   ]
  },
  {
   "cell_type": "code",
   "execution_count": 127,
   "metadata": {},
   "outputs": [
    {
     "name": "stdout",
     "output_type": "stream",
     "text": [
      "Logistic Regression :  Log Loss: 0.98\n",
      "Support vector machines : Log Loss:  1.3258239071326678\n",
      "Naive Bayes : Log Loss:  1.23025640343363\n",
      "--------------------------------------------------\n",
      "Stacking Classifer : for the value of alpha: 0.0001  Log Loss: 1.9307240613365082\n",
      "Stacking Classifer : for the value of alpha: 0.001  Log Loss: 1.814493876840171\n",
      "Stacking Classifer : for the value of alpha: 0.01  Log Loss: 1.3682163310440416\n",
      "Stacking Classifer : for the value of alpha: 0.1  Log Loss: 1.0463442421234976\n",
      "Stacking Classifer : for the value of alpha: 1  Log Loss: 1.153337993577137\n",
      "Stacking Classifer : for the value of alpha: 10  Log Loss: 1.3541705849112775\n",
      "Stacking Classifer : for the value of alpha: 100  Log Loss: 1.5204248277559287\n",
      "Stacking Classifer : for the value of alpha: 1000  Log Loss: 1.6226971824492062\n"
     ]
    }
   ],
   "source": [
    "classifier1 = SGDClassifier(alpha=0.001, penalty='l2', loss='log', class_weight='balanced', random_state=0)\n",
    "classifier1.fit(xtr3, ytrd2)\n",
    "clf1 = CalibratedClassifierCV(classifier1, method=\"sigmoid\")\n",
    "\n",
    "classifier2 = SGDClassifier(alpha=1, penalty='l2', loss='hinge', class_weight='balanced', random_state=0)\n",
    "classifier2.fit(xtr3, ytrd2)\n",
    "clf2 = CalibratedClassifierCV(classifier2, method=\"sigmoid\")\n",
    "\n",
    "\n",
    "classifier3 = MultinomialNB(alpha=0.001)\n",
    "classifier3.fit(xtr3, ytrd2)\n",
    "clf3 = CalibratedClassifierCV(classifier3, method=\"sigmoid\")\n",
    "\n",
    "\n",
    "clf1.fit(xtr3, ytrd2)\n",
    "print(\"Logistic Regression :  Log Loss: %0.2f\" % (log_loss(ycvd2, clf1.predict_proba(xcv3))))\n",
    "\n",
    "clf2.fit(xtr3, ytrd2)\n",
    "print(\"Support vector machines : Log Loss: \", (log_loss(ycvd2, clf2.predict_proba(xcv3))))\n",
    "\n",
    "clf3.fit(xtr3, ytrd2)\n",
    "print(\"Naive Bayes : Log Loss: \", (log_loss(ycvd2, clf3.predict_proba(xcv3))))\n",
    "print(\"-\"*50)\n",
    "\n",
    "alpha = [0.0001,0.001,0.01,0.1,1,10, 100, 1000] \n",
    "best_alpha = 999\n",
    "\n",
    "for i in alpha:\n",
    "    lr = LogisticRegression( C = i )\n",
    "    sclf = StackingClassifier( classifiers = [clf1, clf2, clf3], meta_classifier = lr, use_probas=True)\n",
    "    sclf.fit(xtr3, ytrd2)\n",
    "    print(\"Stacking Classifer : for the value of alpha:\",i, \" Log Loss:\",  (log_loss(ycvd2, sclf.predict_proba(xcv3))))\n",
    "    log_error = log_loss(ycvd2, sclf.predict_proba(xcv3))\n",
    "    if best_alpha > log_error:\n",
    "        best_alpha = log_error"
   ]
  },
  {
   "cell_type": "code",
   "execution_count": 176,
   "metadata": {},
   "outputs": [
    {
     "name": "stdout",
     "output_type": "stream",
     "text": [
      "Log loss (train) on the stacking classifier : 0.5665342644775587\n",
      "Log loss (CV) on the stacking classifier : 1.0666129160151658\n",
      "Log loss (test) on the stacking classifier : 1.0343899497657905\n"
     ]
    }
   ],
   "source": [
    "lr = LogisticRegression(C = 0.1)\n",
    "sclf = StackingClassifier(classifiers=[clf1, clf2, clf3], meta_classifier=lr, use_probas=True)\n",
    "sclf.fit(xtr3, ytrd2)\n",
    "\n",
    "log_error = log_loss(ytrd2, sclf.predict_proba(xtr3))\n",
    "print(\"Log loss (train) on the stacking classifier :\",log_error)\n",
    "\n",
    "log_error = log_loss(ycvd2, sclf.predict_proba(xcv3))\n",
    "print(\"Log loss (CV) on the stacking classifier :\",log_error)\n",
    "\n",
    "log_error = log_loss(yted2, sclf.predict_proba(xte3))\n",
    "print(\"Log loss (test) on the stacking classifier :\",log_error)"
   ]
  },
  {
   "cell_type": "code",
   "execution_count": null,
   "metadata": {
    "collapsed": true
   },
   "outputs": [],
   "source": []
  },
  {
   "cell_type": "markdown",
   "metadata": {
    "collapsed": true
   },
   "source": [
    "## XG Boost TFIDF"
   ]
  },
  {
   "cell_type": "code",
   "execution_count": null,
   "metadata": {},
   "outputs": [
    {
     "name": "stdout",
     "output_type": "stream",
     "text": [
      "For values of alpha =  0.01  and depth =  1  the log loss is :  1.2189406311642224\n",
      "For values of alpha =  0.01  and depth =  5  the log loss is :  1.2064912828417294\n",
      "For values of alpha =  0.01  and depth =  10  the log loss is :  1.2158805796116527\n",
      "For values of alpha =  0.01  and depth =  50  the log loss is :  1.2269509580886535\n",
      "For values of alpha =  0.01  and depth =  100  the log loss is :  1.2269509580886535\n",
      "For values of alpha =  0.01  and depth =  500  the log loss is :  1.2269509580886535\n",
      "For values of alpha =  0.01  and depth =  600  the log loss is :  1.2269509580886535\n",
      "For values of alpha =  0.1  and depth =  1  the log loss is :  1.2189406311642224\n",
      "For values of alpha =  0.1  and depth =  5  the log loss is :  1.2064912828417294\n",
      "For values of alpha =  0.1  and depth =  10  the log loss is :  1.2158805796116527\n",
      "For values of alpha =  0.1  and depth =  50  the log loss is :  1.2269509580886535\n",
      "For values of alpha =  0.1  and depth =  100  the log loss is :  1.2269509580886535\n",
      "For values of alpha =  0.1  and depth =  500  the log loss is :  1.2269509580886535\n",
      "For values of alpha =  0.1  and depth =  600  the log loss is :  1.2269509580886535\n",
      "For values of alpha =  0  and depth =  1  the log loss is :  1.2189406311642224\n",
      "For values of alpha =  0  and depth =  5  the log loss is :  1.2064912828417294\n",
      "For values of alpha =  0  and depth =  10  the log loss is :  1.2158805796116527\n",
      "For values of alpha =  0  and depth =  50  the log loss is :  1.2269509580886535\n",
      "For values of alpha =  0  and depth =  100  the log loss is :  1.2269509580886535\n",
      "For values of alpha =  0  and depth =  500  the log loss is :  1.2269509580886535\n",
      "For values of alpha =  0  and depth =  600  the log loss is :  1.2269509580886535\n",
      "For values of alpha =  1  and depth =  1  the log loss is :  1.2189406311642224\n",
      "For values of alpha =  1  and depth =  5  the log loss is :  1.2064912828417294\n",
      "For values of alpha =  1  and depth =  10  the log loss is :  1.2158805796116527\n",
      "For values of alpha =  1  and depth =  50  the log loss is :  1.2269509580886535\n",
      "For values of alpha =  1  and depth =  100  the log loss is :  1.2269509580886535\n"
     ]
    }
   ],
   "source": [
    "import xgboost as xgb\n",
    "\n",
    "max_depth = [ 1, 5, 10, 50, 100, 500, 600 ]\n",
    "learning_rate = [ 0.01, 0.1, 0 , 1  ]\n",
    "\n",
    "\n",
    "logError = [ ]\n",
    "\n",
    "for i in learning_rate :\n",
    "    for j in max_depth:\n",
    "        \n",
    "        classifier = xgb.XGBClassifier( objective = \"binary:logistic\", random_state = 42, max_depth = j, eta = i )\n",
    "        classifier.fit(xtr3, ytrd2)\n",
    "\n",
    "        # ClaibratedClassifierCV() : Probability calibration with isotonic regression or sigmoid.\n",
    "        # With this class, the base_estimator is fit on the train set of the cross-validation generator and the ......\n",
    "        # .... test set is used for calibration. The probabilities for each of the folds are then averaged for prediction\n",
    "\n",
    "        clf = CalibratedClassifierCV( classifier, method=\"sigmoid\" )\n",
    "\n",
    "        # base_estimator : (classifier) The classifier whose output decision func needs to be calibrated to offer more accurate...\n",
    "        # .... predict_proba outputs. If cv=prefit, the classifier must have been fit already on data.\n",
    "\n",
    "        clf.fit(xtr3, ytrd2)\n",
    "\n",
    "        predictY = clf.predict_proba( xcv3 )\n",
    "\n",
    "        logError.append( log_loss( ycvd2, predictY, labels = clf.classes_, eps = 1e-15) )\n",
    "        print('For values of alpha = ', i,' and depth = ', j, \" the log loss is : \",log_loss(ycvd2, predictY, labels=clf.classes_, eps=1e-15) )"
   ]
  },
  {
   "cell_type": "markdown",
   "metadata": {
    "collapsed": true
   },
   "source": [
    "## Creating Avg Word 2 vec features"
   ]
  },
  {
   "cell_type": "markdown",
   "metadata": {},
   "source": [
    "### Word 2 vec"
   ]
  },
  {
   "cell_type": "code",
   "execution_count": 40,
   "metadata": {
    "collapsed": true
   },
   "outputs": [],
   "source": [
    "# Function Creating a list that contains all the words in the data column\n",
    "\n",
    "def stow( data ):\n",
    "    sentence = []\n",
    "\n",
    "    for sen in tqdm( data.values ):\n",
    "        fsentence = []\n",
    "    \n",
    "        for w in sen.split():\n",
    "            for cw in w.split():\n",
    "            \n",
    "                if cw.isalpha():\n",
    "                    fsentence.append( cw.lower() )\n",
    "                else:\n",
    "                    continue\n",
    "        sentence.append( fsentence )\n",
    "    return sentence"
   ]
  },
  {
   "cell_type": "code",
   "execution_count": 41,
   "metadata": {},
   "outputs": [
    {
     "name": "stderr",
     "output_type": "stream",
     "text": [
      "100%|█████████████████████████████████████████████████████████████████████████████| 2124/2124 [00:06<00:00, 329.72it/s]\n"
     ]
    }
   ],
   "source": [
    "import gensim\n",
    "\n",
    "# For Train\n",
    "\n",
    "xtrw = stow( xtrd2['TEXT'] ) # List of words for xtrain\n",
    "\n",
    "print( len( xtrw ) )\n",
    "\n",
    "xtrmodel = gensim.models.Word2Vec( xtrw, min_count = 5, size = 100, workers = 4 )\n",
    "# min_count : If a word dosent apper more then the value assigned do't construct w2v for it\n",
    "# size: dimension of vector to be constructed  ( 100 - 300 most cases )\n",
    "# workers: If you hav a multi cores you can set it to 4 for performence\n",
    "\n",
    "xtrwords = list( xtrmodel.wv.vocab )\n",
    "len( xtrwords )"
   ]
  },
  {
   "cell_type": "code",
   "execution_count": 45,
   "metadata": {},
   "outputs": [
    {
     "name": "stderr",
     "output_type": "stream",
     "text": [
      "100%|███████████████████████████████████████████████████████████████████████████████| 532/532 [00:01<00:00, 337.18it/s]\n"
     ]
    },
    {
     "name": "stdout",
     "output_type": "stream",
     "text": [
      "532\n"
     ]
    },
    {
     "data": {
      "text/plain": [
       "17063"
      ]
     },
     "execution_count": 45,
     "metadata": {},
     "output_type": "execute_result"
    }
   ],
   "source": [
    "# For Cross validation\n",
    "\n",
    "xcvw = stow( xcvd2['TEXT'] )\n",
    "\n",
    "print( len( xcvw ) )\n",
    "\n",
    "import gensim\n",
    "\n",
    "xcvmodel = gensim.models.Word2Vec( xcvw, min_count = 5, size =100, workers = 4 )\n",
    "\n",
    "xcvwords = list( xcvmodel.wv.vocab )\n",
    "len( xcvwords )"
   ]
  },
  {
   "cell_type": "code",
   "execution_count": 51,
   "metadata": {},
   "outputs": [
    {
     "name": "stderr",
     "output_type": "stream",
     "text": [
      "100%|███████████████████████████████████████████████████████████████████████████████| 665/665 [00:02<00:00, 270.89it/s]\n"
     ]
    },
    {
     "name": "stdout",
     "output_type": "stream",
     "text": [
      "665\n"
     ]
    },
    {
     "data": {
      "text/plain": [
       "19067"
      ]
     },
     "execution_count": 51,
     "metadata": {},
     "output_type": "execute_result"
    }
   ],
   "source": [
    "# For Test\n",
    "\n",
    "xtew = stow( xted2['TEXT'] )\n",
    "\n",
    "print( len( xtew ) )\n",
    "\n",
    "import gensim\n",
    "\n",
    "xtemodel = gensim.models.Word2Vec( xtew, min_count = 5, size =100, workers = 4 )\n",
    "\n",
    "xtewords = list( xtemodel.wv.vocab )\n",
    "len( xtewords )"
   ]
  },
  {
   "cell_type": "markdown",
   "metadata": {},
   "source": [
    "### Avg Word 2 vec"
   ]
  },
  {
   "cell_type": "code",
   "execution_count": 47,
   "metadata": {
    "collapsed": true
   },
   "outputs": [],
   "source": [
    "import numpy as np\n",
    "\n",
    "\n",
    "def avgw2v( data, words, model ):\n",
    "    sentV = [] # average word 2 vec for each essay is stored in this\n",
    "\n",
    "    for sent in tqdm( data ):\n",
    "    \n",
    "        svec = np.zeros(100)  # creates a np array with 50 0's we took 50 here cause we took 50 as our size in Word2Vec model\n",
    "        cnw = 0\n",
    "    \n",
    "        for w in sent:\n",
    "            if w in words:\n",
    "                vec = model.wv[ w ]  # Computing word 2 vec\n",
    "                svec += vec     # Add it to the svec\n",
    "                cnw += 1\n",
    "            \n",
    "        if cnw != 0:        \n",
    "            svec /= cnw  # Averaging with the count of number of words with valid vector in the Essay\n",
    "        sentV.append( svec )\n",
    "    \n",
    "    return sentV"
   ]
  },
  {
   "cell_type": "code",
   "execution_count": 48,
   "metadata": {},
   "outputs": [
    {
     "name": "stderr",
     "output_type": "stream",
     "text": [
      "100%|██████████████████████████████████████████████████████████████████████████████| 2124/2124 [17:37<00:00,  3.38it/s]\n"
     ]
    }
   ],
   "source": [
    "xtrAW2V = np.asarray( avgw2v( xtrw, xtrwords, xtrmodel ) )"
   ]
  },
  {
   "cell_type": "code",
   "execution_count": 49,
   "metadata": {},
   "outputs": [
    {
     "name": "stderr",
     "output_type": "stream",
     "text": [
      "100%|████████████████████████████████████████████████████████████████████████████████| 532/532 [03:05<00:00,  2.08it/s]\n"
     ]
    }
   ],
   "source": [
    "xcvAW2V = np.asarray( avgw2v( xcvw, xcvwords, xcvmodel ) )"
   ]
  },
  {
   "cell_type": "code",
   "execution_count": 52,
   "metadata": {},
   "outputs": [
    {
     "name": "stderr",
     "output_type": "stream",
     "text": [
      "100%|████████████████████████████████████████████████████████████████████████████████| 665/665 [03:58<00:00,  1.59it/s]\n"
     ]
    }
   ],
   "source": [
    "xteAW2V = np.asarray( avgw2v( xtew, xtewords, xtemodel ) )"
   ]
  },
  {
   "cell_type": "markdown",
   "metadata": {},
   "source": [
    "### Creating Data Matrix"
   ]
  },
  {
   "cell_type": "code",
   "execution_count": 54,
   "metadata": {},
   "outputs": [
    {
     "name": "stdout",
     "output_type": "stream",
     "text": [
      "(2124, 2383)\n",
      "(665, 2383)\n",
      "(532, 2383)\n"
     ]
    }
   ],
   "source": [
    "from scipy.sparse import hstack\n",
    "\n",
    "xtr4 = hstack(( xtrGeneTF2, xtrVarTF2, xtrAW2V, xtrT1stTF2, xtrTLTF2, xtrCG, xtrCV, xtrLV, xtrLG, xtrLT )).tocsr()\n",
    "xte4 = hstack(( xteGeneTF2, xteVarTF2, xteAW2V, xteT1stTF2, xteTLTF2, xteCG, xteCV, xteLV, xteLG, xteLT )).tocsr()\n",
    "xcv4 = hstack(( xcvGeneTF2, xcvVarTF2, xcvAW2V, xcvT1stTF2, xcvTLTF2, xcvCG, xcvCV, xcvLV, xcvLG, xcvLT )).tocsr()\n",
    "\n",
    "print( xtr4.shape )\n",
    "print( xte4.shape )\n",
    "print( xcv4.shape )"
   ]
  },
  {
   "cell_type": "code",
   "execution_count": 56,
   "metadata": {
    "collapsed": true
   },
   "outputs": [],
   "source": [
    "import warnings\n",
    "\n",
    "warnings.filterwarnings(\"ignore\")"
   ]
  },
  {
   "cell_type": "markdown",
   "metadata": {},
   "source": [
    "## Logistic Regression"
   ]
  },
  {
   "cell_type": "code",
   "execution_count": 63,
   "metadata": {},
   "outputs": [
    {
     "name": "stdout",
     "output_type": "stream",
     "text": [
      "For values of alpha =  1e-06  the log loss is :  1.3895227228960962\n",
      "For values of alpha =  1e-05  the log loss is :  1.4004286315053942\n",
      "For values of alpha =  0.0001  the log loss is :  1.3625960910742605\n",
      "For values of alpha =  0.001  the log loss is :  1.3280667553562957\n",
      "For values of alpha =  0.01  the log loss is :  1.5540800684701759\n",
      "For values of alpha =  0.1  the log loss is :  1.6740785605882313\n",
      "For values of alpha =  1  the log loss is :  1.818205282356213\n",
      "For values of alpha =  10  the log loss is :  1.8270087034134774\n",
      "For values of alpha =  100  the log loss is :  1.83782563604614\n"
     ]
    }
   ],
   "source": [
    "alpha = [ 10 ** x for x in range(-6, 3) ]\n",
    "\n",
    "logError = [ ]\n",
    "\n",
    "for i in alpha :\n",
    "    classifier = SGDClassifier( alpha = i, penalty='l2', loss='log', random_state=42)\n",
    "    classifier.fit(xtr4, ytrd2)\n",
    "    \n",
    "    # ClaibratedClassifierCV() : Probability calibration with isotonic regression or sigmoid.\n",
    "    # With this class, the base_estimator is fit on the train set of the cross-validation generator and the ......\n",
    "    # .... test set is used for calibration. The probabilities for each of the folds are then averaged for prediction\n",
    "    \n",
    "    clf = CalibratedClassifierCV( classifier, method=\"sigmoid\" )\n",
    "    \n",
    "    # base_estimator : (classifier) The classifier whose output decision func needs to be calibrated to offer more accurate...\n",
    "    # .... predict_proba outputs. If cv=prefit, the classifier must have been fit already on data.\n",
    "    \n",
    "    clf.fit(xtr4, ytrd2)\n",
    "    \n",
    "    predictY = clf.predict_proba( xcv4 )\n",
    "    \n",
    "    logError.append( log_loss( ycvd2, predictY, labels = clf.classes_, eps = 1e-15) )\n",
    "    print('For values of alpha = ', i, \" the log loss is : \",log_loss(ycvd2, predictY, labels=clf.classes_, eps=1e-15) )"
   ]
  },
  {
   "cell_type": "code",
   "execution_count": 64,
   "metadata": {},
   "outputs": [
    {
     "name": "stdout",
     "output_type": "stream",
     "text": [
      " Best alpha :  0.001\n",
      " The train log loss is :  0.733611012931541\n",
      " The test log loss is :  1.3423818313732172\n",
      " The cv log loss is :  1.3280667553562957\n"
     ]
    }
   ],
   "source": [
    "import numpy as np \n",
    "bestA = alpha[ np.argmin(logError) ]\n",
    "clf = SGDClassifier( alpha = bestA, penalty='l2', loss='log', random_state=42)\n",
    "clf.fit(xtr4, ytrd2)\n",
    "\n",
    "clf = CalibratedClassifierCV( clf, method=\"sigmoid\" )\n",
    "clf.fit(xtr4, ytrd2)\n",
    "\n",
    "print(' Best alpha : ', bestA)\n",
    "\n",
    "predictY = clf.predict_proba( xtr4 )\n",
    "print(' The train log loss is : ',log_loss( ytrd2, predictY, labels = clf.classes_, eps = 1e-15) )\n",
    "\n",
    "predictY = clf.predict_proba( xte4 )\n",
    "print(' The test log loss is : ',log_loss( yted2, predictY, labels = clf.classes_, eps = 1e-15) )\n",
    "\n",
    "predictY = clf.predict_proba( xcv4 )\n",
    "print(' The cv log loss is : ',log_loss( ycvd2, predictY, labels = clf.classes_, eps = 1e-15) )"
   ]
  },
  {
   "cell_type": "markdown",
   "metadata": {},
   "source": [
    "## Random Forest"
   ]
  },
  {
   "cell_type": "code",
   "execution_count": 65,
   "metadata": {},
   "outputs": [
    {
     "name": "stdout",
     "output_type": "stream",
     "text": [
      "For values of alpha =  100  and depth =  5  the log loss is :  1.6399353144035769\n",
      "For values of alpha =  100  and depth =  10  the log loss is :  1.707837323070964\n",
      "For values of alpha =  100  and depth =  20  the log loss is :  1.7206524460424888\n",
      "For values of alpha =  200  and depth =  5  the log loss is :  1.642047641854365\n",
      "For values of alpha =  200  and depth =  10  the log loss is :  1.6923733735249114\n",
      "For values of alpha =  200  and depth =  20  the log loss is :  1.7138324387673893\n",
      "For values of alpha =  500  and depth =  5  the log loss is :  1.6348697728478907\n",
      "For values of alpha =  500  and depth =  10  the log loss is :  1.6746941057367744\n",
      "For values of alpha =  500  and depth =  20  the log loss is :  1.7005156895609859\n",
      "For values of alpha =  1000  and depth =  5  the log loss is :  1.6349406963573498\n",
      "For values of alpha =  1000  and depth =  10  the log loss is :  1.668381162690545\n",
      "For values of alpha =  1000  and depth =  20  the log loss is :  1.699485386582567\n",
      "For values of alpha =  2000  and depth =  5  the log loss is :  1.627884391847224\n",
      "For values of alpha =  2000  and depth =  10  the log loss is :  1.6636670353603025\n",
      "For values of alpha =  2000  and depth =  20  the log loss is :  1.696684060420251\n"
     ]
    }
   ],
   "source": [
    "from sklearn.ensemble import RandomForestClassifier\n",
    "\n",
    "alpha = [100,200,500,1000,2000] # Various value of Hyperparameter\n",
    "max_depth = [5, 10, 20]\n",
    "\n",
    "logError = [ ]\n",
    "\n",
    "for i in alpha :\n",
    "    for j in max_depth:\n",
    "        classifier = RandomForestClassifier(n_estimators=i, criterion='gini', max_depth=j, random_state=42, n_jobs=-1)\n",
    "        classifier.fit(xtr4, ytrd2)\n",
    "\n",
    "        # ClaibratedClassifierCV() : Probability calibration with isotonic regression or sigmoid.\n",
    "        # With this class, the base_estimator is fit on the train set of the cross-validation generator and the ......\n",
    "        # .... test set is used for calibration. The probabilities for each of the folds are then averaged for prediction\n",
    "\n",
    "        clf = CalibratedClassifierCV( classifier, method=\"sigmoid\" )\n",
    "\n",
    "        # base_estimator : (classifier) The classifier whose output decision func needs to be calibrated to offer more accurate...\n",
    "        # .... predict_proba outputs. If cv=prefit, the classifier must have been fit already on data.\n",
    "\n",
    "        clf.fit(xtr4, ytrd2)\n",
    "\n",
    "        predictY = clf.predict_proba( xcv4 )\n",
    "\n",
    "        logError.append( log_loss( ycvd2, predictY, labels = clf.classes_, eps = 1e-15) )\n",
    "        print('For values of alpha = ', i,' and depth = ', j, \" the log loss is : \",log_loss(ycvd2, predictY, labels=clf.classes_, eps=1e-15) )"
   ]
  },
  {
   "cell_type": "markdown",
   "metadata": {},
   "source": [
    "## Top 10 k best Features"
   ]
  },
  {
   "cell_type": "code",
   "execution_count": 128,
   "metadata": {},
   "outputs": [
    {
     "name": "stdout",
     "output_type": "stream",
     "text": [
      "(2124, 2000)\n",
      "(532, 2000)\n"
     ]
    },
    {
     "data": {
      "text/plain": [
       "(665, 2000)"
      ]
     },
     "execution_count": 128,
     "metadata": {},
     "output_type": "execute_result"
    }
   ],
   "source": [
    "from sklearn.feature_selection import SelectKBest, chi2\n",
    "\n",
    "# Select features according to the k highest scores.\n",
    "\n",
    "topFeatures = SelectKBest( score_func = chi2, k = 2000 )\n",
    "# score_func : Score func which is applied to a pair of features X and label Y, It returns an array of scores 1 for each feature\n",
    "# then SelectKBest simply retains the first k features of dataset X with the highest scores.\n",
    "# k = no. of top features to be retained\n",
    "# chi2 : compute the chi2 statistic between each feature of X and Y a small val means the feature is independant of Y \n",
    "\n",
    "xtr3Top2k = topFeatures.fit_transform( xtr3, ytrd2 )  \n",
    "\n",
    "print( xtr3Top2k.shape )\n",
    "\n",
    "xcv3Top2k = topFeatures.fit_transform( xcv3, ycvd2 )\n",
    "print( xcv3Top2k.shape )\n",
    "\n",
    "xte3Top2k = topFeatures.fit_transform( xte3, yted2 )\n",
    "\n",
    "xte3Top2k.shape"
   ]
  },
  {
   "cell_type": "markdown",
   "metadata": {},
   "source": [
    "### Logistic Regression  Avg Word 2 vec Top 2k features "
   ]
  },
  {
   "cell_type": "code",
   "execution_count": 129,
   "metadata": {},
   "outputs": [
    {
     "name": "stdout",
     "output_type": "stream",
     "text": [
      "For values of alpha =  1e-06  the log loss is :  2.6548942426171296\n",
      "For values of alpha =  1e-05  the log loss is :  2.8707292003333023\n",
      "For values of alpha =  0.0001  the log loss is :  3.0217231044237765\n",
      "For values of alpha =  0.001  the log loss is :  2.3684101836368794\n",
      "For values of alpha =  0.01  the log loss is :  1.9762332980382251\n",
      "For values of alpha =  0.1  the log loss is :  1.881230647041772\n",
      "For values of alpha =  1  the log loss is :  1.8684391226195518\n",
      "For values of alpha =  10  the log loss is :  1.8661773824737868\n",
      "For values of alpha =  100  the log loss is :  1.8659120157274738\n"
     ]
    }
   ],
   "source": [
    "alpha = [ 10 ** x for x in range(-6, 3) ]\n",
    "\n",
    "logError = [ ]\n",
    "\n",
    "for i in alpha :\n",
    "    classifier = SGDClassifier( alpha = i, penalty='l2', loss='log', random_state=42)\n",
    "    classifier.fit(xtr3Top2k, ytrd2)\n",
    "    \n",
    "    # ClaibratedClassifierCV() : Probability calibration with isotonic regression or sigmoid.\n",
    "    # With this class, the base_estimator is fit on the train set of the cross-validation generator and the ......\n",
    "    # .... test set is used for calibration. The probabilities for each of the folds are then averaged for prediction\n",
    "    \n",
    "    clf = CalibratedClassifierCV( classifier, method=\"sigmoid\" )\n",
    "    \n",
    "    # base_estimator : (classifier) The classifier whose output decision func needs to be calibrated to offer more accurate...\n",
    "    # .... predict_proba outputs. If cv=prefit, the classifier must have been fit already on data.\n",
    "    \n",
    "    clf.fit(xtr3Top2k, ytrd2)\n",
    "    \n",
    "    predictY = clf.predict_proba( xcv3Top2k )\n",
    "    \n",
    "    logError.append( log_loss( ycvd2, predictY, labels = clf.classes_, eps = 1e-15) )\n",
    "    print('For values of alpha = ', i, \" the log loss is : \",log_loss(ycvd2, predictY, labels=clf.classes_, eps=1e-15) )"
   ]
  },
  {
   "cell_type": "code",
   "execution_count": null,
   "metadata": {},
   "outputs": [],
   "source": []
  },
  {
   "cell_type": "code",
   "execution_count": 161,
   "metadata": {},
   "outputs": [
    {
     "name": "stdout",
     "output_type": "stream",
     "text": [
      "\n",
      "\t\t\t Models and their Corresponding log loss with differnt featurization \n",
      " \n",
      "+----------------------------------------+------------------+------------------+---------------+-----------------+\n",
      "|                 Model                  |  Featurization   |  Train log loss  |  CV log loss  |  Test log loss  |\n",
      "+----------------------------------------+------------------+------------------+---------------+-----------------+\n",
      "|          Logistic Regression           |      TFIDF       |      0.5302      |     0.9768    |      0.9257     |\n",
      "|      Linear SVM (balanced class)       |      TFIDF       |      0.5760      |     0.9946    |      0.9432     |\n",
      "|             Random Forest              |      TFIDF       |        *         |     1.1905    |        *        |\n",
      "|    Stacking CLassifier (LR SVM NB)     |      TFIDF       |      0.5665      |     1.0666    |      1.0343     |\n",
      "|                XG Boost                |      TFIDF       |        *         |     1.2064    |        *        |\n",
      "|                                        |                  |                  |               |                 |\n",
      "|  Logistic Regression (balanced class)  |  ResponseCoding  |      0.8230      |     1.0863    |      1.0725     |\n",
      "|          K Nearest Neighbour           |  ResponseCoding  |      0.6691      |     1.0448    |      1.0422     |\n",
      "|             Random Forest              |  ResponseCoding  |        *         |     1.3279    |        *        |\n",
      "|    Stacking CLassifier (LR SVM NB)     |  ResponseCoding  |      0.9906      |     1.1673    |      1.1482     |\n",
      "|                                        |                  |                  |               |                 |\n",
      "|          Logistic Regression           |       AW2V       |        *         |     1.3280    |        *        |\n",
      "|             Random Forest              |       AW2V       |        *         |     1.6278    |        *        |\n",
      "|     Logistic Regression Top2K feat     |       AW2V       |        *         |     1.8659    |        *        |\n",
      "+----------------------------------------+------------------+------------------+---------------+-----------------+\n",
      "\n",
      "\t\t\t * : ignored calculation since CV log loss > 1.19 \n"
     ]
    }
   ],
   "source": [
    "from prettytable import PrettyTable\n",
    "    \n",
    "x = PrettyTable()\n",
    "   \n",
    "x.field_names = [ \" Model \", \" Featurization \", \" Train log loss \", \" CV log loss \", \" Test log loss \" ]\n",
    "\n",
    "x.add_row( [ \" Logistic Regression \", \" TFIDF \", \" 0.5302 \", \" 0.9768 \", \" 0.9257 \" ] )\n",
    "x.add_row( [ \" Linear SVM (balanced class) \", \" TFIDF \", \" 0.5760 \", \" 0.9946 \", \" 0.9432 \" ] )\n",
    "#x.add_row( [ \" K Nearest Neighbour \", \" TFIDF \", \" * \", \" 1.2574 \", \" * \" ] )\n",
    "x.add_row( [ \" Random Forest \", \" TFIDF \", \" * \", \" 1.1905 \", \" * \" ] )\n",
    "x.add_row( [ \" Stacking CLassifier (LR SVM NB) \", \" TFIDF \", \" 0.5665 \", \" 1.0666 \", \" 1.0343 \" ] )\n",
    "x.add_row( [ \" XG Boost \", \" TFIDF \", \" * \", \" 1.2064 \", \" * \" ] )\n",
    "x.add_row([\"\",\"\",\"\",\"\",\"\"])\n",
    "\n",
    "x.add_row( [ \" Logistic Regression (balanced class) \", \" ResponseCoding \", \" 0.8230 \", \" 1.0863 \", \" 1.0725 \" ] )\n",
    "x.add_row( [ \" K Nearest Neighbour \", \" ResponseCoding \", \" 0.6691 \", \" 1.0448 \", \"  1.0422 \" ] )\n",
    "x.add_row( [ \" Random Forest \", \" ResponseCoding \", \" * \", \" 1.3279 \", \" * \" ] )\n",
    "x.add_row( [ \" Stacking CLassifier (LR SVM NB) \", \" ResponseCoding \", \" 0.9906 \", \" 1.1673 \", \" 1.1482 \" ] )\n",
    "x.add_row([\"\",\"\",\"\",\"\",\"\"])\n",
    "\n",
    "x.add_row( [ \" Logistic Regression \", \" AW2V \", \" * \", \" 1.3280 \", \" * \" ] )\n",
    "x.add_row( [ \" Random Forest \", \" AW2V \", \" * \", \" 1.6278 \", \" * \" ] )\n",
    "x.add_row( [ \" Logistic Regression Top2K feat \", \" AW2V \", \" * \", \" 1.8659 \", \" * \" ] )\n",
    "\n",
    "print(\"\\n\\t\\t\\t Models and their Corresponding log loss with differnt featurization \\n \")\n",
    "print( x )\n",
    "\n",
    "print(\"\\n\\t\\t\\t * : ignored calculation since CV log loss > 1.19 \")\n",
    "# Ref : http://zetcode.com/python/prettytable/"
   ]
  },
  {
   "cell_type": "markdown",
   "metadata": {},
   "source": [
    "<font size=3> <br> From the above table we can see that the best Model after Feature Engineering ( combining Class + creating new Features ) is : <br><br>\n",
    "Logistic Regression with TFIDF text featurization with Test log loss of 0.9257"
   ]
  },
  {
   "cell_type": "code",
   "execution_count": null,
   "metadata": {
    "collapsed": true
   },
   "outputs": [],
   "source": []
  }
 ],
 "metadata": {
  "kernelspec": {
   "display_name": "Python 3",
   "language": "python",
   "name": "python3"
  },
  "language_info": {
   "codemirror_mode": {
    "name": "ipython",
    "version": 3
   },
   "file_extension": ".py",
   "mimetype": "text/x-python",
   "name": "python",
   "nbconvert_exporter": "python",
   "pygments_lexer": "ipython3",
   "version": "3.6.3"
  }
 },
 "nbformat": 4,
 "nbformat_minor": 2
}
