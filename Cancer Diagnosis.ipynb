{
 "cells": [
  {
   "cell_type": "markdown",
   "metadata": {},
   "source": [
    "# Cancer Diagnosis 1"
   ]
  },
  {
   "cell_type": "markdown",
   "metadata": {},
   "source": [
    "<font size = 3> <b>The workflow is as follows:</b><br><br>\n",
    "___1. ___ A molecular pathologist selects a list of genetic variations of interest that he/she want to analyze <br>\n",
    "___2. ___The molecular pathologist searches for evidence in the medical literature that somehow are relevant to the genetic variations of interest <br>\n",
    "___3. ___ Finally this molecular pathologist spends a huge amount of time analyzing the evidence related to each of the variations to classify them <br><br>\n",
    "\n",
    "Our goal here is to replace step 3 by a machine learning model. The molecular pathologist will still have to decide which variations are of interest, and also collect the relevant evidence for them. But the last step, which is also the most time consuming, will be fully automated.</font><br>\n",
    "\n",
    "<i> Ref : https://www.kaggle.com/c/msk-redefining-cancer-treatment/discussion/35336#198462"
   ]
  },
  {
   "cell_type": "markdown",
   "metadata": {},
   "source": [
    "<font size = 3> <br><b>Problem statement : </b> <br>\n",
    "<p> Classify the given genetic variations/mutations based on evidence from text-based clinical literature. </p>"
   ]
  },
  {
   "cell_type": "code",
   "execution_count": 1,
   "metadata": {
    "collapsed": true
   },
   "outputs": [],
   "source": [
    "# HarshD\n",
    "import os\n",
    "\n",
    "os.chdir('E:\\Datasets\\Cancer Diagnosis')"
   ]
  },
  {
   "cell_type": "code",
   "execution_count": 2,
   "metadata": {
    "collapsed": true
   },
   "outputs": [],
   "source": [
    "import pandas as pd\n",
    "import numpy as np\n",
    "import seaborn as sns\n",
    "import matplotlib.pyplot as plt"
   ]
  },
  {
   "cell_type": "code",
   "execution_count": 3,
   "metadata": {},
   "outputs": [
    {
     "data": {
      "text/html": [
       "<div>\n",
       "<style>\n",
       "    .dataframe thead tr:only-child th {\n",
       "        text-align: right;\n",
       "    }\n",
       "\n",
       "    .dataframe thead th {\n",
       "        text-align: left;\n",
       "    }\n",
       "\n",
       "    .dataframe tbody tr th {\n",
       "        vertical-align: top;\n",
       "    }\n",
       "</style>\n",
       "<table border=\"1\" class=\"dataframe\">\n",
       "  <thead>\n",
       "    <tr style=\"text-align: right;\">\n",
       "      <th></th>\n",
       "      <th>ID</th>\n",
       "      <th>Gene</th>\n",
       "      <th>Variation</th>\n",
       "      <th>Class</th>\n",
       "    </tr>\n",
       "  </thead>\n",
       "  <tbody>\n",
       "    <tr>\n",
       "      <th>0</th>\n",
       "      <td>0</td>\n",
       "      <td>FAM58A</td>\n",
       "      <td>Truncating Mutations</td>\n",
       "      <td>1</td>\n",
       "    </tr>\n",
       "    <tr>\n",
       "      <th>1</th>\n",
       "      <td>1</td>\n",
       "      <td>CBL</td>\n",
       "      <td>W802*</td>\n",
       "      <td>2</td>\n",
       "    </tr>\n",
       "    <tr>\n",
       "      <th>2</th>\n",
       "      <td>2</td>\n",
       "      <td>CBL</td>\n",
       "      <td>Q249E</td>\n",
       "      <td>2</td>\n",
       "    </tr>\n",
       "    <tr>\n",
       "      <th>3</th>\n",
       "      <td>3</td>\n",
       "      <td>CBL</td>\n",
       "      <td>N454D</td>\n",
       "      <td>3</td>\n",
       "    </tr>\n",
       "    <tr>\n",
       "      <th>4</th>\n",
       "      <td>4</td>\n",
       "      <td>CBL</td>\n",
       "      <td>L399V</td>\n",
       "      <td>4</td>\n",
       "    </tr>\n",
       "  </tbody>\n",
       "</table>\n",
       "</div>"
      ],
      "text/plain": [
       "   ID    Gene             Variation  Class\n",
       "0   0  FAM58A  Truncating Mutations      1\n",
       "1   1     CBL                 W802*      2\n",
       "2   2     CBL                 Q249E      2\n",
       "3   3     CBL                 N454D      3\n",
       "4   4     CBL                 L399V      4"
      ]
     },
     "execution_count": 3,
     "metadata": {},
     "output_type": "execute_result"
    }
   ],
   "source": [
    "df = pd.read_csv('training_variants.csv')\n",
    "\n",
    "df.head()"
   ]
  },
  {
   "cell_type": "code",
   "execution_count": 4,
   "metadata": {},
   "outputs": [
    {
     "name": "stdout",
     "output_type": "stream",
     "text": [
      " Data points :  3321\n",
      " Features :  ['ID' 'Gene' 'Variation']\n"
     ]
    }
   ],
   "source": [
    "print(' Data points : ', df.shape[0] )\n",
    "print(' Features : ', df.columns.values[0:3] )"
   ]
  },
  {
   "cell_type": "code",
   "execution_count": 5,
   "metadata": {},
   "outputs": [
    {
     "name": "stdout",
     "output_type": "stream",
     "text": [
      "264  different kind of Gene \n",
      "2996  different kind of Variations \n",
      "9  different kind of Class \n"
     ]
    }
   ],
   "source": [
    "print( len( df['Gene'].value_counts() ), ' different kind of Gene ' )\n",
    "print( len( df['Variation'].value_counts() ), ' different kind of Variations ' )\n",
    "print( len( df['Class'].value_counts() ), ' different kind of Class ' )"
   ]
  },
  {
   "cell_type": "code",
   "execution_count": 6,
   "metadata": {},
   "outputs": [
    {
     "data": {
      "image/png": "[encoded data removed]",
      "text/plain": [
       "<matplotlib.figure.Figure at 0x1183ef77438>"
      ]
     },
     "metadata": {},
     "output_type": "display_data"
    }
   ],
   "source": [
    "df['Class'].value_counts().plot(kind = 'bar', figsize = (15,6), color='royalblue' )\n",
    "plt.title(' Distribution of Class ')\n",
    "plt.xlabel(' Class ')\n",
    "plt.ylabel(' Value Count ')\n",
    "plt.show()"
   ]
  },
  {
   "cell_type": "code",
   "execution_count": 7,
   "metadata": {},
   "outputs": [
    {
     "data": {
      "image/png": "[encoded data removed]",
      "text/plain": [
       "<matplotlib.figure.Figure at 0x1183ef775c0>"
      ]
     },
     "metadata": {},
     "output_type": "display_data"
    },
    {
     "name": "stdout",
     "output_type": "stream",
     "text": [
      "-------------------------------------------------- 264  Unique Genes --------------------------------------------------\n"
     ]
    }
   ],
   "source": [
    "df['Gene'].value_counts()[0:15].plot(kind = 'bar', figsize = (15,6), color='gray' )\n",
    "plt.title(' Top 15 Gene ')\n",
    "plt.xlabel(' Gene ')\n",
    "plt.ylabel(' Value Count ')\n",
    "plt.show()\n",
    "\n",
    "print( '-' * 50, len( df['Gene'].value_counts() ), ' Unique Genes', '-' * 50 )"
   ]
  },
  {
   "cell_type": "code",
   "execution_count": 8,
   "metadata": {},
   "outputs": [
    {
     "data": {
      "image/png": "[encoded data removed]",
      "text/plain": [
       "<matplotlib.figure.Figure at 0x11841350630>"
      ]
     },
     "metadata": {},
     "output_type": "display_data"
    },
    {
     "name": "stdout",
     "output_type": "stream",
     "text": [
      "-------------------------------------------------- 2996  Unique Variation --------------------------------------------------\n"
     ]
    }
   ],
   "source": [
    "df['Variation'].value_counts()[0:15].plot(kind = 'bar', figsize = (15,6), color='violet' )\n",
    "plt.title(' Top 15 Variation ')\n",
    "plt.xlabel(' Variation ')\n",
    "plt.ylabel(' Value Count ')\n",
    "plt.show()\n",
    "\n",
    "print( '-' * 50, len( df['Variation'].value_counts() ), ' Unique Variation', '-' * 50 )"
   ]
  },
  {
   "cell_type": "markdown",
   "metadata": {},
   "source": [
    "Fields are \n",
    "    <ul>\n",
    "        <li><b>ID : </b>the id of the row used to link the mutation to the clinical evidence</li>\n",
    "        <li><b>Gene : </b>the gene where this genetic mutation is located </li>\n",
    "        <li><b>Variation : </b>the aminoacid change for this mutations </li>\n",
    "        <li><b>Class :</b> 1-9 the class this genetic mutation has been classified on</li>\n",
    "    </ul>"
   ]
  },
  {
   "cell_type": "code",
   "execution_count": 9,
   "metadata": {},
   "outputs": [
    {
     "data": {
      "text/html": [
       "<div>\n",
       "<style>\n",
       "    .dataframe thead tr:only-child th {\n",
       "        text-align: right;\n",
       "    }\n",
       "\n",
       "    .dataframe thead th {\n",
       "        text-align: left;\n",
       "    }\n",
       "\n",
       "    .dataframe tbody tr th {\n",
       "        vertical-align: top;\n",
       "    }\n",
       "</style>\n",
       "<table border=\"1\" class=\"dataframe\">\n",
       "  <thead>\n",
       "    <tr style=\"text-align: right;\">\n",
       "      <th></th>\n",
       "      <th>ID</th>\n",
       "      <th>Gene</th>\n",
       "      <th>Variation</th>\n",
       "      <th>Class</th>\n",
       "    </tr>\n",
       "  </thead>\n",
       "  <tbody>\n",
       "  </tbody>\n",
       "</table>\n",
       "</div>"
      ],
      "text/plain": [
       "Empty DataFrame\n",
       "Columns: [ID, Gene, Variation, Class]\n",
       "Index: []"
      ]
     },
     "execution_count": 9,
     "metadata": {},
     "output_type": "execute_result"
    }
   ],
   "source": [
    "df[ df.isnull().any(axis=1) ] "
   ]
  },
  {
   "cell_type": "code",
   "execution_count": 10,
   "metadata": {},
   "outputs": [
    {
     "data": {
      "text/html": [
       "<div>\n",
       "<style>\n",
       "    .dataframe thead tr:only-child th {\n",
       "        text-align: right;\n",
       "    }\n",
       "\n",
       "    .dataframe thead th {\n",
       "        text-align: left;\n",
       "    }\n",
       "\n",
       "    .dataframe tbody tr th {\n",
       "        vertical-align: top;\n",
       "    }\n",
       "</style>\n",
       "<table border=\"1\" class=\"dataframe\">\n",
       "  <thead>\n",
       "    <tr style=\"text-align: right;\">\n",
       "      <th></th>\n",
       "      <th>ID</th>\n",
       "      <th>TEXT</th>\n",
       "    </tr>\n",
       "  </thead>\n",
       "  <tbody>\n",
       "    <tr>\n",
       "      <th>0</th>\n",
       "      <td>0</td>\n",
       "      <td>Cyclin-dependent kinases (CDKs) regulate a var...</td>\n",
       "    </tr>\n",
       "    <tr>\n",
       "      <th>1</th>\n",
       "      <td>1</td>\n",
       "      <td>Abstract Background  Non-small cell lung canc...</td>\n",
       "    </tr>\n",
       "    <tr>\n",
       "      <th>2</th>\n",
       "      <td>2</td>\n",
       "      <td>Abstract Background  Non-small cell lung canc...</td>\n",
       "    </tr>\n",
       "    <tr>\n",
       "      <th>3</th>\n",
       "      <td>3</td>\n",
       "      <td>Recent evidence has demonstrated that acquired...</td>\n",
       "    </tr>\n",
       "    <tr>\n",
       "      <th>4</th>\n",
       "      <td>4</td>\n",
       "      <td>Oncogenic mutations in the monomeric Casitas B...</td>\n",
       "    </tr>\n",
       "  </tbody>\n",
       "</table>\n",
       "</div>"
      ],
      "text/plain": [
       "   ID                                               TEXT\n",
       "0   0  Cyclin-dependent kinases (CDKs) regulate a var...\n",
       "1   1   Abstract Background  Non-small cell lung canc...\n",
       "2   2   Abstract Background  Non-small cell lung canc...\n",
       "3   3  Recent evidence has demonstrated that acquired...\n",
       "4   4  Oncogenic mutations in the monomeric Casitas B..."
      ]
     },
     "execution_count": 10,
     "metadata": {},
     "output_type": "execute_result"
    }
   ],
   "source": [
    "dfText =pd.read_csv(\"training_text\", sep=\"\\|\\|\", engine=\"python\", names=[\"ID\",\"TEXT\"], skiprows = 1)\n",
    "\n",
    "dfText.head()\n",
    "\n",
    "# Our data is like, ID || TEXT i,e; 0 || Cyclin-dependent kinases (CDKs) regulate a var.. so we used || as a seperator\n",
    "# sep=\"\\|\\|\" is nothing but sepearte based on ||\n",
    "# since 1st row comes 0\tID,Text\tNone so we do skiprows = 1"
   ]
  },
  {
   "cell_type": "code",
   "execution_count": 11,
   "metadata": {},
   "outputs": [
    {
     "data": {
      "text/plain": [
       "' Abstract Background  Non-small cell lung cancer (NSCLC) is a heterogeneous group of disorders with a number of genetic and proteomic alterations. c-CBL is an E3 ubiquitin ligase and adaptor molecule important in normal homeostasis and cancer. We determined the genetic variations of c-CBL, relationship to receptor tyrosine kinases (EGFR and MET), and functionality in NSCLC.  Methods and Findings  Using archival formalin-fixed paraffin embedded (FFPE) extracted genomic DNA, we show that c-CBL mutations occur in somatic fashion for lung cancers. c-CBL mutations were not mutually exclusive of MET or EGFR mutations; however they were independent of p53 and KRAS mutations. In normal/tumor pairwise analysis, there was significant loss of heterozygosity (LOH) for the c-CBL locus (22%, nâ€Š=â€Š8/37) and none of these samples revealed any mutation in the remaining copy of c-CBL. The c-CBL LOH also positively correlated with EGFR and MET mutations observed in the same samples. Using select c-CBL'"
      ]
     },
     "execution_count": 11,
     "metadata": {},
     "output_type": "execute_result"
    }
   ],
   "source": [
    "dfText['TEXT'][1][0:1000]"
   ]
  },
  {
   "cell_type": "markdown",
   "metadata": {},
   "source": [
    "There are 3321 data points<br><br>\n",
    "We have:\n",
    "\n",
    "    264  different kind of Gene\n",
    "\n",
    "    2996  different kind of Variations \n",
    "\n",
    "    9  different kind of Class"
   ]
  },
  {
   "cell_type": "markdown",
   "metadata": {},
   "source": [
    "### Handling missing data"
   ]
  },
  {
   "cell_type": "code",
   "execution_count": 12,
   "metadata": {},
   "outputs": [
    {
     "data": {
      "text/html": [
       "<div>\n",
       "<style>\n",
       "    .dataframe thead tr:only-child th {\n",
       "        text-align: right;\n",
       "    }\n",
       "\n",
       "    .dataframe thead th {\n",
       "        text-align: left;\n",
       "    }\n",
       "\n",
       "    .dataframe tbody tr th {\n",
       "        vertical-align: top;\n",
       "    }\n",
       "</style>\n",
       "<table border=\"1\" class=\"dataframe\">\n",
       "  <thead>\n",
       "    <tr style=\"text-align: right;\">\n",
       "      <th></th>\n",
       "      <th>ID</th>\n",
       "      <th>TEXT</th>\n",
       "    </tr>\n",
       "  </thead>\n",
       "  <tbody>\n",
       "  </tbody>\n",
       "</table>\n",
       "</div>"
      ],
      "text/plain": [
       "Empty DataFrame\n",
       "Columns: [ID, TEXT]\n",
       "Index: []"
      ]
     },
     "execution_count": 12,
     "metadata": {},
     "output_type": "execute_result"
    }
   ],
   "source": [
    "dfText[ dfText.isnull().any(axis=1) ] # finding NULL values"
   ]
  },
  {
   "cell_type": "code",
   "execution_count": 13,
   "metadata": {},
   "outputs": [
    {
     "data": {
      "text/html": [
       "<div>\n",
       "<style>\n",
       "    .dataframe thead tr:only-child th {\n",
       "        text-align: right;\n",
       "    }\n",
       "\n",
       "    .dataframe thead th {\n",
       "        text-align: left;\n",
       "    }\n",
       "\n",
       "    .dataframe tbody tr th {\n",
       "        vertical-align: top;\n",
       "    }\n",
       "</style>\n",
       "<table border=\"1\" class=\"dataframe\">\n",
       "  <thead>\n",
       "    <tr style=\"text-align: right;\">\n",
       "      <th></th>\n",
       "      <th>ID</th>\n",
       "      <th>TEXT</th>\n",
       "    </tr>\n",
       "  </thead>\n",
       "  <tbody>\n",
       "    <tr>\n",
       "      <th>1109</th>\n",
       "      <td>1109</td>\n",
       "      <td>null</td>\n",
       "    </tr>\n",
       "    <tr>\n",
       "      <th>1277</th>\n",
       "      <td>1277</td>\n",
       "      <td>null</td>\n",
       "    </tr>\n",
       "    <tr>\n",
       "      <th>1407</th>\n",
       "      <td>1407</td>\n",
       "      <td>null</td>\n",
       "    </tr>\n",
       "    <tr>\n",
       "      <th>1639</th>\n",
       "      <td>1639</td>\n",
       "      <td>null</td>\n",
       "    </tr>\n",
       "    <tr>\n",
       "      <th>2755</th>\n",
       "      <td>2755</td>\n",
       "      <td>null</td>\n",
       "    </tr>\n",
       "  </tbody>\n",
       "</table>\n",
       "</div>"
      ],
      "text/plain": [
       "        ID  TEXT\n",
       "1109  1109  null\n",
       "1277  1277  null\n",
       "1407  1407  null\n",
       "1639  1639  null\n",
       "2755  2755  null"
      ]
     },
     "execution_count": 13,
     "metadata": {},
     "output_type": "execute_result"
    }
   ],
   "source": [
    "dfText[ dfText['TEXT'] == 'null' ]"
   ]
  },
  {
   "cell_type": "code",
   "execution_count": 14,
   "metadata": {
    "collapsed": true
   },
   "outputs": [],
   "source": [
    "dfText.loc[ dfText['TEXT'] == 'null','TEXT'] = df['Gene'] + ' ' + df['Variation']"
   ]
  },
  {
   "cell_type": "code",
   "execution_count": 15,
   "metadata": {},
   "outputs": [
    {
     "data": {
      "text/html": [
       "<div>\n",
       "<style>\n",
       "    .dataframe thead tr:only-child th {\n",
       "        text-align: right;\n",
       "    }\n",
       "\n",
       "    .dataframe thead th {\n",
       "        text-align: left;\n",
       "    }\n",
       "\n",
       "    .dataframe tbody tr th {\n",
       "        vertical-align: top;\n",
       "    }\n",
       "</style>\n",
       "<table border=\"1\" class=\"dataframe\">\n",
       "  <thead>\n",
       "    <tr style=\"text-align: right;\">\n",
       "      <th></th>\n",
       "      <th>ID</th>\n",
       "      <th>TEXT</th>\n",
       "    </tr>\n",
       "  </thead>\n",
       "  <tbody>\n",
       "  </tbody>\n",
       "</table>\n",
       "</div>"
      ],
      "text/plain": [
       "Empty DataFrame\n",
       "Columns: [ID, TEXT]\n",
       "Index: []"
      ]
     },
     "execution_count": 15,
     "metadata": {},
     "output_type": "execute_result"
    }
   ],
   "source": [
    "dfText[ dfText['TEXT'] == 'null' ]"
   ]
  },
  {
   "cell_type": "markdown",
   "metadata": {},
   "source": [
    "## Text Processing"
   ]
  },
  {
   "cell_type": "code",
   "execution_count": 16,
   "metadata": {
    "collapsed": true
   },
   "outputs": [],
   "source": [
    "from nltk.corpus import stopwords\n",
    "import re\n",
    "\n",
    "from datetime import datetime"
   ]
  },
  {
   "cell_type": "code",
   "execution_count": 17,
   "metadata": {
    "collapsed": true
   },
   "outputs": [],
   "source": [
    "stop_words = set( stopwords.words('english') ) # creating a set of stopwords\n",
    "\n",
    "\n",
    "def process(text, index, column):\n",
    "    \n",
    "    if type( text ) is not int :\n",
    "        sent = \"\"\n",
    "        \n",
    "        text = re.sub('[^a-zA-Z0-9\\n]', ' ', text)   # replace every special char with space\n",
    "        text = re.sub('\\s+',' ', text)   # replace multiple spaces with single space\n",
    "        text = text.lower()   # Converting all the chars into lower-case.\n",
    "\n",
    "        \n",
    "        for word in text.split():\n",
    "        # if the word is a not a stop word then save that word \n",
    "            if word not in stop_words:\n",
    "                sent += word + \" \"\n",
    "        \n",
    "        dfText[column][index] = sent"
   ]
  },
  {
   "cell_type": "code",
   "execution_count": 18,
   "metadata": {},
   "outputs": [
    {
     "name": "stderr",
     "output_type": "stream",
     "text": [
      "D:\\Anaconda\\lib\\site-packages\\ipykernel_launcher.py:19: SettingWithCopyWarning: \n",
      "A value is trying to be set on a copy of a slice from a DataFrame\n",
      "\n",
      "See the caveats in the documentation: http://pandas.pydata.org/pandas-docs/stable/indexing.html#indexing-view-versus-copy\n"
     ]
    },
    {
     "name": "stdout",
     "output_type": "stream",
     "text": [
      "Time taken to run this cell : 0:03:07.672454\n"
     ]
    }
   ],
   "source": [
    "# DataFrame.iterrows() :  Iterate over DataFrame rows as (index, Series) pairs. A better way to loop through rows\n",
    "# iterrows() is a generator that iterates over the rows of the dataframe and returns the index of each row, in addition...\n",
    "# .... to an object containing the row itself. Faster than manually looping over rows.\n",
    "\n",
    "start = datetime.now()\n",
    "\n",
    "for index, row in dfText.iterrows():\n",
    "    \n",
    "    if type( row['TEXT'] ) is str:\n",
    "        process( row['TEXT'], index, 'TEXT')\n",
    "    else:\n",
    "        print(\" No text description for id : \", index )\n",
    "\n",
    "print(\"Time taken to run this cell :\", datetime.now() - start )"
   ]
  },
  {
   "cell_type": "code",
   "execution_count": 19,
   "metadata": {},
   "outputs": [
    {
     "data": {
      "text/html": [
       "<div>\n",
       "<style>\n",
       "    .dataframe thead tr:only-child th {\n",
       "        text-align: right;\n",
       "    }\n",
       "\n",
       "    .dataframe thead th {\n",
       "        text-align: left;\n",
       "    }\n",
       "\n",
       "    .dataframe tbody tr th {\n",
       "        vertical-align: top;\n",
       "    }\n",
       "</style>\n",
       "<table border=\"1\" class=\"dataframe\">\n",
       "  <thead>\n",
       "    <tr style=\"text-align: right;\">\n",
       "      <th></th>\n",
       "      <th>ID</th>\n",
       "      <th>TEXT</th>\n",
       "    </tr>\n",
       "  </thead>\n",
       "  <tbody>\n",
       "    <tr>\n",
       "      <th>0</th>\n",
       "      <td>0</td>\n",
       "      <td>cyclin dependent kinases cdks regulate variety...</td>\n",
       "    </tr>\n",
       "    <tr>\n",
       "      <th>1</th>\n",
       "      <td>1</td>\n",
       "      <td>abstract background non small cell lung cancer...</td>\n",
       "    </tr>\n",
       "    <tr>\n",
       "      <th>2</th>\n",
       "      <td>2</td>\n",
       "      <td>abstract background non small cell lung cancer...</td>\n",
       "    </tr>\n",
       "    <tr>\n",
       "      <th>3</th>\n",
       "      <td>3</td>\n",
       "      <td>recent evidence demonstrated acquired uniparen...</td>\n",
       "    </tr>\n",
       "    <tr>\n",
       "      <th>4</th>\n",
       "      <td>4</td>\n",
       "      <td>oncogenic mutations monomeric casitas b lineag...</td>\n",
       "    </tr>\n",
       "  </tbody>\n",
       "</table>\n",
       "</div>"
      ],
      "text/plain": [
       "   ID                                               TEXT\n",
       "0   0  cyclin dependent kinases cdks regulate variety...\n",
       "1   1  abstract background non small cell lung cancer...\n",
       "2   2  abstract background non small cell lung cancer...\n",
       "3   3  recent evidence demonstrated acquired uniparen...\n",
       "4   4  oncogenic mutations monomeric casitas b lineag..."
      ]
     },
     "execution_count": 19,
     "metadata": {},
     "output_type": "execute_result"
    }
   ],
   "source": [
    "dfText.head()"
   ]
  },
  {
   "cell_type": "code",
   "execution_count": 20,
   "metadata": {},
   "outputs": [
    {
     "name": "stdout",
     "output_type": "stream",
     "text": [
      "27844\n"
     ]
    },
    {
     "data": {
      "text/plain": [
       "'abstract background non small cell lung cancer nsclc heterogeneous group disorders number genetic proteomic alterations c cbl e3 ubiquitin ligase adaptor molecule important normal homeostasis cancer determined genetic variations c cbl relationship receptor tyrosine kinases egfr met functionality nsclc methods findings using archival formalin fixed paraffin embedded ffpe extracted genomic dna show c cbl mutations occur somatic fashion lung cancers c cbl mutations mutually exclusive met egfr mutations however independent p53 kras mutations normal tumor pairwise analysis significant loss heterozygosity loh c cbl locus 22 n 8 37 none samples revealed mutation remaining copy c cbl c cbl loh also positively correlated egfr met mutations observed samples using select c cbl somatic mutations s80n h94y q249e w802 obtained caucasian taiwanese african american samples respectively transfected nsclc cell lines increased cell viability cell motility conclusions taking overall mutation rate c cbl co'"
      ]
     },
     "execution_count": 20,
     "metadata": {},
     "output_type": "execute_result"
    }
   ],
   "source": [
    "print( len(dfText['TEXT'][2]) )\n",
    "dfText['TEXT'][2][0:1000]"
   ]
  },
  {
   "cell_type": "code",
   "execution_count": 21,
   "metadata": {},
   "outputs": [
    {
     "data": {
      "text/html": [
       "<div>\n",
       "<style>\n",
       "    .dataframe thead tr:only-child th {\n",
       "        text-align: right;\n",
       "    }\n",
       "\n",
       "    .dataframe thead th {\n",
       "        text-align: left;\n",
       "    }\n",
       "\n",
       "    .dataframe tbody tr th {\n",
       "        vertical-align: top;\n",
       "    }\n",
       "</style>\n",
       "<table border=\"1\" class=\"dataframe\">\n",
       "  <thead>\n",
       "    <tr style=\"text-align: right;\">\n",
       "      <th></th>\n",
       "      <th>ID</th>\n",
       "      <th>Gene</th>\n",
       "      <th>Variation</th>\n",
       "      <th>Class</th>\n",
       "      <th>TEXT</th>\n",
       "    </tr>\n",
       "  </thead>\n",
       "  <tbody>\n",
       "    <tr>\n",
       "      <th>0</th>\n",
       "      <td>0</td>\n",
       "      <td>FAM58A</td>\n",
       "      <td>Truncating Mutations</td>\n",
       "      <td>1</td>\n",
       "      <td>cyclin dependent kinases cdks regulate variety...</td>\n",
       "    </tr>\n",
       "    <tr>\n",
       "      <th>1</th>\n",
       "      <td>1</td>\n",
       "      <td>CBL</td>\n",
       "      <td>W802*</td>\n",
       "      <td>2</td>\n",
       "      <td>abstract background non small cell lung cancer...</td>\n",
       "    </tr>\n",
       "    <tr>\n",
       "      <th>2</th>\n",
       "      <td>2</td>\n",
       "      <td>CBL</td>\n",
       "      <td>Q249E</td>\n",
       "      <td>2</td>\n",
       "      <td>abstract background non small cell lung cancer...</td>\n",
       "    </tr>\n",
       "    <tr>\n",
       "      <th>3</th>\n",
       "      <td>3</td>\n",
       "      <td>CBL</td>\n",
       "      <td>N454D</td>\n",
       "      <td>3</td>\n",
       "      <td>recent evidence demonstrated acquired uniparen...</td>\n",
       "    </tr>\n",
       "    <tr>\n",
       "      <th>4</th>\n",
       "      <td>4</td>\n",
       "      <td>CBL</td>\n",
       "      <td>L399V</td>\n",
       "      <td>4</td>\n",
       "      <td>oncogenic mutations monomeric casitas b lineag...</td>\n",
       "    </tr>\n",
       "  </tbody>\n",
       "</table>\n",
       "</div>"
      ],
      "text/plain": [
       "   ID    Gene             Variation  Class  \\\n",
       "0   0  FAM58A  Truncating Mutations      1   \n",
       "1   1     CBL                 W802*      2   \n",
       "2   2     CBL                 Q249E      2   \n",
       "3   3     CBL                 N454D      3   \n",
       "4   4     CBL                 L399V      4   \n",
       "\n",
       "                                                TEXT  \n",
       "0  cyclin dependent kinases cdks regulate variety...  \n",
       "1  abstract background non small cell lung cancer...  \n",
       "2  abstract background non small cell lung cancer...  \n",
       "3  recent evidence demonstrated acquired uniparen...  \n",
       "4  oncogenic mutations monomeric casitas b lineag...  "
      ]
     },
     "execution_count": 21,
     "metadata": {},
     "output_type": "execute_result"
    }
   ],
   "source": [
    "# Merging the two dataframes\n",
    "data = pd.merge( df, dfText, on='ID', how='left' )\n",
    "data.head()"
   ]
  },
  {
   "cell_type": "code",
   "execution_count": 22,
   "metadata": {},
   "outputs": [
    {
     "data": {
      "text/html": [
       "<div>\n",
       "<style>\n",
       "    .dataframe thead tr:only-child th {\n",
       "        text-align: right;\n",
       "    }\n",
       "\n",
       "    .dataframe thead th {\n",
       "        text-align: left;\n",
       "    }\n",
       "\n",
       "    .dataframe tbody tr th {\n",
       "        vertical-align: top;\n",
       "    }\n",
       "</style>\n",
       "<table border=\"1\" class=\"dataframe\">\n",
       "  <thead>\n",
       "    <tr style=\"text-align: right;\">\n",
       "      <th></th>\n",
       "      <th>ID</th>\n",
       "      <th>Gene</th>\n",
       "      <th>Variation</th>\n",
       "      <th>Class</th>\n",
       "      <th>TEXT</th>\n",
       "    </tr>\n",
       "  </thead>\n",
       "  <tbody>\n",
       "  </tbody>\n",
       "</table>\n",
       "</div>"
      ],
      "text/plain": [
       "Empty DataFrame\n",
       "Columns: [ID, Gene, Variation, Class, TEXT]\n",
       "Index: []"
      ]
     },
     "execution_count": 22,
     "metadata": {},
     "output_type": "execute_result"
    }
   ],
   "source": [
    "data[ data.isnull().any(axis=1) ]"
   ]
  },
  {
   "cell_type": "code",
   "execution_count": 23,
   "metadata": {
    "collapsed": true
   },
   "outputs": [],
   "source": [
    "# Replacing ' ' in Categorical features with _\n",
    "\n",
    "data.Gene  = data.Gene.str.replace('\\s+', '_') \n",
    "\n",
    "data.Variation = data.Variation.str.replace('\\s+', '_')"
   ]
  },
  {
   "cell_type": "code",
   "execution_count": 24,
   "metadata": {
    "collapsed": true
   },
   "outputs": [],
   "source": [
    "Y = data['Class'].values"
   ]
  },
  {
   "cell_type": "code",
   "execution_count": 25,
   "metadata": {
    "collapsed": true
   },
   "outputs": [],
   "source": [
    "from sklearn.model_selection import train_test_split\n",
    "\n",
    "# Test Train CV split\n",
    "xtr, xte, ytr, yte = train_test_split( data, Y , stratify = Y, test_size = 0.2 )\n",
    "\n",
    "xtr, xcv, ytr, ycv = train_test_split( xtr, ytr, stratify = ytr, test_size = 0.2 )"
   ]
  },
  {
   "cell_type": "code",
   "execution_count": 26,
   "metadata": {},
   "outputs": [
    {
     "name": "stdout",
     "output_type": "stream",
     "text": [
      "(2124, 5)\n",
      "(665, 5)\n",
      "(532, 5)\n",
      "(2124,)\n",
      "(665,)\n",
      "(532,)\n"
     ]
    }
   ],
   "source": [
    "print( xtr.shape )\n",
    "print( xte.shape )\n",
    "print( xcv.shape )\n",
    "print( ytr.shape )\n",
    "print( yte.shape )\n",
    "print( ycv.shape )"
   ]
  },
  {
   "cell_type": "code",
   "execution_count": 27,
   "metadata": {},
   "outputs": [
    {
     "data": {
      "image/png": "[encoded data removed]",
      "text/plain": [
       "<matplotlib.figure.Figure at 0x1185bbe4a90>"
      ]
     },
     "metadata": {},
     "output_type": "display_data"
    },
    {
     "name": "stdout",
     "output_type": "stream",
     "text": [
      " % of datapoints belonging to Class  7 is :  28.6723  %\n",
      " % of datapoints belonging to Class  4 is :  20.6685  %\n",
      " % of datapoints belonging to Class  1 is :  17.0904  %\n",
      " % of datapoints belonging to Class  2 is :  13.6064  %\n",
      " % of datapoints belonging to Class  6 is :  8.2863  %\n",
      " % of datapoints belonging to Class  5 is :  7.2976  %\n",
      " % of datapoints belonging to Class  3 is :  2.6836  %\n",
      " % of datapoints belonging to Class  9 is :  1.1299  %\n",
      " % of datapoints belonging to Class  8 is :  0.565  %\n"
     ]
    }
   ],
   "source": [
    "xtr['Class'].value_counts().plot(kind = 'bar', figsize = (15,6), color='violet' )\n",
    "plt.title(' Class Distribution of xtrain ')\n",
    "plt.xlabel(' Class ')\n",
    "plt.ylabel(' Value Count ')\n",
    "plt.show()\n",
    "\n",
    "li = dict( xtr['Class'].value_counts() )\n",
    "for key in li:\n",
    "    print(' % of datapoints belonging to Class ', key, 'is : ', np.round( ( li[key] / xtr.shape[0] ) * 100 , 4), ' %' )"
   ]
  },
  {
   "cell_type": "code",
   "execution_count": 28,
   "metadata": {},
   "outputs": [
    {
     "data": {
      "image/png": "[encoded data removed]",
      "text/plain": [
       "<matplotlib.figure.Figure at 0x1185bc7aa58>"
      ]
     },
     "metadata": {},
     "output_type": "display_data"
    },
    {
     "name": "stdout",
     "output_type": "stream",
     "text": [
      " % of datapoints belonging to Class  7 is :  28.7218  %\n",
      " % of datapoints belonging to Class  4 is :  20.6015  %\n",
      " % of datapoints belonging to Class  1 is :  17.1429  %\n",
      " % of datapoints belonging to Class  2 is :  13.6842  %\n",
      " % of datapoints belonging to Class  6 is :  8.2707  %\n",
      " % of datapoints belonging to Class  5 is :  7.218  %\n",
      " % of datapoints belonging to Class  3 is :  2.7068  %\n",
      " % of datapoints belonging to Class  9 is :  1.0526  %\n",
      " % of datapoints belonging to Class  8 is :  0.6015  %\n"
     ]
    }
   ],
   "source": [
    "xte['Class'].value_counts().plot( kind = 'bar', figsize = (15,6), color='gray' )\n",
    "plt.title(' Class Distribution of xtest ')\n",
    "plt.xlabel(' Class ')\n",
    "plt.ylabel(' Value Count ')\n",
    "plt.show()\n",
    "\n",
    "li = dict( xte['Class'].value_counts() )\n",
    "for key in li:\n",
    "    print(' % of datapoints belonging to Class ', key, 'is : ', np.round( ( li[key] / xte.shape[0] ) * 100 , 4), ' %' )"
   ]
  },
  {
   "cell_type": "code",
   "execution_count": 29,
   "metadata": {},
   "outputs": [
    {
     "data": {
      "image/png": "[encoded data removed]",
      "text/plain": [
       "<matplotlib.figure.Figure at 0x1185bc9f668>"
      ]
     },
     "metadata": {},
     "output_type": "display_data"
    },
    {
     "name": "stdout",
     "output_type": "stream",
     "text": [
      " % of datapoints belonging to Class  7 is :  28.7594  %\n",
      " % of datapoints belonging to Class  4 is :  20.6767  %\n",
      " % of datapoints belonging to Class  1 is :  17.1053  %\n",
      " % of datapoints belonging to Class  2 is :  13.5338  %\n",
      " % of datapoints belonging to Class  6 is :  8.2707  %\n",
      " % of datapoints belonging to Class  5 is :  7.3308  %\n",
      " % of datapoints belonging to Class  3 is :  2.6316  %\n",
      " % of datapoints belonging to Class  9 is :  1.1278  %\n",
      " % of datapoints belonging to Class  8 is :  0.5639  %\n"
     ]
    }
   ],
   "source": [
    "xcv['Class'].value_counts().plot( kind = 'bar', figsize = (15,6), color='royalblue' )\n",
    "plt.title(' Class Distribution of xtest ')\n",
    "plt.xlabel(' Class ')\n",
    "plt.ylabel(' Value Count ')\n",
    "plt.show()\n",
    "\n",
    "li = dict( xcv['Class'].value_counts() )\n",
    "for key in li:\n",
    "    print(' % of datapoints belonging to Class ', key, 'is : ', np.round( ( li[key] / xcv.shape[0] ) * 100 , 4), ' %' )"
   ]
  },
  {
   "cell_type": "markdown",
   "metadata": {},
   "source": [
    "All the data ( test, train, cross validation ) follow the same order of distribution of classes\n",
    "\n",
    "( Highest data points ) Class : 7 > 4 > 1 > 2 > 6 > 5 > 3 > 9 > 8  ( Lowest data points ) "
   ]
  },
  {
   "cell_type": "markdown",
   "metadata": {},
   "source": [
    "### Function for response coding of Gene/ Variation features"
   ]
  },
  {
   "cell_type": "code",
   "execution_count": 30,
   "metadata": {
    "collapsed": true
   },
   "outputs": [],
   "source": [
    "# 1. Consider all unique values and the number of occurances of given feature in train data dataframe\n",
    "# 2. Build a vector (1*9) , \n",
    " # The 1st element = ( no. of times it occured in class 1 to 10 * alpha / no. of time it occurred in total data + 90 * alpha )\n",
    "# featDict is like a look up table, for every gene it store a (1*9) representation of it\n",
    "\n",
    "# 3. for a value of feature in df:\n",
    "#       if it is in train data:\n",
    "#           we add the vector that was stored in 'featDict' look up table to 'feature'\n",
    "#       if it is not there is train:\n",
    "#           we add [1/9, 1/9, 1/9, 1/9,1/9, 1/9, 1/9, 1/9, 1/9] to 'feature'\n",
    "#    return 'feature'\n",
    "\n",
    "# alpha : used for laplace smoothing\n",
    "# feature: ['gene', 'variation']\n",
    "# df: ['xtr', 'xte', 'xcv']"
   ]
  },
  {
   "cell_type": "code",
   "execution_count": 31,
   "metadata": {
    "collapsed": true
   },
   "outputs": [],
   "source": [
    "def feaDic( alpha, feature, df ):\n",
    "    \n",
    "    count = xtr[ feature ].value_counts()\n",
    "    # output:\n",
    "    #        {BRCA1      174\n",
    "    #         TP53       106\n",
    "    #         EGFR        86.....\n",
    "    \n",
    "    # featDict : Feature Dict, which contains the probability array for each gene/variation\n",
    "    featDict = dict()\n",
    "    \n",
    "    # denominator will contain the number of time that particular feature occured in whole data\n",
    "    \n",
    "    for i, denominator in count.items():\n",
    "        # i = Feature name ( Gene name / Variation name ) ex=> BRCA1 , TP53, PTEN .......\n",
    "        # denominator = Count of the feature i ex => 264, 163, 126 ......\n",
    "        \n",
    "        # vec will contain ( P( yi == 1 / Gi ) probability of gene/variation belongs to particular class\n",
    "        # vec is 9 diamensional vector since we have 9 classes\n",
    "        vec = []\n",
    "        \n",
    "        for j in range(1,10):  # itearte 9 times\n",
    "           \n",
    "            # print( xtr.loc[ ( xtr['Class'] == 1 ) & ( xtr['Gene'] == 'BRCA1' )] )\n",
    "            #         ID   Gene             Variation  Class  \n",
    "            # 2470  2470  BRCA1                S1715C      1   \n",
    "            # 2486  2486  BRCA1                S1841R      1   \n",
    "            # 2614  2614  BRCA1                   M1R      1....\n",
    "            \n",
    "            # cls_cnt.shape[0] will return the number of rows\n",
    "\n",
    "            cls_cnt = xtr.loc[ ( xtr['Class'] == j ) & ( xtr[feature] == i ) ]\n",
    "            # cls_cnt will return a type(xtr) that will contain Only single features belonging to a single class\n",
    "            # i.e; if Class = 3 and feature is Gene and Gene = BRCA1 It will only return that combination of Class and Gene\n",
    "            \n",
    "            # cls_cnt.shape[0] will contain the number of time that particular feature occured in the whole data\n",
    "            \n",
    "            vec.append( ( cls_cnt.shape[0] + alpha * 10 ) / ( denominator + 90 * alpha ) )\n",
    "\n",
    "        # we are adding the gene/variation to the dict as key and vec as value\n",
    "        featDict[i] = vec\n",
    "    return featDict\n",
    "\n",
    "# when we caculate the probability of a feature belongs to any particular class, we apply laplace smoothing\n",
    "# (numerator + 10 *alpha) / (denominator + 90 *alpha ) "
   ]
  },
  {
   "cell_type": "code",
   "execution_count": 32,
   "metadata": {
    "collapsed": true
   },
   "outputs": [],
   "source": [
    "def feature( alpha, feature, df ):\n",
    "   \n",
    "    featureDict = feaDic( alpha, feature, df ) # Function Call\n",
    "\n",
    "    count = xtr[feature].value_counts()\n",
    "    \n",
    "    # feat : Gene_variation feature, it will contain the feature for each feature value in the data\n",
    "    feat = []\n",
    "    \n",
    "    # for every feature values in the given data frame we will check if it is there in the train data then we will add...\n",
    "    #... the feature to feat. if not we will add [1/9,1/9,1/9,1/9,1/9,1/9,1/9,1/9,1/9] to feat\n",
    "    \n",
    "    for index, row in df.iterrows():\n",
    "        \n",
    "        if row[feature] in dict( count ).keys():\n",
    "            feat.append( featureDict[ row[feature] ] )\n",
    "        else:\n",
    "            feat.append([1/9,1/9,1/9,1/9,1/9,1/9,1/9,1/9,1/9])\n",
    "\n",
    "    return feat\n"
   ]
  },
  {
   "cell_type": "markdown",
   "metadata": {},
   "source": [
    "## Univariate analysis of Genes"
   ]
  },
  {
   "cell_type": "code",
   "execution_count": 33,
   "metadata": {},
   "outputs": [
    {
     "name": "stdout",
     "output_type": "stream",
     "text": [
      " Number of Unique Genes :  234\n",
      "BRCA1     172\n",
      "TP53      114\n",
      "EGFR       93\n",
      "PTEN       86\n",
      "BRCA2      85\n",
      "KIT        70\n",
      "BRAF       50\n",
      "ERBB2      44\n",
      "PDGFRA     43\n",
      "PIK3CA     41\n",
      "Name: Gene, dtype: int64\n"
     ]
    }
   ],
   "source": [
    "uniGenes = xtr['Gene'].value_counts()\n",
    "print(' Number of Unique Genes : ', uniGenes.shape[0])\n",
    "print( uniGenes.head(10) )"
   ]
  },
  {
   "cell_type": "code",
   "execution_count": 34,
   "metadata": {},
   "outputs": [
    {
     "name": "stdout",
     "output_type": "stream",
     "text": [
      " % of data points in Test and CV datasets that are covered by the  234  genes in Train dataset\n",
      " Test data  645  :  96.99248120300751  %\n",
      " CV data  513  :  96.42857142857143  %\n"
     ]
    }
   ],
   "source": [
    "print(\" % of data points in Test and CV datasets that are covered by the \", uniGenes.shape[0], \" genes in Train dataset\")\n",
    "\n",
    "tc = xte[ xte['Gene'].isin( list( set( xtr['Gene'] ))) ].shape[0] # test coverage\n",
    "cvc = xcv[ xcv['Gene'].isin( list( set( xtr['Gene'] ))) ].shape[0] # cv coverage\n",
    "\n",
    "print(' Test data ', tc, ' : ',( tc / xte.shape[0] ) * 100, ' %')\n",
    "print(' CV data ', cvc, ' : ',( cvc / xcv.shape[0] ) * 100, ' %')"
   ]
  },
  {
   "cell_type": "code",
   "execution_count": 35,
   "metadata": {},
   "outputs": [
    {
     "data": {
      "image/png": "[encoded data removed]",
      "text/plain": [
       "<matplotlib.figure.Figure at 0x1185bd0cdd8>"
      ]
     },
     "metadata": {},
     "output_type": "display_data"
    }
   ],
   "source": [
    "total = sum( uniGenes.values )\n",
    "plt.figure( figsize = (15, 6) )\n",
    "plt.plot( uniGenes.values / total , label=\" Histrogram of Genes \", color=\"royalblue\")\n",
    "plt.xlabel('Index of a Gene')\n",
    "plt.ylabel('Number of Occurances')\n",
    "plt.title(' Distribution of 236 Unique Genes ' )\n",
    "plt.legend()\n",
    "plt.grid()\n",
    "plt.show()"
   ]
  },
  {
   "cell_type": "markdown",
   "metadata": {},
   "source": [
    "Gene is a categorical feature since it belongs to a particular set\n",
    "\n",
    "Since gene is a categorical feature we can featurize it by using OneHot Encoding or Response Coding\n",
    "\n",
    "We will choose the appropriate featurization based on the ML model we use. \n",
    "\n",
    "For this problem of multi-class classification with categorical features, one-hot encoding is better for Logistic regression while response coding is better for Random Forests."
   ]
  },
  {
   "cell_type": "code",
   "execution_count": 36,
   "metadata": {},
   "outputs": [
    {
     "name": "stdout",
     "output_type": "stream",
     "text": [
      "(2124, 9)\n",
      "(532, 9)\n",
      "(665, 9)\n"
     ]
    }
   ],
   "source": [
    "# Response-coding of the Gene feature\n",
    "alpha = 1 # alpha is used for laplace smoothing\n",
    "\n",
    "xtrGeneRC = np.array( feature( alpha, \"Gene\", xtr) )\n",
    "xteGeneRC = np.array( feature( alpha, \"Gene\", xte) )\n",
    "xcvGeneRC = np.array( feature( alpha, \"Gene\", xcv) )\n",
    "\n",
    "print(xtrGeneRC.shape )\n",
    "print(xcvGeneRC.shape )\n",
    "print(xteGeneRC.shape )\n"
   ]
  },
  {
   "cell_type": "code",
   "execution_count": 37,
   "metadata": {},
   "outputs": [
    {
     "name": "stdout",
     "output_type": "stream",
     "text": [
      " Their no. of cols is same as class names\n"
     ]
    },
    {
     "data": {
      "text/plain": [
       "array([0.15789474, 0.0877193 , 0.0877193 , 0.20175439, 0.10526316,\n",
       "       0.09649123, 0.0877193 , 0.0877193 , 0.0877193 ])"
      ]
     },
     "execution_count": 37,
     "metadata": {},
     "output_type": "execute_result"
    }
   ],
   "source": [
    "print(' Their no. of cols is same as class names')\n",
    "xtrGeneRC[21]"
   ]
  },
  {
   "cell_type": "code",
   "execution_count": 38,
   "metadata": {},
   "outputs": [
    {
     "name": "stdout",
     "output_type": "stream",
     "text": [
      "(2124, 233)\n",
      "(532, 233)\n",
      "(665, 233)\n"
     ]
    }
   ],
   "source": [
    "# One Hot Encoding\n",
    "from sklearn.feature_extraction.text import CountVectorizer\n",
    "\n",
    "gVect = CountVectorizer()\n",
    "\n",
    "xtrGeneOH = gVect.fit_transform( xtr['Gene'] )\n",
    "xteGeneOH = gVect.transform( xte['Gene'] )\n",
    "xcvGeneOH = gVect.transform( xcv['Gene'] )\n",
    "\n",
    "print(xtrGeneOH.shape )\n",
    "print(xcvGeneOH.shape )\n",
    "print(xteGeneOH.shape )"
   ]
  },
  {
   "cell_type": "code",
   "execution_count": 39,
   "metadata": {},
   "outputs": [
    {
     "data": {
      "text/plain": [
       "<1x233 sparse matrix of type '<class 'numpy.int64'>'\n",
       "\twith 1 stored elements in Compressed Sparse Row format>"
      ]
     },
     "execution_count": 39,
     "metadata": {},
     "output_type": "execute_result"
    }
   ],
   "source": [
    "xtrGeneOH[20]"
   ]
  },
  {
   "cell_type": "code",
   "execution_count": 40,
   "metadata": {},
   "outputs": [
    {
     "name": "stdout",
     "output_type": "stream",
     "text": [
      "['abl1', 'acvr1', 'ago2', 'akt1', 'akt2', 'akt3', 'alk', 'apc', 'ar', 'araf', 'arid1a', 'arid2', 'arid5b', 'asxl1', 'asxl2', 'atm', 'atrx', 'aurka', 'aurkb', 'b2m', 'bap1', 'bard1', 'bcl10', 'bcl2l11', 'bcor', 'braf', 'brca1', 'brca2', 'brd4', 'brip1']\n",
      "233\n"
     ]
    }
   ],
   "source": [
    "print( gVect.get_feature_names()[0:30] )\n",
    "print( len( gVect.get_feature_names() ) )"
   ]
  },
  {
   "cell_type": "code",
   "execution_count": 41,
   "metadata": {
    "collapsed": true
   },
   "outputs": [],
   "source": [
    "from sklearn.linear_model import LogisticRegression\n",
    "from sklearn.linear_model import SGDClassifier\n",
    "\n",
    "from sklearn.calibration import CalibratedClassifierCV\n",
    "\n",
    "from sklearn.metrics import confusion_matrix\n",
    "from sklearn.metrics.classification import accuracy_score, log_loss\n",
    "\n",
    "import warnings\n",
    "warnings.filterwarnings(\"ignore\")"
   ]
  },
  {
   "cell_type": "code",
   "execution_count": 42,
   "metadata": {},
   "outputs": [
    {
     "name": "stdout",
     "output_type": "stream",
     "text": [
      "For values of C =  1e-05  the log loss is :  1.466667768849157\n",
      "For values of C =  0.0001  the log loss is :  1.4605683738039155\n",
      "For values of C =  0.001  the log loss is :  1.4229051448572063\n",
      "For values of C =  0.01  the log loss is :  1.379274605106928\n",
      "For values of C =  0.1  the log loss is :  1.3083546018549843\n",
      "For values of C =  1  the log loss is :  1.2129622763381915\n",
      "For values of C =  10  the log loss is :  1.1913375871462097\n",
      "For values of C =  100  the log loss is :  1.2133674566458985\n"
     ]
    }
   ],
   "source": [
    "c = [ 10 ** x for x in range(-5, 3) ] # Various value of Hyperparameter\n",
    "\n",
    "logError = [ ]\n",
    "\n",
    "for i in c :\n",
    "    classifier = LogisticRegression( C = i, random_state = 42, n_jobs = -1) \n",
    "    classifier.fit(xtrGeneOH, ytr)\n",
    "    \n",
    "    # ClaibratedClassifierCV() : Probability calibration with isotonic regression or sigmoid.\n",
    "    # With this class, the base_estimator is fit on the train set of the cross-validation generator and the ......\n",
    "    # .... test set is used for calibration. The probabilities for each of the folds are then averaged for prediction\n",
    "    \n",
    "    clf = CalibratedClassifierCV( classifier, method=\"sigmoid\" )\n",
    "    \n",
    "    # base_estimator : (classifier) The classifier whose output decision func needs to be calibrated to offer more accurate...\n",
    "    # .... predict_proba outputs. If cv=prefit, the classifier must have been fit already on data.\n",
    "    \n",
    "    clf.fit(xtrGeneOH, ytr)\n",
    "    predictY = clf.predict_proba( xcvGeneOH ) # Perdicted for Cross Validation\n",
    "    \n",
    "    logError.append( log_loss( ycv, predictY, labels = clf.classes_, eps = 1e-15) )\n",
    "    print('For values of C = ', i, \" the log loss is : \",log_loss(ycv, predictY, labels=clf.classes_, eps=1e-15) )"
   ]
  },
  {
   "cell_type": "code",
   "execution_count": 43,
   "metadata": {},
   "outputs": [
    {
     "name": "stdout",
     "output_type": "stream",
     "text": [
      " Best C :  10\n",
      " The train log loss is :  0.9791089332699188\n",
      " The test log loss is :  1.2396908853900472\n",
      " The cv log loss is :  1.1913375871462097\n"
     ]
    }
   ],
   "source": [
    "bestC = np.argmin( logError )\n",
    "\n",
    "clf = LogisticRegression( C = c[bestC], random_state = 42, n_jobs = -1 )\n",
    "clf.fit(xtrGeneOH, ytr)\n",
    "\n",
    "clf = CalibratedClassifierCV( clf, method=\"sigmoid\" )\n",
    "clf.fit(xtrGeneOH, ytr)\n",
    "\n",
    "print(' Best C : ', c[bestC])\n",
    "\n",
    "predictY = clf.predict_proba( xtrGeneOH )\n",
    "print(' The train log loss is : ',log_loss( ytr, predictY, labels = clf.classes_, eps = 1e-15) )\n",
    "\n",
    "predictY = clf.predict_proba( xteGeneOH )\n",
    "print(' The test log loss is : ',log_loss( yte, predictY, labels = clf.classes_, eps = 1e-15) )\n",
    "\n",
    "predictY = clf.predict_proba( xcvGeneOH )\n",
    "print(' The cv log loss is : ',log_loss( ycv, predictY, labels = clf.classes_, eps = 1e-15) )\n"
   ]
  },
  {
   "cell_type": "markdown",
   "metadata": {},
   "source": [
    "Gene feture is Stable across all datasets ( Test, Train, Cross Validation ) \n",
    "\n",
    "Otherwise, the Cross Validation and Test errors would be significantly more than Train error."
   ]
  },
  {
   "cell_type": "markdown",
   "metadata": {},
   "source": [
    "### Univariate Analysis Variation"
   ]
  },
  {
   "cell_type": "code",
   "execution_count": 44,
   "metadata": {},
   "outputs": [
    {
     "name": "stdout",
     "output_type": "stream",
     "text": [
      " Number of Unique Variation :  1942\n",
      "Truncating_Mutations         57\n",
      "Amplification                47\n",
      "Deletion                     41\n",
      "Fusions                      19\n",
      "Overexpression                5\n",
      "Q61L                          3\n",
      "Q61R                          3\n",
      "Promoter_Hypermethylation     2\n",
      "M1R                           2\n",
      "EWSR1-ETV1_Fusion             2\n",
      "Name: Variation, dtype: int64\n"
     ]
    }
   ],
   "source": [
    "uniVars = xtr['Variation'].value_counts()\n",
    "print(' Number of Unique Variation : ', uniVars.shape[0])\n",
    "print( uniVars.head(10) )"
   ]
  },
  {
   "cell_type": "code",
   "execution_count": 45,
   "metadata": {},
   "outputs": [
    {
     "name": "stdout",
     "output_type": "stream",
     "text": [
      " % of data points in Test and CV datasets that are covered by the  1942  variations in Train dataset\n",
      " Test data  74  :  11.12781954887218  %\n",
      " CV data  61  :  11.466165413533833  %\n"
     ]
    }
   ],
   "source": [
    "print(\" % of data points in Test and CV datasets that are covered by the \", uniVars.shape[0], \" variations in Train dataset\")\n",
    "\n",
    "tc = xte[ xte['Variation'].isin( list( set( xtr['Variation'] ))) ].shape[0] # test coverage\n",
    "cvc = xcv[ xcv['Variation'].isin( list( set( xtr['Variation'] ))) ].shape[0] # cv coverage\n",
    "\n",
    "print(' Test data ', tc, ' : ',( tc / xte.shape[0] ) * 100, ' %')\n",
    "print(' CV data ', cvc, ' : ',( cvc / xcv.shape[0] ) * 100, ' %')"
   ]
  },
  {
   "cell_type": "code",
   "execution_count": 46,
   "metadata": {},
   "outputs": [
    {
     "data": {
      "image/png": "[encoded data removed]",
      "text/plain": [
       "<matplotlib.figure.Figure at 0x1185e08c7b8>"
      ]
     },
     "metadata": {},
     "output_type": "display_data"
    }
   ],
   "source": [
    "total = sum( uniVars.values )\n",
    "plt.figure( figsize = (15, 6) )\n",
    "plt.plot( uniVars.values / total , label=\" Histrogram of Variations \", color=\"royalblue\")\n",
    "plt.xlabel('Index of a Variation')\n",
    "plt.ylabel('Number of Occurances')\n",
    "plt.title(' Distribution of 1924 Unique Vars ' )\n",
    "plt.legend()\n",
    "plt.grid()\n",
    "plt.show()"
   ]
  },
  {
   "cell_type": "code",
   "execution_count": 47,
   "metadata": {},
   "outputs": [
    {
     "name": "stdout",
     "output_type": "stream",
     "text": [
      "(2124, 9)\n",
      "(532, 9)\n",
      "(665, 9)\n"
     ]
    }
   ],
   "source": [
    "# Response-coding of the Variation feature\n",
    "alpha = 1 # alpha is used for laplace smoothing\n",
    "\n",
    "xtrVarRC = np.array( feature( alpha, \"Variation\", xtr) )\n",
    "xteVarRC = np.array( feature( alpha, \"Variation\", xte) )\n",
    "xcvVarRC = np.array( feature( alpha, \"Variation\", xcv) )\n",
    "\n",
    "print(xtrVarRC.shape )\n",
    "print(xcvVarRC.shape )\n",
    "print(xteVarRC.shape )"
   ]
  },
  {
   "cell_type": "code",
   "execution_count": 48,
   "metadata": {},
   "outputs": [
    {
     "name": "stdout",
     "output_type": "stream",
     "text": [
      " Their no. of cols is same as class names\n"
     ]
    },
    {
     "data": {
      "text/plain": [
       "array([0.10989011, 0.10989011, 0.10989011, 0.12087912, 0.10989011,\n",
       "       0.10989011, 0.10989011, 0.10989011, 0.10989011])"
      ]
     },
     "execution_count": 48,
     "metadata": {},
     "output_type": "execute_result"
    }
   ],
   "source": [
    "print(' Their no. of cols is same as class names')\n",
    "xtrVarRC[21]"
   ]
  },
  {
   "cell_type": "code",
   "execution_count": 49,
   "metadata": {},
   "outputs": [
    {
     "name": "stdout",
     "output_type": "stream",
     "text": [
      "(2124, 1978)\n",
      "(532, 1978)\n",
      "(665, 1978)\n"
     ]
    }
   ],
   "source": [
    "# One Hot Encoding\n",
    "from sklearn.feature_extraction.text import CountVectorizer\n",
    "\n",
    "vVect = CountVectorizer()\n",
    "\n",
    "xtrVarOH = vVect.fit_transform( xtr['Variation'] )\n",
    "xteVarOH = vVect.transform( xte['Variation'] )\n",
    "xcvVarOH = vVect.transform( xcv['Variation'] )\n",
    "\n",
    "print(xtrVarOH.shape )\n",
    "print(xcvVarOH.shape )\n",
    "print(xteVarOH.shape )"
   ]
  },
  {
   "cell_type": "code",
   "execution_count": 50,
   "metadata": {},
   "outputs": [
    {
     "name": "stdout",
     "output_type": "stream",
     "text": [
      "1978\n",
      "['126', '1_2009trunc', '1_fusion', '2010_2471trunc', '256_286trunc', '385_418del', '422_605trunc', '534_536del', '560_561inser', '596_619splice', '6a', '963_d1010splice', '_baiap2l1_fusion', '_fusion', 'a1020v', 'a1022e', 'a1066v', 'a1099t', 'a1131t', 'a113_splice', 'a11_g12insga', 'a1200v', 'a120s', 'a121p', 'a1234t', 'a126g', 'a126s', 'a126v', 'a1374v', 'a146t', 'a146v', 'a149p', 'a1519t', 'a151t', 'a159t', 'a1669s', 'a1708e', 'a1708v', 'a171v', 'a1752p', 'a1789t', 'a1823t', 'a1830t', 'a1843t', 'a18d', 'a197t', 'a19v', 'a2034v', 'a205t', 'a209t', 'a211d', 'a232v', 'a23e', 'a2425t', 'a246p', 'a2643g', 'a2717s', 'a2770t', 'a339v', 'a39p', 'a40e', 'a41p', 'a459v', 'a500t', 'a502_y503dup', 'a57v', 'a60v', 'a617t', 'a633t', 'a634d', 'a634v', 'a636p', 'a648t', 'a723d', 'a727v', 'a72s', 'a72v', 'a750_e758del', 'a750p', 'a75p', 'a763_y764insfqea', 'a767_v769del', 'a767_v769dup', 'a77p', 'a77t', 'a864t', 'a883t', 'a8s', 'a919v', 'a95d']\n"
     ]
    }
   ],
   "source": [
    "print( len( vVect.get_feature_names() ) )\n",
    "print( vVect.get_feature_names()[0:90] )"
   ]
  },
  {
   "cell_type": "code",
   "execution_count": 51,
   "metadata": {},
   "outputs": [
    {
     "name": "stdout",
     "output_type": "stream",
     "text": [
      "For values of C =  1e-05  the log loss is :  1.717901515766875\n",
      "For values of C =  0.0001  the log loss is :  1.7180551241378539\n",
      "For values of C =  0.001  the log loss is :  1.7183140789416333\n",
      "For values of C =  0.01  the log loss is :  1.6980350654677618\n",
      "For values of C =  0.1  the log loss is :  1.6910747351679554\n",
      "For values of C =  1  the log loss is :  1.6809358328571404\n",
      "For values of C =  10  the log loss is :  1.6783804029859424\n",
      "For values of C =  100  the log loss is :  1.6845211248122\n"
     ]
    }
   ],
   "source": [
    "c = [ 10 ** x for x in range(-5, 3) ] # Various value of Hyperparameter\n",
    "\n",
    "logError = [ ]\n",
    "\n",
    "for i in c :\n",
    "    classifier = LogisticRegression( C = i, random_state = 42, n_jobs = -1) \n",
    "    classifier.fit(xtrVarOH, ytr)\n",
    "    \n",
    "    # ClaibratedClassifierCV() : Probability calibration with isotonic regression or sigmoid.\n",
    "    # With this class, the base_estimator is fit on the train set of the cross-validation generator and the ......\n",
    "    # .... test set is used for calibration. The probabilities for each of the folds are then averaged for prediction\n",
    "    \n",
    "    clf = CalibratedClassifierCV( classifier, method=\"sigmoid\" )\n",
    "    \n",
    "    # base_estimator : (classifier) The classifier whose output decision func needs to be calibrated to offer more accurate...\n",
    "    # .... predict_proba outputs. If cv=prefit, the classifier must have been fit already on data.\n",
    "    \n",
    "    clf.fit(xtrVarOH, ytr)\n",
    "    \n",
    "    predictY = clf.predict_proba( xcvVarOH )\n",
    "    \n",
    "    logError.append( log_loss( ycv, predictY, labels = clf.classes_, eps = 1e-15) )\n",
    "    print('For values of C = ', i, \" the log loss is : \",log_loss(ycv, predictY, labels=clf.classes_, eps=1e-15) )"
   ]
  },
  {
   "cell_type": "code",
   "execution_count": 52,
   "metadata": {},
   "outputs": [
    {
     "name": "stdout",
     "output_type": "stream",
     "text": [
      " Best C :  10\n",
      " The train log loss is :  0.6992931026429651\n",
      " The test log loss is :  1.7061550158537573\n",
      " The cv log loss is :  1.6783804029859424\n"
     ]
    }
   ],
   "source": [
    "bestC = np.argmin( logError )\n",
    "\n",
    "clf = LogisticRegression( C = c[bestC], random_state = 42, n_jobs = -1 )\n",
    "clf.fit(xtrVarOH, ytr)\n",
    "\n",
    "clf = CalibratedClassifierCV( clf, method=\"sigmoid\" )\n",
    "clf.fit(xtrVarOH, ytr)\n",
    "\n",
    "print(' Best C : ', c[bestC])\n",
    "\n",
    "predictY = clf.predict_proba( xtrVarOH )\n",
    "print(' The train log loss is : ',log_loss( ytr, predictY, labels = clf.classes_, eps = 1e-15) )\n",
    "\n",
    "predictY = clf.predict_proba( xteVarOH )\n",
    "print(' The test log loss is : ',log_loss( yte, predictY, labels = clf.classes_, eps = 1e-15) )\n",
    "\n",
    "predictY = clf.predict_proba( xcvVarOH )\n",
    "print(' The cv log loss is : ',log_loss( ycv, predictY, labels = clf.classes_, eps = 1e-15) )"
   ]
  },
  {
   "cell_type": "markdown",
   "metadata": {},
   "source": [
    "## Univariate Analysis Text Features"
   ]
  },
  {
   "cell_type": "markdown",
   "metadata": {},
   "source": [
    "### Function for response coding of Text features"
   ]
  },
  {
   "cell_type": "code",
   "execution_count": 53,
   "metadata": {
    "collapsed": true
   },
   "outputs": [],
   "source": [
    "from sklearn.preprocessing import normalize\n",
    "\n",
    "from collections import Counter, defaultdict"
   ]
  },
  {
   "cell_type": "code",
   "execution_count": 54,
   "metadata": {
    "collapsed": true
   },
   "outputs": [],
   "source": [
    "# classText is a data frame of a single class\n",
    "# 1. for every row in data fram consider the 'TEXT'\n",
    "# 2.     Split the words by space\n",
    "# 3.     Make a dict with those words\n",
    "# 4.     Increment its count whenever we see that word again\n",
    "\n",
    "def extract(classText):\n",
    "    \n",
    "    dictionary = defaultdict( int ) # Creates a collections.defaultdict that contains int as value\n",
    "\n",
    "    for index, row in classText.iterrows():\n",
    "        for word in row['TEXT'].split():\n",
    "            dictionary[word] += 1  # For every word in the text add it to dictionary as key and its value as 1\n",
    "    return dictionary              # if the same word appers again change its value to + 1 i.e; 2\n",
    "\n",
    "# After 1 iteraion:\n",
    "# word = previous\n",
    "# defaultdict(<class 'int'>, {'cyclin': 2, 'dependent': 1, 'kinases': 1, 'cdks': 2, 'regulate': 1, 'variety': 1, \n",
    "# 'fundamental': 1, 'cellular': 1, 'processes': 1, 'cdk10': 1, 'stands': 1, 'one': 1, 'last': 1, 'orphan': 1, \n",
    "#  'activating': 1, 'identified': 1, 'kinase': 1, 'activity': 1, 'revealed': 1, 'previous': 1})"
   ]
  },
  {
   "cell_type": "code",
   "execution_count": 55,
   "metadata": {
    "collapsed": true
   },
   "outputs": [],
   "source": [
    "# DataFrame.iterrows() :  Iterate over DataFrame rows as (index, Series) pairs. A better way to loop through rows\n",
    "# iterrows() is a generator that iterates over the rows of the dataframe and returns the index of each row, in addition...\n",
    "# .... to an object containing the row itself. Faster than manually looping over rows."
   ]
  },
  {
   "cell_type": "code",
   "execution_count": 56,
   "metadata": {
    "collapsed": true
   },
   "outputs": [],
   "source": [
    "import math\n",
    "def textResponseC(df):\n",
    "    \n",
    "    textFeat = np.zeros( ( df.shape[0], 9 ) )\n",
    "    # creates a numpy.ndarray that has row = rows in df and cols = 9 and contains all 0's\n",
    "    \n",
    "    for i in range(0,9):\n",
    "        row_index = 0\n",
    "        \n",
    "        for index, row in df.iterrows():\n",
    "            # index contains index no. , row contains rowID, Gene, Variation, TEXT\n",
    "            prob = 0\n",
    "            for word in row['TEXT'].split():\n",
    "                prob += math.log(( ( dictli[i].get( word, 0 ) + 10 ) / ( totaldict.get( word, 0 ) + 90 ) ))\n",
    "                # probability =>  Class = 1 and Word[1] occours / Total no. of times Word[1] occours with Laplace Smoothing\n",
    "                # here 10 and 90 are alpha fro Laplace smoothing \n",
    "                # These probab can be very very small so we take log() later we can take antilog() or exp()\n",
    "                \n",
    "            textFeat[ row_index ][i] = math.exp( prob / len( row['TEXT'].split() )) # we take exp() to remove log() i.e; antilog\n",
    "            row_index += 1\n",
    "        \n",
    "    return textFeat\n",
    "\n",
    "# Ref : #https://stackoverflow.com/a/1602964"
   ]
  },
  {
   "cell_type": "code",
   "execution_count": 57,
   "metadata": {
    "collapsed": true
   },
   "outputs": [],
   "source": [
    "tvect = CountVectorizer( min_df = 10, ngram_range=(1,2) ) # Get all Unigrams and Bigrams 1,2\n",
    " \n",
    "# building a CountVectorizer with all the words that occured minimum 3 times in train data\n",
    "\n",
    "xtrTextOH = tvect.fit_transform( xtr['TEXT'] )"
   ]
  },
  {
   "cell_type": "code",
   "execution_count": 58,
   "metadata": {},
   "outputs": [
    {
     "name": "stdout",
     "output_type": "stream",
     "text": [
      "Total number of unique words in train data : 227386\n"
     ]
    }
   ],
   "source": [
    "featxtr = tvect.get_feature_names() # getting all the feature names (words)\n",
    "\n",
    "featxtrCount = xtrTextOH.sum( axis = 0 ).A1\n",
    "# xtrTextOH.sum( axis = 0 ).A1 : will sum every row and returns ( 1 * number of features ) vector\n",
    "\n",
    "featxtrDict = dict( zip( list( featxtr ), featxtrCount ))\n",
    "# zip(list(featxtr),featxtrCount) will zip a word with its number of times it occured\n",
    "\n",
    "print(\"Total number of unique words in train data :\", len(featxtr))"
   ]
  },
  {
   "cell_type": "code",
   "execution_count": 59,
   "metadata": {
    "collapsed": true
   },
   "outputs": [],
   "source": [
    "dictli = [] # dictli : contains 9 dictoinaries each corresponds to a class\n",
    "\n",
    "for i in range(1,10):\n",
    "    classText = xtr[ xtr['Class'] == i ]  # build a word dict based on the words in that class\n",
    "    dictli.append( extract( classText ) ) # Passsing only 1 class at a time and append it to dictli \n",
    "\n",
    "# dictli[i] is build on i'th  class text data\n",
    "\n",
    "totaldict = extract( xtr ) # totaldict is buid on whole training text data"
   ]
  },
  {
   "cell_type": "markdown",
   "metadata": {},
   "source": [
    "confuse_array = []\n",
    "\n",
    "for i in featxtr:\n",
    "    ratios = []\n",
    "    max_val = -1\n",
    "    \n",
    "    for j in range(0,9):\n",
    "        ratios.append( ( dictli[j][i] + 10 ) / ( totaldict[i] + 90 ) )    \n",
    "         <!--># here 10 and 90 are alpha fro Laplace smoothing <!-->\n",
    "\n",
    "    confuse_array.append( ratios )\n",
    "confuse_array = np.array(confuse_array)\n",
    "\n",
    "confuse_array.shape"
   ]
  },
  {
   "cell_type": "code",
   "execution_count": 60,
   "metadata": {},
   "outputs": [
    {
     "name": "stdout",
     "output_type": "stream",
     "text": [
      "(2124, 9)\n",
      "(665, 9)\n",
      "(532, 9)\n"
     ]
    }
   ],
   "source": [
    "# Response coding of text features\n",
    "\n",
    "xtrTextRC  = textResponseC( xtr )\n",
    "xteTextRC  = textResponseC( xte )\n",
    "xcvTextRC  = textResponseC( xcv )\n",
    "\n",
    "print( xtrTextRC.shape ) \n",
    "print( xteTextRC.shape ) \n",
    "print( xcvTextRC.shape ) "
   ]
  },
  {
   "cell_type": "code",
   "execution_count": 61,
   "metadata": {
    "collapsed": true
   },
   "outputs": [],
   "source": [
    "# We convert (normalize) each row values such that they sum to 1  \n",
    "\n",
    "xtrTextRC = ( xtrTextRC.T / xtrTextRC.sum( axis=1 ) ).T\n",
    "xteTextRC = ( xteTextRC.T / xteTextRC.sum( axis=1 ) ).T\n",
    "xcvTextRC = ( xcvTextRC.T / xcvTextRC.sum( axis=1 ) ).T\n",
    "\n",
    "# Ref : # https://stackoverflow.com/a/16202486"
   ]
  },
  {
   "cell_type": "code",
   "execution_count": 62,
   "metadata": {},
   "outputs": [
    {
     "name": "stdout",
     "output_type": "stream",
     "text": [
      "(2124, 227386)\n",
      "(665, 227386)\n",
      "(532, 227386)\n"
     ]
    }
   ],
   "source": [
    "# Its a good habit of normalizing the data\n",
    "xtrTextOH = normalize( xtrTextOH , axis=0 )\n",
    "# Don't forget to normalize every feature\n",
    "\n",
    "xteTextOH = tvect.transform( xte['TEXT'] )  # we use the same vectorizer that was trained on train data\n",
    "xteTextOH = normalize( xteTextOH, axis=0 )\n",
    "\n",
    "xcvTextOH = tvect.transform( xcv['TEXT'] )\n",
    "xcvTextOH = normalize (xcvTextOH, axis=0 ) # don't forget to normalize every feature\n",
    "\n",
    "print( xtrTextOH.shape )\n",
    "print( xteTextOH.shape )\n",
    "print( xcvTextOH.shape )"
   ]
  },
  {
   "cell_type": "code",
   "execution_count": 63,
   "metadata": {},
   "outputs": [
    {
     "name": "stdout",
     "output_type": "stream",
     "text": [
      "227386\n",
      "['11 therefore', '11 three', '11 thus', '11 timing', '11 tolerated', '11 transfection', '11 tumor', '11 tumors', '11 tumours', '11 two', '11 tyrosine', '11 understanding', '11 used', '11 using', '11 v559d', '11 v560d', '11 v560del', '11 v560g', '11 v654a', '11 values', '11 variants', '11 versus', '11 viability', '11 vs', '11 w557g', '11 well', '11 whereas', '11 wild', '11 years', '11 yet', '110', '110 000', '110 111', '110 291', '110 56', '110 744', '110 catalytic', '110 intolerant', '110 kda', '110 tcttacctgaactctggaat', '110 unique', '110 validation', '1100', '1100delc', '1105', '1105 seeded', '1106', '111', '111 082', '111 family', '111 k513r', '111 ras', '1111', '1112', '1114', '1114 amino', '112', '112 0f', '112 ade2', '112 benign', '112 canr', '112 deleterious', '112 gal4', '1125', '1125 18000', '1126', '1128', '1129', '1129 1131', '1129 1159', '1129 1936', '1129 terminus', '113', '113 114', '113 13', '113 initial', '113 isolated', '113 sw48', '113 wt', '1130', '1131', '1131 1136', '1136', '1136 1143', '113705', '113705 brca2', '113705 sequenced', '11384', '11384 fm', '113k', '114', '114 115', '114 t1685a', '1142', '1142 55', '1143', '1143 1925', '1144', '1144 cancer', '1145']\n"
     ]
    }
   ],
   "source": [
    "print( len( tvect.get_feature_names() ) )\n",
    "print( tvect.get_feature_names()[2000:2100] )"
   ]
  },
  {
   "cell_type": "code",
   "execution_count": 64,
   "metadata": {},
   "outputs": [
    {
     "name": "stdout",
     "output_type": "stream",
     "text": [
      "For values of C =  0.0001  the log loss is :  1.4770979673420055\n",
      "For values of C =  0.001  the log loss is :  1.394927589570786\n",
      "For values of C =  0.01  the log loss is :  1.1893734032954\n",
      "For values of C =  0.1  the log loss is :  1.0877669810346504\n",
      "For values of C =  1  the log loss is :  1.1082465668061316\n",
      "For values of C =  10  the log loss is :  1.1547518325013388\n",
      "For values of C =  100  the log loss is :  1.1878252853744617\n"
     ]
    }
   ],
   "source": [
    "c = [ 10 ** x for x in range(-4, 3) ] # Various value of Hyperparameter\n",
    "\n",
    "logError = [ ]\n",
    "\n",
    "for i in c :\n",
    "    classifier = LogisticRegression( C = i, random_state = 42, n_jobs = -1) \n",
    "    classifier.fit(xtrTextOH, ytr)\n",
    "    \n",
    "    # ClaibratedClassifierCV() : Probability calibration with isotonic regression or sigmoid.\n",
    "    # With this class, the base_estimator is fit on the train set of the cross-validation generator and the ......\n",
    "    # .... test set is used for calibration. The probabilities for each of the folds are then averaged for prediction\n",
    "    \n",
    "    clf = CalibratedClassifierCV( classifier, method=\"sigmoid\" )\n",
    "    \n",
    "    # base_estimator : (classifier) The classifier whose output decision func needs to be calibrated to offer more accurate...\n",
    "    # .... predict_proba outputs. If cv=prefit, the classifier must have been fit already on data.\n",
    "    \n",
    "    clf.fit(xtrTextOH, ytr)\n",
    "    \n",
    "    predictY = clf.predict_proba( xcvTextOH )\n",
    "    \n",
    "    logError.append( log_loss( ycv, predictY, labels = clf.classes_, eps = 1e-15) )\n",
    "    print('For values of C = ', i, \" the log loss is : \",log_loss(ycv, predictY, labels=clf.classes_, eps=1e-15) )"
   ]
  },
  {
   "cell_type": "code",
   "execution_count": 65,
   "metadata": {},
   "outputs": [
    {
     "name": "stdout",
     "output_type": "stream",
     "text": [
      " Best C :  0.1\n",
      " The train log loss is :  0.709848292134598\n",
      " The test log loss is :  1.2455409168331708\n",
      " The cv log loss is :  1.0877669810346504\n"
     ]
    }
   ],
   "source": [
    "bestC = np.argmin( logError )\n",
    "\n",
    "clf = LogisticRegression( C = c[bestC], random_state = 42, n_jobs = -1 )\n",
    "clf.fit(xtrTextOH, ytr)\n",
    "\n",
    "clf = CalibratedClassifierCV( clf, method=\"sigmoid\" )\n",
    "clf.fit(xtrTextOH, ytr)\n",
    "\n",
    "print(' Best C : ', c[bestC])\n",
    "\n",
    "predictY = clf.predict_proba( xtrTextOH )\n",
    "print(' The train log loss is : ',log_loss( ytr, predictY, labels = clf.classes_, eps = 1e-15) )\n",
    "\n",
    "predictY = clf.predict_proba( xteTextOH )\n",
    "print(' The test log loss is : ',log_loss( yte, predictY, labels = clf.classes_, eps = 1e-15) )\n",
    "\n",
    "predictY = clf.predict_proba( xcvTextOH )\n",
    "print(' The cv log loss is : ',log_loss( ycv, predictY, labels = clf.classes_, eps = 1e-15) )"
   ]
  },
  {
   "cell_type": "code",
   "execution_count": 66,
   "metadata": {
    "collapsed": true
   },
   "outputs": [],
   "source": [
    "def intersect( df ):\n",
    "    vec = CountVectorizer( min_df = 3 )\n",
    "    dfFea = vec.fit_transform( df['TEXT'] )\n",
    "    dffeat = vec.get_feature_names()\n",
    "\n",
    "    dfFcount = dfFea.sum( axis = 0 ).A1 # .A1 : Return self as a flattened ndarray.\n",
    "    dfFeaDict = dict( zip( list( dffeat ), dfFcount ))\n",
    "    # zip() : The zip() function returns an iterator of tuples based on the iterable object\n",
    "    \n",
    "    len1 = len( set( dffeat ))\n",
    "    len2 = len( set( featxtr ) & set( dffeat ))\n",
    "    \n",
    "    return len1,len2\n",
    "\n",
    "# Ref zip() : https://www.programiz.com/python-programming/methods/built-in/zip"
   ]
  },
  {
   "cell_type": "code",
   "execution_count": 67,
   "metadata": {},
   "outputs": [
    {
     "name": "stdout",
     "output_type": "stream",
     "text": [
      "75.649  % of word of Test data appeared in Train data\n",
      "82.189  % of word of Cross Validation appeared in Train data\n"
     ]
    }
   ],
   "source": [
    "len1,len2 = intersect ( xte )\n",
    "print( np.round( ( len2 / len1 ) * 100, 3), \" % of word of Test data appeared in Train data\" )\n",
    "\n",
    "len1,len2 = intersect( xcv )\n",
    "print( np.round( ( len2 / len1 ) * 100, 3), \" % of word of Cross Validation appeared in Train data\" )"
   ]
  },
  {
   "cell_type": "markdown",
   "metadata": {
    "collapsed": true
   },
   "source": [
    "## Logistic Regression on CountVectorizer feat with uni and bi grams"
   ]
  },
  {
   "cell_type": "code",
   "execution_count": 68,
   "metadata": {},
   "outputs": [
    {
     "name": "stdout",
     "output_type": "stream",
     "text": [
      "(2124, 229597)\n",
      "(665, 229597)\n",
      "(532, 229597)\n"
     ]
    }
   ],
   "source": [
    "from scipy.sparse import hstack\n",
    "\n",
    "xtrCV = hstack(( xtrGeneOH, xtrVarOH, xtrTextOH )).tocsr()\n",
    "xteCV = hstack(( xteGeneOH, xteVarOH, xteTextOH )).tocsr()\n",
    "xcvCV = hstack(( xcvGeneOH, xcvVarOH, xcvTextOH )).tocsr()\n",
    "\n",
    "print( xtrCV.shape )\n",
    "print( xteCV.shape )\n",
    "print( xcvCV.shape )"
   ]
  },
  {
   "cell_type": "code",
   "execution_count": 71,
   "metadata": {},
   "outputs": [
    {
     "name": "stdout",
     "output_type": "stream",
     "text": [
      "For values of alpha =  1e-05  the log loss is :  1.4004611272658185\n",
      "For values of alpha =  0.0001  the log loss is :  1.3944419332307674\n",
      "For values of alpha =  0.001  the log loss is :  1.251099158942855\n",
      "For values of alpha =  0.01  the log loss is :  1.160440903217369\n",
      "For values of alpha =  0.1  the log loss is :  1.2598299295674074\n",
      "For values of alpha =  1  the log loss is :  1.409435082395144\n",
      "For values of alpha =  10  the log loss is :  1.4830367633674872\n"
     ]
    }
   ],
   "source": [
    "alpha = [ 10 ** x for x in range(-5, 2) ]\n",
    "\n",
    "logError = [ ]\n",
    "\n",
    "for i in alpha :\n",
    "    classifier = SGDClassifier(class_weight='balanced', alpha = i, penalty='l2', loss='log', random_state=42)\n",
    "    classifier.fit(xtrCV, ytr)\n",
    "    \n",
    "    # ClaibratedClassifierCV() : Probability calibration with isotonic regression or sigmoid.\n",
    "    # With this class, the base_estimator is fit on the train set of the cross-validation generator and the ......\n",
    "    # .... test set is used for calibration. The probabilities for each of the folds are then averaged for prediction\n",
    "    \n",
    "    clf = CalibratedClassifierCV( classifier, method=\"sigmoid\" )\n",
    "    \n",
    "    # base_estimator : (classifier) The classifier whose output decision func needs to be calibrated to offer more accurate...\n",
    "    # .... predict_proba outputs. If cv=prefit, the classifier must have been fit already on data.\n",
    "    \n",
    "    clf.fit(xtrCV, ytr)\n",
    "    \n",
    "    predictY = clf.predict_proba( xcvCV )\n",
    "    \n",
    "    logError.append( log_loss( ycv, predictY, labels = clf.classes_, eps = 1e-15) )\n",
    "    print('For values of alpha = ', i, \" the log loss is : \",log_loss(ycv, predictY, labels=clf.classes_, eps=1e-15) )"
   ]
  },
  {
   "cell_type": "markdown",
   "metadata": {},
   "source": [
    "## Creating Data matrix"
   ]
  },
  {
   "cell_type": "markdown",
   "metadata": {},
   "source": [
    "### TF IDF features"
   ]
  },
  {
   "cell_type": "code",
   "execution_count": 73,
   "metadata": {},
   "outputs": [
    {
     "name": "stdout",
     "output_type": "stream",
     "text": [
      "(2124, 233)\n",
      "(532, 233)\n",
      "(665, 233)\n"
     ]
    }
   ],
   "source": [
    "from sklearn.feature_extraction.text import TfidfVectorizer\n",
    "\n",
    "gTfVect = TfidfVectorizer( max_features = 1000 )\n",
    "\n",
    "xtrGeneTF = gTfVect.fit_transform( xtr['Gene'] )\n",
    "xteGeneTF = gTfVect.transform( xte['Gene'] )\n",
    "xcvGeneTF = gTfVect.transform( xcv['Gene'] )\n",
    "\n",
    "print(xtrGeneTF.shape )\n",
    "print(xcvGeneTF.shape )\n",
    "print(xteGeneTF.shape )"
   ]
  },
  {
   "cell_type": "code",
   "execution_count": 74,
   "metadata": {},
   "outputs": [
    {
     "name": "stdout",
     "output_type": "stream",
     "text": [
      "(2124, 1000)\n",
      "(532, 1000)\n",
      "(665, 1000)\n"
     ]
    }
   ],
   "source": [
    "vTfVect = TfidfVectorizer( max_features = 1000 )\n",
    "\n",
    "xtrVarTF = vTfVect.fit_transform( xtr['Variation'] )\n",
    "xteVarTF = vTfVect.transform( xte['Variation'] )\n",
    "xcvVarTF = vTfVect.transform( xcv['Variation'] )\n",
    "\n",
    "print(xtrVarTF.shape )\n",
    "print(xcvVarTF.shape )\n",
    "print(xteVarTF.shape )"
   ]
  },
  {
   "cell_type": "code",
   "execution_count": 75,
   "metadata": {},
   "outputs": [
    {
     "name": "stdout",
     "output_type": "stream",
     "text": [
      "(2124, 1000)\n",
      "(532, 1000)\n",
      "(665, 1000)\n"
     ]
    }
   ],
   "source": [
    "teTfvect = TfidfVectorizer( max_features = 1000 )\n",
    "\n",
    "xtrTextTF = teTfvect.fit_transform( xtr['TEXT'] )\n",
    "xtrTextTF = normalize( xtrTextTF , axis=0 ) # Don't forget to normalize every feature\n",
    "\n",
    "xteTextTF = teTfvect.fit_transform( xte['TEXT'] )\n",
    "xteTextTF = normalize( xteTextTF, axis=0 )\n",
    "\n",
    "xcvTextTF = teTfvect.fit_transform( xcv['TEXT'] )\n",
    "xcvTextTF = normalize( xcvTextTF, axis=0 ) \n",
    "\n",
    "print( xtrTextTF.shape )\n",
    "print( xcvTextTF.shape )\n",
    "print( xteTextTF.shape )"
   ]
  },
  {
   "cell_type": "code",
   "execution_count": 76,
   "metadata": {},
   "outputs": [
    {
     "name": "stdout",
     "output_type": "stream",
     "text": [
      "(2124, 2233)\n",
      "(665, 2233)\n",
      "(532, 2233)\n"
     ]
    }
   ],
   "source": [
    "from scipy.sparse import hstack\n",
    "\n",
    "xtr1 = hstack(( xtrGeneTF, xtrVarTF, xtrTextTF )).tocsr()\n",
    "xte1 = hstack(( xteGeneTF, xteVarTF, xteTextTF )).tocsr()\n",
    "xcv1 = hstack(( xcvGeneTF, xcvVarTF, xcvTextTF )).tocsr()\n",
    "\n",
    "print( xtr1.shape )\n",
    "print( xte1.shape )\n",
    "print( xcv1.shape )"
   ]
  },
  {
   "cell_type": "markdown",
   "metadata": {
    "collapsed": true
   },
   "source": [
    "### Response Coding Features"
   ]
  },
  {
   "cell_type": "code",
   "execution_count": 77,
   "metadata": {},
   "outputs": [
    {
     "name": "stdout",
     "output_type": "stream",
     "text": [
      "(2124, 27)\n",
      "(665, 27)\n",
      "(532, 27)\n"
     ]
    }
   ],
   "source": [
    "xtrRC = np.hstack(( xtrGeneRC, xtrVarRC, xtrTextRC )) # giving error on just hstack() and not on np.hstack()\n",
    "xteRC = np.hstack(( xteGeneRC, xteVarRC, xteTextRC ))\n",
    "xcvRC = np.hstack(( xcvGeneRC, xcvVarRC, xcvTextRC ))  \n",
    "\n",
    "print( xtrRC.shape )\n",
    "print( xteRC.shape )\n",
    "print( xcvRC.shape )"
   ]
  },
  {
   "cell_type": "markdown",
   "metadata": {},
   "source": [
    "# Naive Bayes"
   ]
  },
  {
   "cell_type": "code",
   "execution_count": 176,
   "metadata": {
    "collapsed": true
   },
   "outputs": [],
   "source": [
    "# Function for calculation of loss\n",
    "\n",
    "def loss(xtr, xcv, xte, bestA):\n",
    "    \n",
    "    clf = MultinomialNB( alpha = bestA )\n",
    "    clf.fit(xtr, ytr)\n",
    "\n",
    "    clf = CalibratedClassifierCV( clf, method=\"sigmoid\" )\n",
    "    clf.fit(xtr, ytr)\n",
    "\n",
    "    print(' Best alpha : ', bestA)\n",
    "\n",
    "    predictY = clf.predict_proba( xtr )\n",
    "    print(' The train log loss is : ',log_loss( ytr, predictY, labels = clf.classes_, eps = 1e-15) )\n",
    "\n",
    "    predictY = clf.predict_proba( xte )\n",
    "    print(' The test log loss is : ',log_loss( yte, predictY, labels = clf.classes_, eps = 1e-15) )\n",
    "\n",
    "    predictY = clf.predict_proba( xcv )\n",
    "    print(' The cv log loss is : ',log_loss( ycv, predictY, labels = clf.classes_, eps = 1e-15) )"
   ]
  },
  {
   "cell_type": "markdown",
   "metadata": {},
   "source": [
    "### TF IDF"
   ]
  },
  {
   "cell_type": "code",
   "execution_count": 177,
   "metadata": {},
   "outputs": [
    {
     "name": "stdout",
     "output_type": "stream",
     "text": [
      "For values of C =  1e-05  the log loss is :  1.3256222915403884\n",
      "For values of C =  0.0001  the log loss is :  1.3163189757365708\n",
      "For values of C =  0.001  the log loss is :  1.3039267135947115\n",
      "For values of C =  0.01  the log loss is :  1.2837042014765119\n",
      "For values of C =  0.1  the log loss is :  1.2772330231829028\n",
      "For values of C =  1  the log loss is :  1.3397296304963178\n",
      "For values of C =  10  the log loss is :  1.4938201987502913\n",
      "For values of C =  100  the log loss is :  1.476381808873989\n"
     ]
    }
   ],
   "source": [
    "alpha = [ 10 ** x for x in range(-5, 3) ] # Various value of Hyperparameter\n",
    "\n",
    "logError = [ ]\n",
    "\n",
    "for i in c :\n",
    "    classifier = MultinomialNB( alpha = i ) \n",
    "    classifier.fit(xtr1, ytr)\n",
    "    \n",
    "    # ClaibratedClassifierCV() : Probability calibration with isotonic regression or sigmoid.\n",
    "    # With this class, the base_estimator is fit on the train set of the cross-validation generator and the ......\n",
    "    # .... test set is used for calibration. The probabilities for each of the folds are then averaged for prediction\n",
    "    \n",
    "    clf = CalibratedClassifierCV( classifier, method=\"sigmoid\" )\n",
    "    \n",
    "    # base_estimator : (classifier) The classifier whose output decision func needs to be calibrated to offer more accurate...\n",
    "    # .... predict_proba outputs. If cv=prefit, the classifier must have been fit already on data.\n",
    "    \n",
    "    clf.fit(xtr1, ytr)\n",
    "    \n",
    "    predictY = clf.predict_proba( xcv1 )\n",
    "    \n",
    "    logError.append( log_loss( ycv, predictY, labels = clf.classes_, eps = 1e-15) )\n",
    "    print('For values of alpha = ', i, \" the log loss is : \",log_loss(ycv, predictY, labels=clf.classes_, eps=1e-15) )"
   ]
  },
  {
   "cell_type": "code",
   "execution_count": 178,
   "metadata": {},
   "outputs": [
    {
     "name": "stdout",
     "output_type": "stream",
     "text": [
      " Best C :  0.1\n",
      " The train log loss is :  0.82032637802086\n",
      " The test log loss is :  1.2733801440559376\n",
      " The cv log loss is :  1.2772330231829028\n"
     ]
    }
   ],
   "source": [
    "bestA = alpha[ np.argmin( logError ) ]\n",
    "\n",
    "loss( xtr1, xcv1, xte1, bestA )"
   ]
  },
  {
   "cell_type": "code",
   "execution_count": 161,
   "metadata": {},
   "outputs": [
    {
     "name": "stdout",
     "output_type": "stream",
     "text": [
      " No. of missclassified point : 0.44548872180451127\n"
     ]
    }
   ],
   "source": [
    "print(\" No. of missclassified point :\", np.count_nonzero(( clf.predict(xcv1)- ycv )) / ycv.shape[0] )\n"
   ]
  },
  {
   "cell_type": "code",
   "execution_count": 162,
   "metadata": {},
   "outputs": [
    {
     "data": {
      "text/plain": [
       "array([[0.41923882, 0.05545883, 0.02058676, ..., 0.05813267, 0.00493289,\n",
       "        0.00430484],\n",
       "       [0.05445979, 0.06073897, 0.01896448, ..., 0.73104122, 0.00453685,\n",
       "        0.00392537],\n",
       "       [0.71382435, 0.05070504, 0.01920936, ..., 0.05827413, 0.00461663,\n",
       "        0.00404944],\n",
       "       ...,\n",
       "       [0.39763321, 0.06563429, 0.02529267, ..., 0.07079595, 0.00602742,\n",
       "        0.00524279],\n",
       "       [0.39038919, 0.06690931, 0.02570901, ..., 0.07218007, 0.00613228,\n",
       "        0.00533907],\n",
       "       [0.10059684, 0.04788145, 0.01826738, ..., 0.05138796, 0.00440575,\n",
       "        0.00384711]])"
      ]
     },
     "execution_count": 162,
     "metadata": {},
     "output_type": "execute_result"
    }
   ],
   "source": [
    "predictY"
   ]
  },
  {
   "cell_type": "code",
   "execution_count": 163,
   "metadata": {},
   "outputs": [
    {
     "data": {
      "image/png": "[encoded data removed]",
      "text/plain": [
       "<matplotlib.figure.Figure at 0x197bf93bf60>"
      ]
     },
     "metadata": {},
     "output_type": "display_data"
    },
    {
     "name": "stdout",
     "output_type": "stream",
     "text": [
      "[[ 52   1   0  34   0   0   4   0   0]\n",
      " [  1  20   0   4   0   0  47   0   0]\n",
      " [  1   0   0   2   2   0   9   0   0]\n",
      " [ 36   0   0  69   0   0   5   0   0]\n",
      " [  8   0   0  16   0   2  13   0   0]\n",
      " [ 11   0   0   5   0  17  11   0   0]\n",
      " [  0   8   0   8   0   0 137   0   0]\n",
      " [  0   2   0   0   0   0   1   0   0]\n",
      " [  2   0   0   1   0   0   3   0   0]]\n"
     ]
    }
   ],
   "source": [
    "from sklearn.metrics import confusion_matrix\n",
    "\n",
    "import seaborn as sns\n",
    "\n",
    "cmte = confusion_matrix( ycv, clf.predict( xcv1.toarray() ) )\n",
    "\n",
    "labels = [1,2,3,4,5,6,7,8,9]\n",
    "\n",
    "plt.figure( figsize = (18,8) )\n",
    "sns.set( font_scale = 1.4 ) #for label size\n",
    "sns.heatmap( cmte, annot = True, fmt=\".3f\", annot_kws={\"size\": 18}, xticklabels = labels, yticklabels = labels )\n",
    "plt.show()\n",
    "plt.close()\n",
    "print( cmte )"
   ]
  },
  {
   "cell_type": "code",
   "execution_count": 164,
   "metadata": {},
   "outputs": [
    {
     "name": "stdout",
     "output_type": "stream",
     "text": [
      " % of points correctly classified :  55.45112781954887\n"
     ]
    }
   ],
   "source": [
    "y_ = clf.predict( xcv1.toarray() )\n",
    "i =  y_ ^ ycv\n",
    "print(' % of points correctly classified : ', ( ( i.shape[0] - np.count_nonzero( i ) )  / i.shape[0] ) * 100 )"
   ]
  },
  {
   "cell_type": "markdown",
   "metadata": {},
   "source": [
    "### Response Coding"
   ]
  },
  {
   "cell_type": "code",
   "execution_count": 172,
   "metadata": {},
   "outputs": [
    {
     "name": "stdout",
     "output_type": "stream",
     "text": [
      "For values of C =  1e-05  the log loss is :  1.246482537022749\n",
      "For values of C =  0.0001  the log loss is :  1.2464808071077402\n",
      "For values of C =  0.001  the log loss is :  1.2464635018103494\n",
      "For values of C =  0.01  the log loss is :  1.2462903274289794\n",
      "For values of C =  0.1  the log loss is :  1.2447823354341572\n",
      "For values of C =  1  the log loss is :  1.2513359000091866\n",
      "For values of C =  10  the log loss is :  1.287373988017443\n",
      "For values of C =  100  the log loss is :  1.2942947481918738\n"
     ]
    }
   ],
   "source": [
    "alpha = [ 10 ** x for x in range(-5, 3) ] # Various value of Hyperparameter\n",
    "\n",
    "logError = [ ]\n",
    "\n",
    "for i in c :\n",
    "    classifier = MultinomialNB( alpha = i ) \n",
    "    classifier.fit(xtrRC, ytr)\n",
    "    \n",
    "    # ClaibratedClassifierCV() : Probability calibration with isotonic regression or sigmoid.\n",
    "    # With this class, the base_estimator is fit on the train set of the cross-validation generator and the ......\n",
    "    # .... test set is used for calibration. The probabilities for each of the folds are then averaged for prediction\n",
    "    \n",
    "    clf = CalibratedClassifierCV( classifier, method=\"sigmoid\" )\n",
    "    \n",
    "    # base_estimator : (classifier) The classifier whose output decision func needs to be calibrated to offer more accurate...\n",
    "    # .... predict_proba outputs. If cv=prefit, the classifier must have been fit already on data.\n",
    "    \n",
    "    clf.fit(xtrRC, ytr)\n",
    "    \n",
    "    predictY = clf.predict_proba( xcvRC )\n",
    "    \n",
    "    logError.append( log_loss( ycv, predictY, labels = clf.classes_, eps = 1e-15) )\n",
    "    print('For values of alpha = ', i, \" the log loss is : \",log_loss(ycv, predictY, labels=clf.classes_, eps=1e-15) )"
   ]
  },
  {
   "cell_type": "code",
   "execution_count": 173,
   "metadata": {},
   "outputs": [
    {
     "name": "stdout",
     "output_type": "stream",
     "text": [
      " Best C :  0.1\n",
      " The train log loss is :  0.82032637802086\n",
      " The test log loss is :  1.2733801440559376\n",
      " The cv log loss is :  1.2772330231829028\n"
     ]
    }
   ],
   "source": [
    "bestA = alpha[ np.argmin( logError ) ]\n",
    "\n",
    "loss( xtrRC, xcvRC, xteRC, bestA )"
   ]
  },
  {
   "cell_type": "markdown",
   "metadata": {},
   "source": [
    "# KNN"
   ]
  },
  {
   "cell_type": "code",
   "execution_count": 187,
   "metadata": {
    "collapsed": true
   },
   "outputs": [],
   "source": [
    "# Function for calculation of loss\n",
    "from sklearn.neighbors import KNeighborsClassifier\n",
    "\n",
    "def loss(xtr, xcv, xte, bestk ):\n",
    "    clf = KNeighborsClassifier( n_neighbors = k[bestk] )\n",
    "    clf.fit(xtr, ytr)\n",
    "\n",
    "    clf = CalibratedClassifierCV( clf, method=\"sigmoid\" )\n",
    "    clf.fit(xtr, ytr)\n",
    "\n",
    "    print(' Best K : ', k[bestk])\n",
    "\n",
    "    predictY = clf.predict_proba( xtr )\n",
    "    print(' The train log loss is : ',log_loss( ytr, predictY, labels = clf.classes_, eps = 1e-15) )\n",
    "\n",
    "    predictY = clf.predict_proba( xte )\n",
    "    print(' The test log loss is : ',log_loss( yte, predictY, labels = clf.classes_, eps = 1e-15) )\n",
    "\n",
    "    predictY = clf.predict_proba( xcv )\n",
    "    print(' The cv log loss is : ',log_loss( ycv, predictY, labels = clf.classes_, eps = 1e-15) )"
   ]
  },
  {
   "cell_type": "markdown",
   "metadata": {},
   "source": [
    "### TF IDF"
   ]
  },
  {
   "cell_type": "code",
   "execution_count": 197,
   "metadata": {},
   "outputs": [
    {
     "name": "stdout",
     "output_type": "stream",
     "text": [
      "For values of C =  5  the log loss is :  1.283033949570175\n",
      "For values of C =  10  the log loss is :  1.2630424027460543\n",
      "For values of C =  15  the log loss is :  1.2729575983634867\n",
      "For values of C =  21  the log loss is :  1.2861553650082576\n",
      "For values of C =  31  the log loss is :  1.3116409306479997\n",
      "For values of C =  41  the log loss is :  1.3362886374792582\n",
      "For values of C =  51  the log loss is :  1.359990321130397\n",
      "For values of C =  61  the log loss is :  1.369543428344565\n",
      "For values of C =  81  the log loss is :  1.378053366052914\n",
      "For values of C =  91  the log loss is :  1.3814393285289128\n"
     ]
    }
   ],
   "source": [
    "k = [ 5, 10, 15, 21, 31, 41, 51, 61, 81, 91] # Various value of Hyperparameter\n",
    "\n",
    "logError = [ ]\n",
    "\n",
    "for i in k :\n",
    "    classifier = KNeighborsClassifier( n_neighbors = i ) \n",
    "    classifier.fit(xtr1, ytr)\n",
    "    \n",
    "    # ClaibratedClassifierCV() : Probability calibration with isotonic regression or sigmoid.\n",
    "    # With this class, the base_estimator is fit on the train set of the cross-validation generator and the ......\n",
    "    # .... test set is used for calibration. The probabilities for each of the folds are then averaged for prediction\n",
    "    \n",
    "    clf = CalibratedClassifierCV( classifier, method=\"sigmoid\" )\n",
    "    \n",
    "    # base_estimator : (classifier) The classifier whose output decision func needs to be calibrated to offer more accurate...\n",
    "    # .... predict_proba outputs. If cv=prefit, the classifier must have been fit already on data.\n",
    "    \n",
    "    clf.fit(xtr1, ytr)\n",
    "    \n",
    "    predictY = clf.predict_proba( xcv1 )\n",
    "    \n",
    "    logError.append( log_loss( ycv, predictY, labels = clf.classes_, eps = 1e-15) )\n",
    "    print('For values of K = ', i, \" the log loss is : \",log_loss(ycv, predictY, labels=clf.classes_, eps=1e-15) )"
   ]
  },
  {
   "cell_type": "code",
   "execution_count": 198,
   "metadata": {},
   "outputs": [
    {
     "name": "stdout",
     "output_type": "stream",
     "text": [
      " Best K :  10\n",
      " The train log loss is :  1.0198336961342365\n",
      " The test log loss is :  1.3028343984455475\n",
      " The cv log loss is :  1.2630424027460543\n"
     ]
    }
   ],
   "source": [
    "bestk = np.argmin( logError )\n",
    "\n",
    "loss( xtr1, xcv1, xte1, bestk )"
   ]
  },
  {
   "cell_type": "code",
   "execution_count": 189,
   "metadata": {},
   "outputs": [
    {
     "data": {
      "image/png": "[encoded data removed]",
      "text/plain": [
       "<matplotlib.figure.Figure at 0x197c0351dd8>"
      ]
     },
     "metadata": {},
     "output_type": "display_data"
    },
    {
     "name": "stdout",
     "output_type": "stream",
     "text": [
      "[[ 57   0   0  16   3   1   9   4   1]\n",
      " [  0  12   0   5   0   0  49   6   0]\n",
      " [  1   0   0   3   2   0   8   0   0]\n",
      " [ 22   1   0  53   2   0  20  12   0]\n",
      " [  6   1   0   5  10   2  14   1   0]\n",
      " [  3   2   0   9   3  17   9   1   0]\n",
      " [  0  14   0  15   0   0 120   4   0]\n",
      " [  0   0   0   0   0   0   2   1   0]\n",
      " [  0   0   0   1   0   0   2   2   1]]\n"
     ]
    }
   ],
   "source": [
    "from sklearn.metrics import confusion_matrix\n",
    "\n",
    "import seaborn as sns\n",
    "\n",
    "cmte = confusion_matrix( ycv, clf.predict( xcv1.toarray() ) )\n",
    "\n",
    "labels = [1,2,3,4,5,6,7,8,9]\n",
    "\n",
    "plt.figure( figsize = (18,8) )\n",
    "sns.set( font_scale = 1.4 ) #for label size\n",
    "sns.heatmap( cmte, annot = True, fmt=\".3f\", annot_kws={\"size\": 18}, xticklabels = labels, yticklabels = labels )\n",
    "plt.show()\n",
    "plt.close()\n",
    "print( cmte )"
   ]
  },
  {
   "cell_type": "code",
   "execution_count": 199,
   "metadata": {},
   "outputs": [
    {
     "name": "stdout",
     "output_type": "stream",
     "text": [
      " % of points correctly classified :  50.93984962406015\n"
     ]
    }
   ],
   "source": [
    "y_ = clf.predict( xcv1.toarray() )\n",
    "i =  y_ ^ ycv\n",
    "print(' % of points correctly classified : ', ( ( i.shape[0] - np.count_nonzero( i ) )  / i.shape[0] ) * 100 )"
   ]
  },
  {
   "cell_type": "markdown",
   "metadata": {},
   "source": [
    "### Response Coding"
   ]
  },
  {
   "cell_type": "code",
   "execution_count": 191,
   "metadata": {},
   "outputs": [
    {
     "name": "stdout",
     "output_type": "stream",
     "text": [
      "For values of C =  5  the log loss is :  1.0789301139558245\n",
      "For values of C =  10  the log loss is :  1.0475330675479642\n",
      "For values of C =  15  the log loss is :  1.0557656507771171\n",
      "For values of C =  21  the log loss is :  1.0710770365036797\n",
      "For values of C =  31  the log loss is :  1.0813334343460983\n",
      "For values of C =  41  the log loss is :  1.0949936818579713\n",
      "For values of C =  51  the log loss is :  1.0981159959351041\n",
      "For values of C =  61  the log loss is :  1.106006037733547\n",
      "For values of C =  81  the log loss is :  1.1107390360792044\n",
      "For values of C =  91  the log loss is :  1.109768634610153\n"
     ]
    }
   ],
   "source": [
    "k = [ 5, 10, 15, 21, 31, 41, 51, 61, 81, 91] # Various value of Hyperparameter\n",
    "\n",
    "logError = [ ]\n",
    "\n",
    "for i in k :\n",
    "    classifier = KNeighborsClassifier( n_neighbors = i ) \n",
    "    classifier.fit(xtrRC, ytr)\n",
    "    \n",
    "    # ClaibratedClassifierCV() : Probability calibration with isotonic regression or sigmoid.\n",
    "    # With this class, the base_estimator is fit on the train set of the cross-validation generator and the ......\n",
    "    # .... test set is used for calibration. The probabilities for each of the folds are then averaged for prediction\n",
    "    \n",
    "    clf = CalibratedClassifierCV( classifier, method=\"sigmoid\" )\n",
    "    \n",
    "    # base_estimator : (classifier) The classifier whose output decision func needs to be calibrated to offer more accurate...\n",
    "    # .... predict_proba outputs. If cv=prefit, the classifier must have been fit already on data.\n",
    "    \n",
    "    clf.fit(xtrRC, ytr)\n",
    "    \n",
    "    predictY = clf.predict_proba( xcvRC )\n",
    "    \n",
    "    logError.append( log_loss( ycv, predictY, labels = clf.classes_, eps = 1e-15) )\n",
    "    print('For values of K = ', i, \" the log loss is : \",log_loss(ycv, predictY, labels=clf.classes_, eps=1e-15) )"
   ]
  },
  {
   "cell_type": "code",
   "execution_count": 192,
   "metadata": {},
   "outputs": [
    {
     "name": "stdout",
     "output_type": "stream",
     "text": [
      " Best K :  10\n",
      " The train log loss is :  0.6248520190916479\n",
      " The test log loss is :  1.046652305846439\n",
      " The cv log loss is :  1.0475330675479642\n"
     ]
    }
   ],
   "source": [
    "bestk = np.argmin( logError )\n",
    "\n",
    "loss( xtrRC, xcvRC, xteRC, bestk )"
   ]
  },
  {
   "cell_type": "code",
   "execution_count": 194,
   "metadata": {},
   "outputs": [
    {
     "data": {
      "image/png": "[encoded data removed]",
      "text/plain": [
       "<matplotlib.figure.Figure at 0x197c02b7b70>"
      ]
     },
     "metadata": {},
     "output_type": "display_data"
    },
    {
     "name": "stdout",
     "output_type": "stream",
     "text": [
      "[[ 52   2   0  23  10   1   3   0   0]\n",
      " [  1  31   0   1   0   0  39   0   0]\n",
      " [  1   0   0   2   2   0   9   0   0]\n",
      " [ 30   1   0  70   5   1   3   0   0]\n",
      " [  4   4   0   3  14   2  12   0   0]\n",
      " [  5   1   0   5   6  17  10   0   0]\n",
      " [  0  18   0   5   0   0 130   0   0]\n",
      " [  1   1   0   0   0   0   1   0   0]\n",
      " [  2   1   0   1   0   0   1   0   1]]\n"
     ]
    }
   ],
   "source": [
    "from sklearn.metrics import confusion_matrix\n",
    "\n",
    "import seaborn as sns\n",
    "\n",
    "cmte = confusion_matrix( ycv, clf.predict( xcvRC ) )\n",
    "\n",
    "labels = [1,2,3,4,5,6,7,8,9]\n",
    "\n",
    "plt.figure( figsize = (18,8) )\n",
    "sns.set( font_scale = 1.4 ) #for label size\n",
    "sns.heatmap( cmte, annot = True, fmt=\".3f\", annot_kws={\"size\": 18}, xticklabels = labels, yticklabels = labels )\n",
    "plt.show()\n",
    "plt.close()\n",
    "print( cmte )"
   ]
  },
  {
   "cell_type": "code",
   "execution_count": 196,
   "metadata": {},
   "outputs": [
    {
     "name": "stdout",
     "output_type": "stream",
     "text": [
      " % of points correctly classified :  59.210526315789465\n"
     ]
    }
   ],
   "source": [
    "y_ = clf.predict( xcvRC )\n",
    "i =  y_ ^ ycv\n",
    "print(' % of points correctly classified : ', ( ( i.shape[0] - np.count_nonzero( i ) )  / i.shape[0] ) * 100 )"
   ]
  },
  {
   "cell_type": "markdown",
   "metadata": {},
   "source": [
    "# Logistic Regression"
   ]
  },
  {
   "cell_type": "markdown",
   "metadata": {},
   "source": [
    "### With Class Balancing"
   ]
  },
  {
   "cell_type": "code",
   "execution_count": 205,
   "metadata": {
    "collapsed": true
   },
   "outputs": [],
   "source": [
    "from sklearn.linear_model import SGDClassifier\n",
    "\n",
    "# Function for calculation of loss\n",
    "\n",
    "def loss(xtr, xcv, xte, bestA ):\n",
    "   \n",
    "    clf = SGDClassifier(class_weight='balanced', alpha = bestA, penalty='l2', loss='log', random_state=42)\n",
    "    clf.fit(xtr, ytr)\n",
    "\n",
    "    clf = CalibratedClassifierCV( clf, method=\"sigmoid\" )\n",
    "    clf.fit(xtr, ytr)\n",
    "\n",
    "    print(' Best alpha : ', bestA)\n",
    "\n",
    "    predictY = clf.predict_proba( xtr )\n",
    "    print(' The train log loss is : ',log_loss( ytr, predictY, labels = clf.classes_, eps = 1e-15) )\n",
    "\n",
    "    predictY = clf.predict_proba( xte )\n",
    "    print(' The test log loss is : ',log_loss( yte, predictY, labels = clf.classes_, eps = 1e-15) )\n",
    "\n",
    "    predictY = clf.predict_proba( xcv )\n",
    "    print(' The cv log loss is : ',log_loss( ycv, predictY, labels = clf.classes_, eps = 1e-15) )"
   ]
  },
  {
   "cell_type": "markdown",
   "metadata": {},
   "source": [
    "### TF IDF"
   ]
  },
  {
   "cell_type": "code",
   "execution_count": 218,
   "metadata": {},
   "outputs": [
    {
     "name": "stdout",
     "output_type": "stream",
     "text": [
      "For values of alpha =  1e-06  the log loss is :  1.5063893983961287\n",
      "For values of alpha =  1e-05  the log loss is :  1.4571228546824497\n",
      "For values of alpha =  0.0001  the log loss is :  1.2382167626522886\n",
      "For values of alpha =  0.001  the log loss is :  1.1586516367925752\n",
      "For values of alpha =  0.01  the log loss is :  1.2987602436908339\n",
      "For values of alpha =  0.1  the log loss is :  1.6783091886002481\n",
      "For values of alpha =  1  the log loss is :  1.7925592151220566\n",
      "For values of alpha =  10  the log loss is :  1.8040049693419111\n",
      "For values of alpha =  100  the log loss is :  1.805239667123966\n"
     ]
    }
   ],
   "source": [
    "alpha = [ 10 ** x for x in range(-6, 3) ]\n",
    "\n",
    "logError = [ ]\n",
    "\n",
    "for i in alpha :\n",
    "    classifier = SGDClassifier(class_weight='balanced', alpha = i, penalty='l2', loss='log', random_state=42)\n",
    "    classifier.fit(xtr1, ytr)\n",
    "    \n",
    "    # ClaibratedClassifierCV() : Probability calibration with isotonic regression or sigmoid.\n",
    "    # With this class, the base_estimator is fit on the train set of the cross-validation generator and the ......\n",
    "    # .... test set is used for calibration. The probabilities for each of the folds are then averaged for prediction\n",
    "    \n",
    "    clf = CalibratedClassifierCV( classifier, method=\"sigmoid\" )\n",
    "    \n",
    "    # base_estimator : (classifier) The classifier whose output decision func needs to be calibrated to offer more accurate...\n",
    "    # .... predict_proba outputs. If cv=prefit, the classifier must have been fit already on data.\n",
    "    \n",
    "    clf.fit(xtr1, ytr)\n",
    "    \n",
    "    predictY = clf.predict_proba( xcv1 )\n",
    "    \n",
    "    logError.append( log_loss( ycv, predictY, labels = clf.classes_, eps = 1e-15) )\n",
    "    print('For values of alpha = ', i, \" the log loss is : \",log_loss(ycv, predictY, labels=clf.classes_, eps=1e-15) )"
   ]
  },
  {
   "cell_type": "code",
   "execution_count": 219,
   "metadata": {},
   "outputs": [
    {
     "name": "stdout",
     "output_type": "stream",
     "text": [
      "0.001\n",
      " Best alpha :  0.001\n",
      " The train log loss is :  0.8182540352538697\n",
      " The test log loss is :  1.1728358837757225\n",
      " The cv log loss is :  1.1586516367925752\n"
     ]
    }
   ],
   "source": [
    "bestA = alpha[ np.argmin( logError ) ]\n",
    "loss( xtr1, xcv1, xte1, bestA )"
   ]
  },
  {
   "cell_type": "code",
   "execution_count": 220,
   "metadata": {},
   "outputs": [
    {
     "data": {
      "image/png": "[encoded data removed]",
      "text/plain": [
       "<matplotlib.figure.Figure at 0x197bfdf4d68>"
      ]
     },
     "metadata": {},
     "output_type": "display_data"
    },
    {
     "name": "stdout",
     "output_type": "stream",
     "text": [
      "[[73  0  0  2  0  0 16  0  0]\n",
      " [44  0  0  0  0  0 28  0  0]\n",
      " [ 5  0  0  0  0  0  9  0  0]\n",
      " [64  0  0 11  0  0 35  0  0]\n",
      " [33  0  0  0  0  0  6  0  0]\n",
      " [33  0  0  0  0  0 11  0  0]\n",
      " [79  0  0  1  0  0 73  0  0]\n",
      " [ 3  0  0  0  0  0  0  0  0]\n",
      " [ 3  0  0  0  0  0  3  0  0]]\n"
     ]
    }
   ],
   "source": [
    "cmte = confusion_matrix( ycv, clf.predict( xcv1.toarray() ) )\n",
    "\n",
    "labels = [1,2,3,4,5,6,7,8,9]\n",
    "\n",
    "plt.figure( figsize = (18,8) )\n",
    "sns.set( font_scale = 1.4 ) #for label size\n",
    "sns.heatmap( cmte, annot = True, fmt=\".3f\", annot_kws={\"size\": 18}, xticklabels = labels, yticklabels = labels )\n",
    "plt.show()\n",
    "plt.close()\n",
    "print( cmte )"
   ]
  },
  {
   "cell_type": "code",
   "execution_count": 221,
   "metadata": {},
   "outputs": [
    {
     "name": "stdout",
     "output_type": "stream",
     "text": [
      " % of points correctly classified :  29.51127819548872\n"
     ]
    }
   ],
   "source": [
    "y_ = clf.predict( xcv1 )\n",
    "i =  y_ ^ ycv\n",
    "print(' % of points correctly classified : ', ( ( i.shape[0] - np.count_nonzero( i ) )  / i.shape[0] ) * 100 )"
   ]
  },
  {
   "cell_type": "markdown",
   "metadata": {},
   "source": [
    "### Response Coding"
   ]
  },
  {
   "cell_type": "code",
   "execution_count": 222,
   "metadata": {},
   "outputs": [
    {
     "name": "stdout",
     "output_type": "stream",
     "text": [
      "For values of alpha =  1e-06  the log loss is :  1.0986549691791756\n",
      "For values of alpha =  1e-05  the log loss is :  1.0919567876346747\n",
      "For values of alpha =  0.0001  the log loss is :  1.1040193433331171\n",
      "For values of alpha =  0.001  the log loss is :  1.1887809525540325\n",
      "For values of alpha =  0.01  the log loss is :  1.248442424069106\n",
      "For values of alpha =  0.1  the log loss is :  1.2612353897383455\n",
      "For values of alpha =  1  the log loss is :  1.3106901118061314\n",
      "For values of alpha =  10  the log loss is :  1.517841257816585\n",
      "For values of alpha =  100  the log loss is :  1.5586175607787405\n"
     ]
    }
   ],
   "source": [
    "alpha = [ 10 ** x for x in range(-6, 3) ]\n",
    "\n",
    "logError = [ ]\n",
    "\n",
    "for i in alpha :\n",
    "    classifier = SGDClassifier(class_weight='balanced', alpha = i, penalty='l2', loss='log', random_state=42)\n",
    "    classifier.fit(xtrRC, ytr)\n",
    "    \n",
    "    # ClaibratedClassifierCV() : Probability calibration with isotonic regression or sigmoid.\n",
    "    # With this class, the base_estimator is fit on the train set of the cross-validation generator and the ......\n",
    "    # .... test set is used for calibration. The probabilities for each of the folds are then averaged for prediction\n",
    "    \n",
    "    clf = CalibratedClassifierCV( classifier, method=\"sigmoid\" )\n",
    "    \n",
    "    # base_estimator : (classifier) The classifier whose output decision func needs to be calibrated to offer more accurate...\n",
    "    # .... predict_proba outputs. If cv=prefit, the classifier must have been fit already on data.\n",
    "    \n",
    "    clf.fit(xtrRC, ytr)\n",
    "    \n",
    "    predictY = clf.predict_proba( xcvRC )\n",
    "    \n",
    "    logError.append( log_loss( ycv, predictY, labels = clf.classes_, eps = 1e-15) )\n",
    "    print('For values of alpha = ', i, \" the log loss is : \",log_loss(ycv, predictY, labels=clf.classes_, eps=1e-15) )"
   ]
  },
  {
   "cell_type": "code",
   "execution_count": 224,
   "metadata": {},
   "outputs": [
    {
     "name": "stdout",
     "output_type": "stream",
     "text": [
      "1e-05\n",
      " Best alpha :  1e-05\n",
      " The train log loss is :  0.7018397395316732\n",
      " The test log loss is :  1.4089618692249748\n",
      " The cv log loss is :  1.4571228546824497\n"
     ]
    }
   ],
   "source": [
    "bestA = alpha[ np.argmin( logError ) ]\n",
    "print(bestA)\n",
    "loss( xtr1, xcv1, xte1, bestA )"
   ]
  },
  {
   "cell_type": "code",
   "execution_count": 226,
   "metadata": {},
   "outputs": [
    {
     "name": "stdout",
     "output_type": "stream",
     "text": [
      " % of points correctly classified :  41.16541353383459\n"
     ]
    }
   ],
   "source": [
    "y_ = clf.predict( xcvRC )\n",
    "i =  y_ ^ ycv\n",
    "print(' % of points correctly classified : ', ( ( i.shape[0] - np.count_nonzero( i ) )  / i.shape[0] ) * 100 )"
   ]
  },
  {
   "cell_type": "markdown",
   "metadata": {},
   "source": [
    "### Without Class Balancing"
   ]
  },
  {
   "cell_type": "code",
   "execution_count": null,
   "metadata": {
    "collapsed": true
   },
   "outputs": [],
   "source": [
    "from sklearn.linear_model import SGDClassifier\n",
    "\n",
    "# Function for calculation of loss\n",
    "\n",
    "def loss(xtr, xcv, xte, bestA ):\n",
    "   \n",
    "    clf = SGDClassifier( alpha = bestA, penalty='l2', loss='log', random_state=42 )\n",
    "    clf.fit(xtr, ytr)\n",
    "\n",
    "    clf = CalibratedClassifierCV( clf, method=\"sigmoid\" )\n",
    "    clf.fit(xtr, ytr)\n",
    "\n",
    "    print(' Best alpha : ', bestA)\n",
    "\n",
    "    predictY = clf.predict_proba( xtr )\n",
    "    print(' The train log loss is : ',log_loss( ytr, predictY, labels = clf.classes_, eps = 1e-15) )\n",
    "\n",
    "    predictY = clf.predict_proba( xte )\n",
    "    print(' The test log loss is : ',log_loss( yte, predictY, labels = clf.classes_, eps = 1e-15) )\n",
    "\n",
    "    predictY = clf.predict_proba( xcv )\n",
    "    print(' The cv log loss is : ',log_loss( ycv, predictY, labels = clf.classes_, eps = 1e-15) )"
   ]
  },
  {
   "cell_type": "markdown",
   "metadata": {},
   "source": [
    "### TF IDF"
   ]
  },
  {
   "cell_type": "code",
   "execution_count": 228,
   "metadata": {},
   "outputs": [
    {
     "name": "stdout",
     "output_type": "stream",
     "text": [
      "For values of alpha =  1e-06  the log loss is :  1.4904062884970055\n",
      "For values of alpha =  1e-05  the log loss is :  1.5118665541613812\n",
      "For values of alpha =  0.0001  the log loss is :  1.3130731836339045\n",
      "For values of alpha =  0.001  the log loss is :  1.244772588411769\n",
      "For values of alpha =  0.01  the log loss is :  1.4581987700374688\n",
      "For values of alpha =  0.1  the log loss is :  1.669935971923776\n",
      "For values of alpha =  1  the log loss is :  1.7738383754715215\n",
      "For values of alpha =  10  the log loss is :  1.7874345929283961\n",
      "For values of alpha =  100  the log loss is :  1.788965929608086\n"
     ]
    }
   ],
   "source": [
    "alpha = [ 10 ** x for x in range(-6, 3) ]\n",
    "\n",
    "logError = [ ]\n",
    "\n",
    "for i in alpha :\n",
    "    classifier = SGDClassifier( alpha = i, penalty='l2', loss='log', random_state=42)\n",
    "    classifier.fit(xtr1, ytr)\n",
    "    \n",
    "    # ClaibratedClassifierCV() : Probability calibration with isotonic regression or sigmoid.\n",
    "    # With this class, the base_estimator is fit on the train set of the cross-validation generator and the ......\n",
    "    # .... test set is used for calibration. The probabilities for each of the folds are then averaged for prediction\n",
    "    \n",
    "    clf = CalibratedClassifierCV( classifier, method=\"sigmoid\" )\n",
    "    \n",
    "    # base_estimator : (classifier) The classifier whose output decision func needs to be calibrated to offer more accurate...\n",
    "    # .... predict_proba outputs. If cv=prefit, the classifier must have been fit already on data.\n",
    "    \n",
    "    clf.fit(xtr1, ytr)\n",
    "    \n",
    "    predictY = clf.predict_proba( xcv1 )\n",
    "    \n",
    "    logError.append( log_loss( ycv, predictY, labels = clf.classes_, eps = 1e-15) )\n",
    "    print('For values of alpha = ', i, \" the log loss is : \",log_loss(ycv, predictY, labels=clf.classes_, eps=1e-15) )"
   ]
  },
  {
   "cell_type": "code",
   "execution_count": 229,
   "metadata": {},
   "outputs": [
    {
     "name": "stdout",
     "output_type": "stream",
     "text": [
      "0.001\n",
      " Best alpha :  0.001\n",
      " The train log loss is :  0.8182540352538697\n",
      " The test log loss is :  1.1728358837757225\n",
      " The cv log loss is :  1.1586516367925752\n"
     ]
    }
   ],
   "source": [
    "bestA = alpha[ np.argmin( logError ) ]\n",
    "print(bestA)\n",
    "loss( xtr1, xcv1, xte1, bestA )"
   ]
  },
  {
   "cell_type": "code",
   "execution_count": 230,
   "metadata": {},
   "outputs": [
    {
     "data": {
      "image/png": "[encoded data removed]",
      "text/plain": [
       "<matplotlib.figure.Figure at 0x197bd1679b0>"
      ]
     },
     "metadata": {},
     "output_type": "display_data"
    },
    {
     "name": "stdout",
     "output_type": "stream",
     "text": [
      "[[66  0  0 10  0  0  8  7  0]\n",
      " [28  0  0  0  0  0 37  7  0]\n",
      " [ 5  0  0  0  0  0  9  0  0]\n",
      " [58  0  0 22  0  0 23  7  0]\n",
      " [31  0  0  1  0  0  7  0  0]\n",
      " [31  0  0  0  0  0 11  2  0]\n",
      " [50  0  0  2  0  0 99  2  0]\n",
      " [ 2  0  0  0  0  0  1  0  0]\n",
      " [ 1  0  0  0  0  0  3  2  0]]\n"
     ]
    }
   ],
   "source": [
    "cmte = confusion_matrix( ycv, clf.predict( xcv1.toarray() ) )\n",
    "\n",
    "labels = [1,2,3,4,5,6,7,8,9]\n",
    "\n",
    "plt.figure( figsize = (18,8) )\n",
    "sns.set( font_scale = 1.4 ) #for label size\n",
    "sns.heatmap( cmte, annot = True, fmt=\".3f\", annot_kws={\"size\": 18}, xticklabels = labels, yticklabels = labels )\n",
    "plt.show()\n",
    "plt.close()\n",
    "print( cmte )"
   ]
  },
  {
   "cell_type": "code",
   "execution_count": 231,
   "metadata": {},
   "outputs": [
    {
     "name": "stdout",
     "output_type": "stream",
     "text": [
      " % of points correctly classified :  35.150375939849624\n"
     ]
    }
   ],
   "source": [
    "y_ = clf.predict( xcv1 )\n",
    "i =  y_ ^ ycv\n",
    "print(' % of points correctly classified : ', ( ( i.shape[0] - np.count_nonzero( i ) )  / i.shape[0] ) * 100 )"
   ]
  },
  {
   "cell_type": "markdown",
   "metadata": {},
   "source": [
    "### Response Coding"
   ]
  },
  {
   "cell_type": "code",
   "execution_count": 232,
   "metadata": {},
   "outputs": [
    {
     "name": "stdout",
     "output_type": "stream",
     "text": [
      "For values of alpha =  1e-06  the log loss is :  1.107127406155907\n",
      "For values of alpha =  1e-05  the log loss is :  1.0957538578359236\n",
      "For values of alpha =  0.0001  the log loss is :  1.1052195122101505\n",
      "For values of alpha =  0.001  the log loss is :  1.1883973107200951\n",
      "For values of alpha =  0.01  the log loss is :  1.2473975592410704\n",
      "For values of alpha =  0.1  the log loss is :  1.2916415298447228\n",
      "For values of alpha =  1  the log loss is :  1.3005151088312032\n",
      "For values of alpha =  10  the log loss is :  1.4332004059413053\n",
      "For values of alpha =  100  the log loss is :  1.463254654115955\n"
     ]
    }
   ],
   "source": [
    "alpha = [ 10 ** x for x in range(-6, 3) ]\n",
    "\n",
    "logError = [ ]\n",
    "\n",
    "for i in alpha :\n",
    "    classifier = SGDClassifier( alpha = i, penalty='l2', loss='log', random_state=42)\n",
    "    classifier.fit(xtrRC, ytr)\n",
    "    \n",
    "    # ClaibratedClassifierCV() : Probability calibration with isotonic regression or sigmoid.\n",
    "    # With this class, the base_estimator is fit on the train set of the cross-validation generator and the ......\n",
    "    # .... test set is used for calibration. The probabilities for each of the folds are then averaged for prediction\n",
    "    \n",
    "    clf = CalibratedClassifierCV( classifier, method=\"sigmoid\" )\n",
    "    \n",
    "    # base_estimator : (classifier) The classifier whose output decision func needs to be calibrated to offer more accurate...\n",
    "    # .... predict_proba outputs. If cv=prefit, the classifier must have been fit already on data.\n",
    "    \n",
    "    clf.fit(xtrRC, ytr)\n",
    "    \n",
    "    predictY = clf.predict_proba( xcvRC )\n",
    "    \n",
    "    logError.append( log_loss( ycv, predictY, labels = clf.classes_, eps = 1e-15) )\n",
    "    print('For values of alpha = ', i, \" the log loss is : \",log_loss(ycv, predictY, labels=clf.classes_, eps=1e-15) )"
   ]
  },
  {
   "cell_type": "code",
   "execution_count": 234,
   "metadata": {},
   "outputs": [
    {
     "name": "stdout",
     "output_type": "stream",
     "text": [
      " Best alpha :  1e-05\n",
      " The train log loss is :  0.7018397395316732\n",
      " The test log loss is :  1.4089618692249748\n",
      " The cv log loss is :  1.4571228546824497\n"
     ]
    }
   ],
   "source": [
    "bestA = alpha[ np.argmin( logError ) ]\n",
    "loss( xtr1, xcv1, xte1, bestA )"
   ]
  },
  {
   "cell_type": "code",
   "execution_count": null,
   "metadata": {
    "collapsed": true
   },
   "outputs": [],
   "source": [
    "y_ = clf.predict( xcvRC )\n",
    "i =  y_ ^ ycv\n",
    "print(' % of points correctly classified : ', ( ( i.shape[0] - np.count_nonzero( i ) )  / i.shape[0] ) * 100 )"
   ]
  },
  {
   "cell_type": "markdown",
   "metadata": {},
   "source": [
    "## Random Forest"
   ]
  },
  {
   "cell_type": "code",
   "execution_count": 84,
   "metadata": {},
   "outputs": [
    {
     "name": "stdout",
     "output_type": "stream",
     "text": [
      "For values of alpha =  100  and depth =  2  the log loss is :  1.5418734022337832\n",
      "For values of alpha =  100  and depth =  5  the log loss is :  1.262023672528224\n",
      "For values of alpha =  100  and depth =  7  the log loss is :  1.3379918400892044\n",
      "For values of alpha =  100  and depth =  10  the log loss is :  1.6709502646151968\n",
      "For values of alpha =  200  and depth =  2  the log loss is :  1.5570575268060736\n",
      "For values of alpha =  200  and depth =  5  the log loss is :  1.3301566396310418\n",
      "For values of alpha =  200  and depth =  7  the log loss is :  1.3516230210182125\n",
      "For values of alpha =  200  and depth =  10  the log loss is :  1.6963349954176763\n",
      "For values of alpha =  300  and depth =  2  the log loss is :  1.5680191405850497\n",
      "For values of alpha =  300  and depth =  5  the log loss is :  1.346770389766177\n",
      "For values of alpha =  300  and depth =  7  the log loss is :  1.3906203736149942\n",
      "For values of alpha =  300  and depth =  10  the log loss is :  1.6992828416099646\n",
      "For values of alpha =  500  and depth =  2  the log loss is :  1.640764722710209\n",
      "For values of alpha =  500  and depth =  5  the log loss is :  1.3550655390190924\n",
      "For values of alpha =  500  and depth =  7  the log loss is :  1.4246236943644683\n",
      "For values of alpha =  500  and depth =  10  the log loss is :  1.7022808610786775\n",
      "For values of alpha =  1000  and depth =  2  the log loss is :  1.6179501712704072\n",
      "For values of alpha =  1000  and depth =  5  the log loss is :  1.3659088943845097\n",
      "For values of alpha =  1000  and depth =  7  the log loss is :  1.4161114599689113\n",
      "For values of alpha =  1000  and depth =  10  the log loss is :  1.712993419229258\n"
     ]
    }
   ],
   "source": [
    "from sklearn.ensemble import RandomForestClassifier\n",
    "\n",
    "alpha = [100,200,300, 500,1000] # Various value of Hyperparameter\n",
    "max_depth = [2, 5, 7, 10]\n",
    "\n",
    "logError = [ ]\n",
    "\n",
    "for i in alpha :\n",
    "    for j in max_depth:\n",
    "        classifier = RandomForestClassifier(n_estimators=i, criterion='gini', max_depth=j, random_state=42, n_jobs=-1)\n",
    "        classifier.fit(xtrRC, ytr)\n",
    "\n",
    "        # ClaibratedClassifierCV() : Probability calibration with isotonic regression or sigmoid.\n",
    "        # With this class, the base_estimator is fit on the train set of the cross-validation generator and the ......\n",
    "        # .... test set is used for calibration. The probabilities for each of the folds are then averaged for prediction\n",
    "\n",
    "        clf = CalibratedClassifierCV( classifier, method=\"sigmoid\" )\n",
    "\n",
    "        # base_estimator : (classifier) The classifier whose output decision func needs to be calibrated to offer more accurate...\n",
    "        # .... predict_proba outputs. If cv=prefit, the classifier must have been fit already on data.\n",
    "\n",
    "        clf.fit(xtrRC, ytr)\n",
    "\n",
    "        predictY = clf.predict_proba( xcvRC )\n",
    "\n",
    "        logError.append( log_loss( ycv, predictY, labels = clf.classes_, eps = 1e-15) )\n",
    "        print('For values of n_estimators = ', i,' and depth = ', j, \" the log loss is : \",\\\n",
    "                          log_loss(ycv, predictY, labels=clf.classes_, eps=1e-15) )"
   ]
  },
  {
   "cell_type": "code",
   "execution_count": 89,
   "metadata": {},
   "outputs": [
    {
     "name": "stdout",
     "output_type": "stream",
     "text": [
      " Best n_estimators  :  100  Best max_depth :  7\n",
      " The train log loss is :  0.03482129988906542\n",
      " The test log loss is :  1.4312001810283093\n",
      " The cv log loss is :  1.3379918400892044\n"
     ]
    }
   ],
   "source": [
    "bestDepth = 7\n",
    "bestEstimators = 100\n",
    "\n",
    "classifier = RandomForestClassifier( n_estimators=bestEstimators, criterion='gini', max_depth=bestDepth, random_state=42\\\n",
    "                                    , n_jobs = -1 )\n",
    "\n",
    "classifier.fit(xtrRC, ytr)\n",
    "\n",
    "clf = CalibratedClassifierCV( classifier, method=\"sigmoid\" )\n",
    "clf.fit(xtrRC, ytr)\n",
    "\n",
    "print(' Best n_estimators  : ', bestEstimators, ' Best max_depth : ', bestDepth )\n",
    "\n",
    "predictY = clf.predict_proba( xtrRC )\n",
    "print(' The train log loss is : ',log_loss( ytr, predictY, labels = clf.classes_, eps = 1e-15) )\n",
    "\n",
    "predictY = clf.predict_proba( xteRC )\n",
    "print(' The test log loss is : ',log_loss( yte, predictY, labels = clf.classes_, eps = 1e-15) )\n",
    "\n",
    "predictY = clf.predict_proba( xcvRC )\n",
    "print(' The cv log loss is : ',log_loss( ycv, predictY, labels = clf.classes_, eps = 1e-15) )"
   ]
  },
  {
   "cell_type": "code",
   "execution_count": 95,
   "metadata": {},
   "outputs": [
    {
     "data": {
      "image/png": "[encoded data removed]",
      "text/plain": [
       "<matplotlib.figure.Figure at 0x11810903828>"
      ]
     },
     "metadata": {},
     "output_type": "display_data"
    },
    {
     "name": "stdout",
     "output_type": "stream",
     "text": [
      "[[32  3 10 22 10 11  1  2  0]\n",
      " [ 0 43  1  1  0  3 23  1  0]\n",
      " [ 0  1  9  1  0  1  2  0  0]\n",
      " [ 4  1 21 67  7  3  1  5  1]\n",
      " [ 2  3  3  2 16  6  5  2  0]\n",
      " [ 1  2  0  2  4 30  5  0  0]\n",
      " [ 1 49  9  0  0  4 85  4  1]\n",
      " [ 0  0  0  1  0  0  0  2  0]\n",
      " [ 0  0  0  0  0  0  0  2  4]]\n"
     ]
    }
   ],
   "source": [
    "cmte = confusion_matrix( ycv, clf.predict( xcvRC ) )\n",
    "\n",
    "labels = [1,2,3,4,5,6,7,8,9]\n",
    "\n",
    "plt.figure( figsize = (18,8) )\n",
    "sns.set( font_scale = 1.4 ) #for label size\n",
    "sns.heatmap( cmte, annot = True, annot_kws={\"size\": 18}, xticklabels = labels, yticklabels = labels )\n",
    "plt.show()\n",
    "plt.close()\n",
    "print( cmte )"
   ]
  },
  {
   "cell_type": "code",
   "execution_count": 90,
   "metadata": {},
   "outputs": [
    {
     "name": "stdout",
     "output_type": "stream",
     "text": [
      "\n",
      "\t\t\t Models and their Corresponding log loss with differnt featurization \n",
      " \n",
      "+----------------------------------------+------------------+------------------+---------------+-----------------+\n",
      "|                 Model                  |  Featurization   |  Train log loss  |  CV log loss  |  Test log loss  |\n",
      "+----------------------------------------+------------------+------------------+---------------+-----------------+\n",
      "|          Logistic Regression           |      B.O.W.      |      0.6992      |     1.6783    |      1.7061     |\n",
      "|          Logistic Regression           |      TFIDF       |      0.8182      |     1.1586    |      1.1728     |\n",
      "|  Logistic Regression (ClassBalancing)  |      TFIDF       |      0.8182      |     1.1586    |      1.1728     |\n",
      "|          Logistic Regression           |  ResponseCoding  |      0.7018      |     1.4571    |      1.4089     |\n",
      "|  Logistic Regression (ClassBalancing)  |  ResponseCoding  |      0.7018      |     1.4571    |      1.4089     |\n",
      "|                                        |                  |                  |               |                 |\n",
      "|              Naive Bayes               |      TFIDF       |      0.8203      |     1.2772    |      1.2733     |\n",
      "|              Naive Bayes               |  ResponseCoding  |      0.6248      |     1.2772    |      1.2733     |\n",
      "|                                        |                  |                  |               |                 |\n",
      "|          K Nearest Neighbour           |      TFIDF       |      1.0198      |     1.2630    |      1.3028     |\n",
      "|          K Nearest Neighbour           |  ResponseCoding  |      1.0198      |     1.0475    |      1.0466     |\n",
      "|                                        |                  |                  |               |                 |\n",
      "|             Random Forest              |  ResponseCoding  |      0.0348      |     1.3379    |      1.4312     |\n",
      "+----------------------------------------+------------------+------------------+---------------+-----------------+\n"
     ]
    }
   ],
   "source": [
    "from prettytable import PrettyTable\n",
    "    \n",
    "x = PrettyTable()\n",
    "\n",
    "x.field_names = [ \" Model \", \" Featurization \", \" Train log loss \", \" CV log loss \", \" Test log loss \" ]\n",
    "\n",
    "x.add_row( [ \" Logistic Regression \", \" B.O.W. \", \" 0.6992 \", \" 1.6783 \", \" 1.7061 \" ] )\n",
    "x.add_row( [ \" Logistic Regression \", \" TFIDF \", \" 0.8182 \", \" 1.1586 \", \" 1.1728 \" ] )\n",
    "x.add_row( [ \" Logistic Regression (ClassBalancing) \", \" TFIDF \", \" 0.8182 \", \" 1.1586 \", \" 1.1728 \" ] )\n",
    "x.add_row( [ \" Logistic Regression \", \" ResponseCoding \", \" 0.7018 \", \" 1.4571 \", \" 1.4089 \" ] )\n",
    "x.add_row( [ \" Logistic Regression (ClassBalancing) \", \" ResponseCoding \", \" 0.7018 \", \" 1.4571 \", \" 1.4089 \" ] )\n",
    "x.add_row([\"\",\"\",\"\",\"\",\"\"])\n",
    "\n",
    "x.add_row( [ \" Naive Bayes \", \" TFIDF \", \"  0.8203 \", \" 1.2772 \", \" 1.2733 \" ] )\n",
    "x.add_row( [ \" Naive Bayes \", \" ResponseCoding \", \"  0.6248 \", \" 1.2772 \", \" 1.2733 \" ] )\n",
    "x.add_row([\"\",\"\",\"\",\"\",\"\"])\n",
    "\n",
    "x.add_row( [ \" K Nearest Neighbour \", \" TFIDF \", \" 1.0198 \", \" 1.2630 \", \" 1.3028 \" ] )\n",
    "x.add_row( [ \" K Nearest Neighbour \", \" ResponseCoding \", \" 1.0198 \", \" 1.0475 \", \" 1.0466 \" ] )\n",
    "x.add_row([\"\",\"\",\"\",\"\",\"\"])\n",
    "\n",
    "x.add_row( [ \" Random Forest \", \" ResponseCoding \", \" 0.0348 \", \" 1.3379 \", \" 1.4312 \" ] )\n",
    "\n",
    "\n",
    "\n",
    "print(\"\\n\\t\\t\\t Models and their Corresponding log loss with differnt featurization \\n \")\n",
    "print( x )\n",
    "\n",
    "# Ref : http://zetcode.com/python/prettytable/"
   ]
  },
  {
   "cell_type": "markdown",
   "metadata": {
    "collapsed": true
   },
   "source": [
    "<br><br>Since Cross Validation and Test log loss are > 1.0 Feature Engineering may be necessary to improve the model's performence\n",
    "\n",
    "Feature Engineering of various other models is performed in another Notebook ( called : Cancer Diagnosis Feature Enginnering.ipynb )"
   ]
  },
  {
   "cell_type": "markdown",
   "metadata": {},
   "source": [
    "## Feature Engineering"
   ]
  },
  {
   "cell_type": "code",
   "execution_count": 1,
   "metadata": {
    "collapsed": true
   },
   "outputs": [],
   "source": [
    "import os\n",
    "import pandas as pd\n",
    "import numpy as np\n",
    "import seaborn as sns\n",
    "import matplotlib.pyplot as plt\n",
    "\n",
    "os.chdir('E:\\Datasets\\Cancer Diagnosis')"
   ]
  },
  {
   "cell_type": "code",
   "execution_count": 3,
   "metadata": {},
   "outputs": [
    {
     "data": {
      "text/html": [
       "<div>\n",
       "<style>\n",
       "    .dataframe thead tr:only-child th {\n",
       "        text-align: right;\n",
       "    }\n",
       "\n",
       "    .dataframe thead th {\n",
       "        text-align: left;\n",
       "    }\n",
       "\n",
       "    .dataframe tbody tr th {\n",
       "        vertical-align: top;\n",
       "    }\n",
       "</style>\n",
       "<table border=\"1\" class=\"dataframe\">\n",
       "  <thead>\n",
       "    <tr style=\"text-align: right;\">\n",
       "      <th></th>\n",
       "      <th>ID</th>\n",
       "      <th>Gene</th>\n",
       "      <th>Variation</th>\n",
       "      <th>Class</th>\n",
       "      <th>TEXT</th>\n",
       "    </tr>\n",
       "  </thead>\n",
       "  <tbody>\n",
       "    <tr>\n",
       "      <th>0</th>\n",
       "      <td>0</td>\n",
       "      <td>FAM58A</td>\n",
       "      <td>Truncating_Mutations</td>\n",
       "      <td>1</td>\n",
       "      <td>cyclin dependent kinases cdks regulate variety...</td>\n",
       "    </tr>\n",
       "    <tr>\n",
       "      <th>1</th>\n",
       "      <td>1</td>\n",
       "      <td>CBL</td>\n",
       "      <td>W802*</td>\n",
       "      <td>2</td>\n",
       "      <td>abstract background non small cell lung cancer...</td>\n",
       "    </tr>\n",
       "    <tr>\n",
       "      <th>2</th>\n",
       "      <td>2</td>\n",
       "      <td>CBL</td>\n",
       "      <td>Q249E</td>\n",
       "      <td>2</td>\n",
       "      <td>abstract background non small cell lung cancer...</td>\n",
       "    </tr>\n",
       "    <tr>\n",
       "      <th>3</th>\n",
       "      <td>3</td>\n",
       "      <td>CBL</td>\n",
       "      <td>N454D</td>\n",
       "      <td>3</td>\n",
       "      <td>recent evidence demonstrated acquired uniparen...</td>\n",
       "    </tr>\n",
       "    <tr>\n",
       "      <th>4</th>\n",
       "      <td>4</td>\n",
       "      <td>CBL</td>\n",
       "      <td>L399V</td>\n",
       "      <td>4</td>\n",
       "      <td>oncogenic mutations monomeric casitas b lineag...</td>\n",
       "    </tr>\n",
       "  </tbody>\n",
       "</table>\n",
       "</div>"
      ],
      "text/plain": [
       "   ID    Gene             Variation  Class  \\\n",
       "0   0  FAM58A  Truncating_Mutations      1   \n",
       "1   1     CBL                 W802*      2   \n",
       "2   2     CBL                 Q249E      2   \n",
       "3   3     CBL                 N454D      3   \n",
       "4   4     CBL                 L399V      4   \n",
       "\n",
       "                                                TEXT  \n",
       "0  cyclin dependent kinases cdks regulate variety...  \n",
       "1  abstract background non small cell lung cancer...  \n",
       "2  abstract background non small cell lung cancer...  \n",
       "3  recent evidence demonstrated acquired uniparen...  \n",
       "4  oncogenic mutations monomeric casitas b lineag...  "
      ]
     },
     "execution_count": 3,
     "metadata": {},
     "output_type": "execute_result"
    }
   ],
   "source": [
    "data = pd.read_csv('Data.csv')\n",
    "\n",
    "data.head()"
   ]
  },
  {
   "cell_type": "code",
   "execution_count": 4,
   "metadata": {},
   "outputs": [
    {
     "data": {
      "text/plain": [
       "25"
      ]
     },
     "execution_count": 4,
     "metadata": {},
     "output_type": "execute_result"
    }
   ],
   "source": [
    "gene = dict( data.Gene.value_counts() )\n",
    "len( gene )\n",
    "gene['CBL']"
   ]
  },
  {
   "cell_type": "code",
   "execution_count": 6,
   "metadata": {},
   "outputs": [],
   "source": [
    "# Loop for calculating len of each Gene feature and no. of time it appears in the dataset\n",
    "\n",
    "li = []\n",
    "le = []\n",
    "for ge in data.Gene:\n",
    "    li.append( gene[ ge ] )\n",
    "    le.append( len(ge) )\n",
    "data['countGene'] = li\n",
    "data['lenGene'] = le"
   ]
  },
  {
   "cell_type": "code",
   "execution_count": 7,
   "metadata": {},
   "outputs": [
    {
     "data": {
      "text/html": [
       "<div>\n",
       "<style>\n",
       "    .dataframe thead tr:only-child th {\n",
       "        text-align: right;\n",
       "    }\n",
       "\n",
       "    .dataframe thead th {\n",
       "        text-align: left;\n",
       "    }\n",
       "\n",
       "    .dataframe tbody tr th {\n",
       "        vertical-align: top;\n",
       "    }\n",
       "</style>\n",
       "<table border=\"1\" class=\"dataframe\">\n",
       "  <thead>\n",
       "    <tr style=\"text-align: right;\">\n",
       "      <th></th>\n",
       "      <th>ID</th>\n",
       "      <th>Gene</th>\n",
       "      <th>Variation</th>\n",
       "      <th>Class</th>\n",
       "      <th>TEXT</th>\n",
       "      <th>countGene</th>\n",
       "      <th>lenGene</th>\n",
       "    </tr>\n",
       "  </thead>\n",
       "  <tbody>\n",
       "    <tr>\n",
       "      <th>0</th>\n",
       "      <td>0</td>\n",
       "      <td>FAM58A</td>\n",
       "      <td>Truncating_Mutations</td>\n",
       "      <td>1</td>\n",
       "      <td>cyclin dependent kinases cdks regulate variety...</td>\n",
       "      <td>1</td>\n",
       "      <td>6</td>\n",
       "    </tr>\n",
       "    <tr>\n",
       "      <th>1</th>\n",
       "      <td>1</td>\n",
       "      <td>CBL</td>\n",
       "      <td>W802*</td>\n",
       "      <td>2</td>\n",
       "      <td>abstract background non small cell lung cancer...</td>\n",
       "      <td>25</td>\n",
       "      <td>3</td>\n",
       "    </tr>\n",
       "    <tr>\n",
       "      <th>2</th>\n",
       "      <td>2</td>\n",
       "      <td>CBL</td>\n",
       "      <td>Q249E</td>\n",
       "      <td>2</td>\n",
       "      <td>abstract background non small cell lung cancer...</td>\n",
       "      <td>25</td>\n",
       "      <td>3</td>\n",
       "    </tr>\n",
       "    <tr>\n",
       "      <th>3</th>\n",
       "      <td>3</td>\n",
       "      <td>CBL</td>\n",
       "      <td>N454D</td>\n",
       "      <td>3</td>\n",
       "      <td>recent evidence demonstrated acquired uniparen...</td>\n",
       "      <td>25</td>\n",
       "      <td>3</td>\n",
       "    </tr>\n",
       "    <tr>\n",
       "      <th>4</th>\n",
       "      <td>4</td>\n",
       "      <td>CBL</td>\n",
       "      <td>L399V</td>\n",
       "      <td>4</td>\n",
       "      <td>oncogenic mutations monomeric casitas b lineag...</td>\n",
       "      <td>25</td>\n",
       "      <td>3</td>\n",
       "    </tr>\n",
       "  </tbody>\n",
       "</table>\n",
       "</div>"
      ],
      "text/plain": [
       "   ID    Gene             Variation  Class  \\\n",
       "0   0  FAM58A  Truncating_Mutations      1   \n",
       "1   1     CBL                 W802*      2   \n",
       "2   2     CBL                 Q249E      2   \n",
       "3   3     CBL                 N454D      3   \n",
       "4   4     CBL                 L399V      4   \n",
       "\n",
       "                                                TEXT  countGene  lenGene  \n",
       "0  cyclin dependent kinases cdks regulate variety...          1        6  \n",
       "1  abstract background non small cell lung cancer...         25        3  \n",
       "2  abstract background non small cell lung cancer...         25        3  \n",
       "3  recent evidence demonstrated acquired uniparen...         25        3  \n",
       "4  oncogenic mutations monomeric casitas b lineag...         25        3  "
      ]
     },
     "execution_count": 7,
     "metadata": {},
     "output_type": "execute_result"
    }
   ],
   "source": [
    "data.head()"
   ]
  },
  {
   "cell_type": "code",
   "execution_count": 9,
   "metadata": {},
   "outputs": [
    {
     "name": "stdout",
     "output_type": "stream",
     "text": [
      "2996\n",
      "93\n"
     ]
    }
   ],
   "source": [
    "var = dict( data.Variation.value_counts() )\n",
    "print( len(var) )\n",
    "print( var['Truncating_Mutations'] )\n",
    "\n",
    "# Loop for calculating len of each Variation feature and no. of time it appears in the dataset\n",
    "\n",
    "li = []\n",
    "le = []\n",
    "for v in data.Variation:\n",
    "    li.append( var[ v ] )\n",
    "    le.append( len(v) )\n",
    "data['countVar'] = li\n",
    "data['lenVar'] = le"
   ]
  },
  {
   "cell_type": "code",
   "execution_count": 10,
   "metadata": {
    "collapsed": true
   },
   "outputs": [],
   "source": [
    "from tqdm import tqdm\n",
    "from statistics import mode\n",
    "from collections import Counter"
   ]
  },
  {
   "cell_type": "code",
   "execution_count": 11,
   "metadata": {},
   "outputs": [
    {
     "data": {
      "text/plain": [
       "3321"
      ]
     },
     "execution_count": 11,
     "metadata": {},
     "output_type": "execute_result"
    }
   ],
   "source": [
    "a = data['TEXT']\n",
    "a = list(a)\n",
    "len(a)"
   ]
  },
  {
   "cell_type": "code",
   "execution_count": 13,
   "metadata": {},
   "outputs": [
    {
     "name": "stderr",
     "output_type": "stream",
     "text": [
      "100%|██████████████████████████████████████████████████████████████████████████| 3321/3321 [00:00<00:00, 666217.89it/s]\n"
     ]
    }
   ],
   "source": [
    "# Loop for calculating len of each TEXT features\n",
    "le = []\n",
    "for sent in tqdm( a ):\n",
    "    le.append( len(sent) )\n",
    "\n",
    "data['lenText'] = le"
   ]
  },
  {
   "cell_type": "code",
   "execution_count": 15,
   "metadata": {},
   "outputs": [
    {
     "name": "stdout",
     "output_type": "stream",
     "text": [
      "1899  Unique length of TEXT feature\n"
     ]
    },
    {
     "data": {
      "text/plain": [
       "32995    53\n",
       "37392    47\n",
       "34377    42\n",
       "26199    31\n",
       "27133    31\n",
       "Name: lenText, dtype: int64"
      ]
     },
     "execution_count": 15,
     "metadata": {},
     "output_type": "execute_result"
    }
   ],
   "source": [
    "print( len( data.lenText.value_counts() ),' Unique length of TEXT feature' )\n",
    "\n",
    "data.lenText.value_counts().head()"
   ]
  },
  {
   "cell_type": "code",
   "execution_count": 16,
   "metadata": {},
   "outputs": [
    {
     "name": "stdout",
     "output_type": "stream",
     "text": [
      "7  Unique length of Gene feature\n"
     ]
    },
    {
     "data": {
      "text/plain": [
       "4    1276\n",
       "5    1073\n",
       "6     500\n",
       "3     420\n",
       "7      31\n",
       "2      20\n",
       "8       1\n",
       "Name: lenGene, dtype: int64"
      ]
     },
     "execution_count": 16,
     "metadata": {},
     "output_type": "execute_result"
    }
   ],
   "source": [
    "print( len( data.lenGene.value_counts() ),' Unique length of Gene feature' )\n",
    "\n",
    "data.lenGene.value_counts()"
   ]
  },
  {
   "cell_type": "code",
   "execution_count": 18,
   "metadata": {},
   "outputs": [
    {
     "data": {
      "image/png": "[encoded data removed]",
      "text/plain": [
       "<matplotlib.figure.Figure at 0x24c000d1160>"
      ]
     },
     "metadata": {},
     "output_type": "display_data"
    }
   ],
   "source": [
    "sns.set_style(\"whitegrid\")\n",
    "sns.FacetGrid(data, hue='Class', size=8).map(sns.distplot, \"lenGene\").add_legend()\n",
    "plt.title('Univariate Analysis of lenGene')\n",
    "plt.show()"
   ]
  },
  {
   "cell_type": "code",
   "execution_count": 19,
   "metadata": {},
   "outputs": [
    {
     "name": "stderr",
     "output_type": "stream",
     "text": [
      "100%|█████████████████████████████████████████████████████████████████████████████| 3321/3321 [00:04<00:00, 680.26it/s]\n"
     ]
    }
   ],
   "source": [
    "# Loop for calculating 1st word and last word of every TEXT feature\n",
    "\n",
    "li = []\n",
    "w1 = [] # 1st word\n",
    "wl = [] # last word\n",
    "\n",
    "for sent in tqdm(a):\n",
    "    for w in sent.split():\n",
    "        li.append(w)\n",
    "    \n",
    "    w1.append( li[0] )\n",
    "    wl.append( li[-1] )\n",
    "    li = []"
   ]
  },
  {
   "cell_type": "code",
   "execution_count": 20,
   "metadata": {},
   "outputs": [
    {
     "data": {
      "text/html": [
       "<div>\n",
       "<style>\n",
       "    .dataframe thead tr:only-child th {\n",
       "        text-align: right;\n",
       "    }\n",
       "\n",
       "    .dataframe thead th {\n",
       "        text-align: left;\n",
       "    }\n",
       "\n",
       "    .dataframe tbody tr th {\n",
       "        vertical-align: top;\n",
       "    }\n",
       "</style>\n",
       "<table border=\"1\" class=\"dataframe\">\n",
       "  <thead>\n",
       "    <tr style=\"text-align: right;\">\n",
       "      <th></th>\n",
       "      <th>ID</th>\n",
       "      <th>Gene</th>\n",
       "      <th>Variation</th>\n",
       "      <th>Class</th>\n",
       "      <th>TEXT</th>\n",
       "      <th>countGene</th>\n",
       "      <th>lenGene</th>\n",
       "      <th>countVar</th>\n",
       "      <th>lenVar</th>\n",
       "      <th>lenText</th>\n",
       "      <th>text1st</th>\n",
       "      <th>textLast</th>\n",
       "    </tr>\n",
       "  </thead>\n",
       "  <tbody>\n",
       "    <tr>\n",
       "      <th>0</th>\n",
       "      <td>0</td>\n",
       "      <td>FAM58A</td>\n",
       "      <td>Truncating_Mutations</td>\n",
       "      <td>1</td>\n",
       "      <td>cyclin dependent kinases cdks regulate variety...</td>\n",
       "      <td>1</td>\n",
       "      <td>6</td>\n",
       "      <td>93</td>\n",
       "      <td>20</td>\n",
       "      <td>30836</td>\n",
       "      <td>cyclin</td>\n",
       "      <td>females</td>\n",
       "    </tr>\n",
       "    <tr>\n",
       "      <th>1</th>\n",
       "      <td>1</td>\n",
       "      <td>CBL</td>\n",
       "      <td>W802*</td>\n",
       "      <td>2</td>\n",
       "      <td>abstract background non small cell lung cancer...</td>\n",
       "      <td>25</td>\n",
       "      <td>3</td>\n",
       "      <td>1</td>\n",
       "      <td>5</td>\n",
       "      <td>27844</td>\n",
       "      <td>abstract</td>\n",
       "      <td>tumorigenesis</td>\n",
       "    </tr>\n",
       "    <tr>\n",
       "      <th>2</th>\n",
       "      <td>2</td>\n",
       "      <td>CBL</td>\n",
       "      <td>Q249E</td>\n",
       "      <td>2</td>\n",
       "      <td>abstract background non small cell lung cancer...</td>\n",
       "      <td>25</td>\n",
       "      <td>3</td>\n",
       "      <td>1</td>\n",
       "      <td>5</td>\n",
       "      <td>27844</td>\n",
       "      <td>abstract</td>\n",
       "      <td>tumorigenesis</td>\n",
       "    </tr>\n",
       "    <tr>\n",
       "      <th>3</th>\n",
       "      <td>3</td>\n",
       "      <td>CBL</td>\n",
       "      <td>N454D</td>\n",
       "      <td>3</td>\n",
       "      <td>recent evidence demonstrated acquired uniparen...</td>\n",
       "      <td>25</td>\n",
       "      <td>3</td>\n",
       "      <td>1</td>\n",
       "      <td>5</td>\n",
       "      <td>28093</td>\n",
       "      <td>recent</td>\n",
       "      <td>attractive</td>\n",
       "    </tr>\n",
       "    <tr>\n",
       "      <th>4</th>\n",
       "      <td>4</td>\n",
       "      <td>CBL</td>\n",
       "      <td>L399V</td>\n",
       "      <td>4</td>\n",
       "      <td>oncogenic mutations monomeric casitas b lineag...</td>\n",
       "      <td>25</td>\n",
       "      <td>3</td>\n",
       "      <td>1</td>\n",
       "      <td>5</td>\n",
       "      <td>31649</td>\n",
       "      <td>oncogenic</td>\n",
       "      <td>cancer</td>\n",
       "    </tr>\n",
       "  </tbody>\n",
       "</table>\n",
       "</div>"
      ],
      "text/plain": [
       "   ID    Gene             Variation  Class  \\\n",
       "0   0  FAM58A  Truncating_Mutations      1   \n",
       "1   1     CBL                 W802*      2   \n",
       "2   2     CBL                 Q249E      2   \n",
       "3   3     CBL                 N454D      3   \n",
       "4   4     CBL                 L399V      4   \n",
       "\n",
       "                                                TEXT  countGene  lenGene  \\\n",
       "0  cyclin dependent kinases cdks regulate variety...          1        6   \n",
       "1  abstract background non small cell lung cancer...         25        3   \n",
       "2  abstract background non small cell lung cancer...         25        3   \n",
       "3  recent evidence demonstrated acquired uniparen...         25        3   \n",
       "4  oncogenic mutations monomeric casitas b lineag...         25        3   \n",
       "\n",
       "   countVar  lenVar  lenText    text1st       textLast  \n",
       "0        93      20    30836     cyclin        females  \n",
       "1         1       5    27844   abstract  tumorigenesis  \n",
       "2         1       5    27844   abstract  tumorigenesis  \n",
       "3         1       5    28093     recent     attractive  \n",
       "4         1       5    31649  oncogenic         cancer  "
      ]
     },
     "execution_count": 20,
     "metadata": {},
     "output_type": "execute_result"
    }
   ],
   "source": [
    "data['text1st'] = w1\n",
    "data['textLast'] = wl\n",
    "\n",
    "data.head()"
   ]
  },
  {
   "cell_type": "markdown",
   "metadata": {},
   "source": [
    "Features Created :<br>\n",
    "    <b>countGene</b> : No. of times that Gene occour in the dataset <br>\n",
    "    <b>lenGene</b> : Length of that Gene<br>\n",
    "    <b>countVar</b> : No. of times that Variation occour in the dataset <br>\n",
    "    <b>lenVar</b> : Length of that Variation<br>\n",
    "    <b>text1st</b> : First word in the feature TEXT<br>\n",
    "    <b>textLast</b> :  Last word in the feature TEXT<br>\n",
    "    <b>lenText</b>  : Length of the text ( no. of words present ) <br>"
   ]
  },
  {
   "cell_type": "code",
   "execution_count": 21,
   "metadata": {
    "collapsed": true
   },
   "outputs": [],
   "source": [
    "Y = data['Class']"
   ]
  },
  {
   "cell_type": "code",
   "execution_count": 33,
   "metadata": {
    "collapsed": true
   },
   "outputs": [],
   "source": [
    "# Test Train CV split\n",
    "\n",
    "from sklearn.model_selection import train_test_split\n",
    "\n",
    "xtrd2, xted2, ytrd2, yted2 = train_test_split( data, Y , stratify = Y, test_size = 0.2 )\n",
    "\n",
    "xtrd2, xcvd2, ytrd2, ycvd2 = train_test_split( xtrd2, ytrd2, stratify = ytrd2, test_size = 0.2 )"
   ]
  },
  {
   "cell_type": "code",
   "execution_count": 34,
   "metadata": {},
   "outputs": [
    {
     "name": "stdout",
     "output_type": "stream",
     "text": [
      "(2124, 225)\n",
      "(532, 225)\n",
      "(665, 225)\n",
      "(2124, 225)\n",
      "(532, 225)\n",
      "(665, 225)\n",
      "(2124, 1000)\n",
      "(532, 1000)\n",
      "(665, 1000)\n",
      "(2124, 469)\n",
      "(665, 469)\n",
      "(532, 469)\n",
      "(2124, 563)\n",
      "(665, 563)\n",
      "(532, 563)\n"
     ]
    }
   ],
   "source": [
    "from sklearn.calibration import CalibratedClassifierCV\n",
    "from sklearn.metrics.classification import accuracy_score, log_loss\n",
    "from sklearn.preprocessing import normalize\n",
    "from sklearn.metrics import confusion_matrix\n",
    "from sklearn.linear_model import SGDClassifier\n",
    "\n",
    "from sklearn.feature_extraction.text import TfidfVectorizer\n",
    "\n",
    "#Genes\n",
    "gTfVect2 = TfidfVectorizer( max_features = 1000 )\n",
    "\n",
    "xtrGeneTF2 = gTfVect2.fit_transform( xtrd2['Gene'] )\n",
    "xteGeneTF2 = gTfVect2.transform( xted2['Gene'] )\n",
    "xcvGeneTF2 = gTfVect2.transform( xcvd2['Gene'] )\n",
    "\n",
    "print(xtrGeneTF2.shape )\n",
    "print(xcvGeneTF2.shape )\n",
    "print(xteGeneTF2.shape )\n",
    "\n",
    "#variation\n",
    "vTfVect2 = TfidfVectorizer( max_features = 1000 )\n",
    "\n",
    "xtrVarTF2 = vTfVect2.fit_transform( xtrd2['Variation'] )\n",
    "xteVarTF2 = vTfVect2.transform( xted2['Variation'] )\n",
    "xcvVarTF2 = vTfVect2.transform( xcvd2['Variation'] )\n",
    "\n",
    "print(xtrGeneTF2.shape )\n",
    "print(xcvGeneTF2.shape )\n",
    "print(xteGeneTF2.shape )\n",
    "\n",
    "# Text\n",
    "teTfvect2 = TfidfVectorizer( max_features = 1000 )\n",
    "\n",
    "xtrTextTF2 = teTfvect2.fit_transform( xtrd2['TEXT'] )\n",
    "xtrTextTF2 = normalize( xtrTextTF2 , axis=0 ) # Don't forget to normalize every feature\n",
    "\n",
    "xteTextTF2 = teTfvect2.transform( xted2['TEXT'] )\n",
    "xteTextTF2 = normalize( xteTextTF2, axis=0 )\n",
    "\n",
    "xcvTextTF2 = teTfvect2.transform( xcvd2['TEXT'] )\n",
    "xcvTextTF2 = normalize( xcvTextTF2, axis=0 ) \n",
    "\n",
    "print( xtrTextTF2.shape )\n",
    "print( xcvTextTF2.shape )\n",
    "print( xteTextTF2.shape )\n",
    "\n",
    "\n",
    "# First word in Text\n",
    "t1stTfVect2 = TfidfVectorizer( max_features = 1000 )\n",
    "\n",
    "xtrT1stTF2 = t1stTfVect2.fit_transform( xtrd2['text1st'] )\n",
    "xteT1stTF2 = t1stTfVect2.transform( xted2['text1st'] )\n",
    "xcvT1stTF2 = t1stTfVect2.transform( xcvd2['text1st'] )\n",
    "\n",
    "print(xtrT1stTF2.shape )\n",
    "print(xteT1stTF2.shape )\n",
    "print(xcvT1stTF2.shape )\n",
    "\n",
    "\n",
    "# Last word in Text\n",
    "tLTfVect2 = TfidfVectorizer( max_features = 1000 )\n",
    "\n",
    "xtrTLTF2 = tLTfVect2.fit_transform( xtrd2['textLast'] )\n",
    "xteTLTF2 = tLTfVect2.transform( xted2['textLast'] )\n",
    "xcvTLTF2 = tLTfVect2.transform( xcvd2['textLast'] )\n",
    "\n",
    "print(xtrTLTF2.shape )\n",
    "print(xteTLTF2.shape )\n",
    "print(xcvTLTF2.shape )"
   ]
  },
  {
   "cell_type": "code",
   "execution_count": 35,
   "metadata": {},
   "outputs": [
    {
     "name": "stdout",
     "output_type": "stream",
     "text": [
      "(2124, 1)\n",
      "(665, 1)\n",
      "(532, 1)\n",
      "(2124, 1)\n",
      "(665, 1)\n",
      "(532, 1)\n",
      "(2124, 1)\n",
      "(665, 1)\n",
      "(532, 1)\n",
      "(2124, 1)\n",
      "(665, 1)\n",
      "(532, 1)\n",
      "(2124, 1)\n",
      "(665, 1)\n",
      "(532, 1)\n"
     ]
    }
   ],
   "source": [
    "from sklearn.preprocessing import Normalizer\n",
    "\n",
    "# countGene\n",
    "norm = Normalizer()\n",
    "\n",
    "xtrCG = norm.fit_transform( xtrd2['countGene'].values.reshape(-1,1) )\n",
    "xcvCG = norm.transform( xcvd2['countGene'].values.reshape(-1,1) )\n",
    "xteCG = norm.transform( xted2['countGene'].values.reshape(-1,1) )\n",
    "print(xtrCG.shape)\n",
    "print(xteCG.shape)\n",
    "print(xcvCG.shape)\n",
    "\n",
    "\n",
    "# countVar\n",
    "norm = Normalizer()\n",
    "\n",
    "xtrCV = norm.fit_transform( xtrd2['countVar'].values.reshape(-1,1) )\n",
    "xcvCV = norm.transform( xcvd2['countVar'].values.reshape(-1,1) )\n",
    "xteCV = norm.transform( xted2['countVar'].values.reshape(-1,1) )\n",
    "print(xtrCV.shape)\n",
    "print(xteCV.shape)\n",
    "print(xcvCV.shape)\n",
    "\n",
    "\n",
    "# lenVar\n",
    "norm = Normalizer()\n",
    "\n",
    "xtrLV = norm.fit_transform( xtrd2['lenVar'].values.reshape(-1,1) )\n",
    "xcvLV = norm.transform( xcvd2['lenVar'].values.reshape(-1,1) )\n",
    "xteLV = norm.transform( xted2['lenVar'].values.reshape(-1,1) )\n",
    "print(xtrLV.shape)\n",
    "print(xteLV.shape)\n",
    "print(xcvLV.shape)\n",
    "\n",
    "\n",
    "#lenGene\n",
    "norm = Normalizer()\n",
    "\n",
    "xtrLG = norm.fit_transform( xtrd2['lenGene'].values.reshape(-1,1) )\n",
    "xcvLG = norm.transform( xcvd2['lenGene'].values.reshape(-1,1) )\n",
    "xteLG = norm.transform( xted2['lenGene'].values.reshape(-1,1) )\n",
    "print(xtrLG.shape)\n",
    "print(xteLG.shape)\n",
    "print(xcvLG.shape)\n",
    "\n",
    "\n",
    "#lenText\n",
    "norm = Normalizer()\n",
    "\n",
    "xtrLT = norm.fit_transform( xtrd2['lenText'].values.reshape(-1,1) )\n",
    "xcvLT = norm.transform( xcvd2['lenText'].values.reshape(-1,1) )\n",
    "xteLT = norm.transform( xted2['lenText'].values.reshape(-1,1) )\n",
    "print(xtrLT.shape)\n",
    "print(xteLT.shape)\n",
    "print(xcvLT.shape)"
   ]
  },
  {
   "cell_type": "code",
   "execution_count": 36,
   "metadata": {},
   "outputs": [
    {
     "name": "stdout",
     "output_type": "stream",
     "text": [
      "(2124, 3262)\n",
      "(665, 3262)\n",
      "(532, 3262)\n"
     ]
    }
   ],
   "source": [
    "from scipy.sparse import hstack\n",
    "\n",
    "xtr3 = hstack(( xtrGeneTF2, xtrVarTF2, xtrTextTF2, xtrT1stTF2, xtrTLTF2, xtrCG, xtrCV, xtrLV, xtrLG, xtrLT )).tocsr()\n",
    "xte3 = hstack(( xteGeneTF2, xteVarTF2, xteTextTF2, xteT1stTF2, xteTLTF2, xteCG, xteCV, xteLV, xteLG, xteLT )).tocsr()\n",
    "xcv3 = hstack(( xcvGeneTF2, xcvVarTF2, xcvTextTF2, xcvT1stTF2, xcvTLTF2, xcvCG, xcvCV, xcvLV, xcvLG, xcvLT )).tocsr()\n",
    "\n",
    "print( xtr3.shape )\n",
    "print( xte3.shape )\n",
    "print( xcv3.shape )"
   ]
  },
  {
   "cell_type": "code",
   "execution_count": 37,
   "metadata": {
    "collapsed": true
   },
   "outputs": [],
   "source": [
    "import warnings  # removes warning messages from the output\n",
    "\n",
    "warnings.filterwarnings(\"ignore\")"
   ]
  },
  {
   "cell_type": "markdown",
   "metadata": {},
   "source": [
    "## Appyling Top 2 models which gave the best Test log loss previously"
   ]
  },
  {
   "cell_type": "markdown",
   "metadata": {},
   "source": [
    "## Logistic Regression "
   ]
  },
  {
   "cell_type": "code",
   "execution_count": 38,
   "metadata": {},
   "outputs": [
    {
     "name": "stdout",
     "output_type": "stream",
     "text": [
      "For values of alpha =  1e-06  the log loss is :  1.0294305424753973\n",
      "For values of alpha =  1e-05  the log loss is :  1.022289980621755\n",
      "For values of alpha =  0.0001  the log loss is :  0.9847377822692862\n",
      "For values of alpha =  0.001  the log loss is :  1.0086895010662968\n",
      "For values of alpha =  0.01  the log loss is :  1.1247032846729363\n",
      "For values of alpha =  0.1  the log loss is :  1.263172687429077\n",
      "For values of alpha =  1  the log loss is :  1.4106276460739726\n",
      "For values of alpha =  10  the log loss is :  1.6716056685227554\n",
      "For values of alpha =  100  the log loss is :  1.7246162801016123\n"
     ]
    }
   ],
   "source": [
    "alpha = [ 10 ** x for x in range(-6, 3) ]\n",
    "\n",
    "logError = [ ]\n",
    "\n",
    "for i in alpha :\n",
    "    classifier = SGDClassifier( alpha = i, penalty='l2', loss='log', random_state = 42 )\n",
    "    classifier.fit(xtr3, ytrd2)\n",
    "    \n",
    "    # ClaibratedClassifierCV() : Probability calibration with isotonic regression or sigmoid.\n",
    "    # With this class, the base_estimator is fit on the train set of the cross-validation generator and the ......\n",
    "    # .... test set is used for calibration. The probabilities for each of the folds are then averaged for prediction\n",
    "    \n",
    "    clf = CalibratedClassifierCV( classifier, method=\"sigmoid\" )\n",
    "    \n",
    "    # base_estimator : (classifier) The classifier whose output decision func needs to be calibrated to offer more accurate...\n",
    "    # .... predict_proba outputs. If cv=prefit, the classifier must have been fit already on data.\n",
    "    \n",
    "    clf.fit(xtr3, ytrd2)\n",
    "    \n",
    "    predictY = clf.predict_proba( xcv3 )\n",
    "    \n",
    "    logError.append( log_loss( ycvd2, predictY, labels = clf.classes_, eps = 1e-15) )\n",
    "    print('For values of alpha = ', i, \" the log loss is : \",log_loss(ycvd2, predictY, labels=clf.classes_, eps=1e-15) )"
   ]
  },
  {
   "cell_type": "code",
   "execution_count": 39,
   "metadata": {},
   "outputs": [
    {
     "name": "stdout",
     "output_type": "stream",
     "text": [
      " Best alpha :  0.0001\n",
      " The train log loss is :  0.510904092466097\n",
      " The test log loss is :  0.9487751260963859\n",
      " The cv log loss is :  0.9847377822692862\n"
     ]
    }
   ],
   "source": [
    "import numpy as np \n",
    "\n",
    "bestA = alpha[ np.argmin(logError) ]\n",
    "clf = SGDClassifier( alpha = bestA, penalty='l2', loss='log', random_state=42)\n",
    "clf.fit(xtr3, ytrd2)\n",
    "\n",
    "clf = CalibratedClassifierCV( clf, method=\"sigmoid\" )\n",
    "clf.fit(xtr3, ytrd2)\n",
    "\n",
    "print(' Best alpha : ', bestA)\n",
    "\n",
    "predictY = clf.predict_proba( xtr3 )\n",
    "print(' The train log loss is : ',log_loss( ytrd2, predictY, labels = clf.classes_, eps = 1e-15) )\n",
    "\n",
    "predictY = clf.predict_proba( xte3 )\n",
    "print(' The test log loss is : ',log_loss( yted2, predictY, labels = clf.classes_, eps = 1e-15) )\n",
    "\n",
    "predictY = clf.predict_proba( xcv3 )\n",
    "print(' The cv log loss is : ',log_loss( ycvd2, predictY, labels = clf.classes_, eps = 1e-15) )"
   ]
  },
  {
   "cell_type": "code",
   "execution_count": 41,
   "metadata": {},
   "outputs": [
    {
     "name": "stdout",
     "output_type": "stream",
     "text": [
      " % of points correctly classified :  68.87218045112782\n"
     ]
    }
   ],
   "source": [
    "y_ = clf.predict( xte3 )\n",
    "i =  y_ ^ yted2\n",
    "print(' % of points correctly classified : ', ( ( i.shape[0] - np.count_nonzero( i ) )  / i.shape[0] ) * 100 )"
   ]
  },
  {
   "cell_type": "code",
   "execution_count": 51,
   "metadata": {},
   "outputs": [
    {
     "data": {
      "image/png": "[encoded data removed]",
      "text/plain": [
       "<matplotlib.figure.Figure at 0x24c0d568eb8>"
      ]
     },
     "metadata": {},
     "output_type": "display_data"
    },
    {
     "name": "stdout",
     "output_type": "stream",
     "text": [
      "[[ 86   1   1  17   2   2   5   0   0]\n",
      " [  1  57   0   2   2   0  29   0   0]\n",
      " [  1   2   1   6   0   2   6   0   0]\n",
      " [ 28   2   1  95   3   1   7   0   0]\n",
      " [ 14   4   0   6  14   3   7   0   0]\n",
      " [  7   4   0   1   2  30  11   0   0]\n",
      " [  0  15   2   3   1   0 169   0   1]\n",
      " [  0   0   0   0   0   0   2   1   1]\n",
      " [  1   0   0   1   0   0   0   0   5]]\n"
     ]
    }
   ],
   "source": [
    "from sklearn.metrics import confusion_matrix\n",
    "\n",
    "cmte = confusion_matrix( yted2, clf.predict( xte3 ) )\n",
    "\n",
    "labels = [1,2,3,4,5,6,7,8,9]\n",
    "\n",
    "plt.figure( figsize = (18,8) )\n",
    "sns.set( font_scale = 1.4 ) #for label size\n",
    "sns.heatmap( cmte,fmt=\".0f\", annot = True, annot_kws={\"size\": 18}, cmap='Blues_r' )# font size\n",
    "plt.ylabel('True label', size=18)\n",
    "plt.xlabel('Predicted label', size=18)\n",
    "plt.show()\n",
    "print( cmte )"
   ]
  },
  {
   "cell_type": "markdown",
   "metadata": {},
   "source": [
    "## Logistic Regression with Balanced class weight"
   ]
  },
  {
   "cell_type": "code",
   "execution_count": 58,
   "metadata": {},
   "outputs": [
    {
     "name": "stdout",
     "output_type": "stream",
     "text": [
      "For values of alpha =  1e-06  the log loss is :  1.0262562750455317\n",
      "For values of alpha =  1e-05  the log loss is :  1.0345668585108987\n",
      "For values of alpha =  0.0001  the log loss is :  0.9884228417181702\n",
      "For values of alpha =  0.001  the log loss is :  1.021265872600087\n",
      "For values of alpha =  0.01  the log loss is :  1.135664310935033\n",
      "For values of alpha =  0.1  the log loss is :  1.2042422301360631\n",
      "For values of alpha =  1  the log loss is :  1.3719866120308124\n",
      "For values of alpha =  10  the log loss is :  1.7287067056338452\n",
      "For values of alpha =  100  the log loss is :  1.7777431579648342\n"
     ]
    }
   ],
   "source": [
    "alpha = [ 10 ** x for x in range(-6, 3) ]\n",
    "\n",
    "logError = [ ]\n",
    "\n",
    "for i in alpha :\n",
    "    classifier = SGDClassifier(class_weight = 'balanced', alpha = i, penalty='l2', loss='log', random_state = 42 )\n",
    "    classifier.fit(xtr3, ytrd2)\n",
    "    \n",
    "    # ClaibratedClassifierCV() : Probability calibration with isotonic regression or sigmoid.\n",
    "    # With this class, the base_estimator is fit on the train set of the cross-validation generator and the ......\n",
    "    # .... test set is used for calibration. The probabilities for each of the folds are then averaged for prediction\n",
    "    \n",
    "    clf = CalibratedClassifierCV( classifier, method=\"sigmoid\" )\n",
    "    \n",
    "    # base_estimator : (classifier) The classifier whose output decision func needs to be calibrated to offer more accurate...\n",
    "    # .... predict_proba outputs. If cv=prefit, the classifier must have been fit already on data.\n",
    "    \n",
    "    clf.fit(xtr3, ytrd2)\n",
    "    \n",
    "    predictY = clf.predict_proba( xcv3 )\n",
    "    \n",
    "    logError.append( log_loss( ycvd2, predictY, labels = clf.classes_, eps = 1e-15) )\n",
    "    print('For values of alpha = ', i, \" the log loss is : \",log_loss(ycvd2, predictY, labels=clf.classes_, eps=1e-15) )"
   ]
  },
  {
   "cell_type": "code",
   "execution_count": 59,
   "metadata": {},
   "outputs": [
    {
     "name": "stdout",
     "output_type": "stream",
     "text": [
      " Best alpha :  0.0001\n",
      " The train log loss is :  0.5179308812551262\n",
      " The test log loss is :  0.9582541793136079\n",
      " The cv log loss is :  0.9884228417181702\n"
     ]
    }
   ],
   "source": [
    "import numpy as np \n",
    "\n",
    "bestA = alpha[ np.argmin(logError) ]\n",
    "clf = SGDClassifier(class_weight = 'balanced', alpha = bestA, penalty='l2', loss='log', random_state=42)\n",
    "clf.fit(xtr3, ytrd2)\n",
    "\n",
    "clf = CalibratedClassifierCV( clf, method=\"sigmoid\" )\n",
    "clf.fit(xtr3, ytrd2)\n",
    "\n",
    "print(' Best alpha : ', bestA)\n",
    "\n",
    "predictY = clf.predict_proba( xtr3 )\n",
    "print(' The train log loss is : ',log_loss( ytrd2, predictY, labels = clf.classes_, eps = 1e-15) )\n",
    "\n",
    "predictY = clf.predict_proba( xte3 )\n",
    "print(' The test log loss is : ',log_loss( yted2, predictY, labels = clf.classes_, eps = 1e-15) )\n",
    "\n",
    "predictY = clf.predict_proba( xcv3 )\n",
    "print(' The cv log loss is : ',log_loss( ycvd2, predictY, labels = clf.classes_, eps = 1e-15) )"
   ]
  },
  {
   "cell_type": "code",
   "execution_count": 60,
   "metadata": {},
   "outputs": [
    {
     "name": "stdout",
     "output_type": "stream",
     "text": [
      " % of points correctly classified :  68.1203007518797\n"
     ]
    }
   ],
   "source": [
    "y_ = clf.predict( xte3 )\n",
    "i =  y_ ^ yted2\n",
    "print(' % of points correctly classified : ', ( ( i.shape[0] - np.count_nonzero( i ) )  / i.shape[0] ) * 100 )"
   ]
  },
  {
   "cell_type": "code",
   "execution_count": 61,
   "metadata": {},
   "outputs": [
    {
     "data": {
      "image/png": "[encoded data removed]",
      "text/plain": [
       "<matplotlib.figure.Figure at 0x24c0b9a8860>"
      ]
     },
     "metadata": {},
     "output_type": "display_data"
    },
    {
     "name": "stdout",
     "output_type": "stream",
     "text": [
      "[[ 82   1   1  21   2   2   5   0   0]\n",
      " [  1  55   0   2   2   0  31   0   0]\n",
      " [  0   2   0   7   0   2   7   0   0]\n",
      " [ 27   2   1  96   1   1   9   0   0]\n",
      " [ 14   3   0   6  14   3   8   0   0]\n",
      " [  7   4   0   1   2  30  11   0   0]\n",
      " [  0  15   1   2   2   0 170   0   1]\n",
      " [  0   0   0   0   0   0   2   1   1]\n",
      " [  1   0   0   0   1   0   0   0   5]]\n"
     ]
    }
   ],
   "source": [
    "from sklearn.metrics import confusion_matrix\n",
    "\n",
    "cmte = confusion_matrix( yted2, clf.predict( xte3 ) )\n",
    "\n",
    "labels = [1,2,3,4,5,6,7,8,9]\n",
    "\n",
    "plt.figure( figsize = (18,8) )\n",
    "sns.set( font_scale = 1.4 ) #for label size\n",
    "sns.heatmap( cmte,fmt=\".0f\", annot = True, annot_kws={\"size\": 18}, cmap='Blues_r' )# font size\n",
    "plt.ylabel('True label', size=18)\n",
    "plt.xlabel('Predicted label', size=18)\n",
    "plt.show()\n",
    "print( cmte )"
   ]
  },
  {
   "cell_type": "markdown",
   "metadata": {},
   "source": [
    "## Linear SVM"
   ]
  },
  {
   "cell_type": "code",
   "execution_count": 52,
   "metadata": {},
   "outputs": [
    {
     "name": "stdout",
     "output_type": "stream",
     "text": [
      "For values of alpha =  1e-06  the log loss is :  1.024259434870708\n",
      "For values of alpha =  1e-05  the log loss is :  1.0292793384121028\n",
      "For values of alpha =  0.0001  the log loss is :  1.0256834746864798\n",
      "For values of alpha =  0.001  the log loss is :  1.0447045187379638\n",
      "For values of alpha =  0.01  the log loss is :  1.1402368171439061\n",
      "For values of alpha =  0.1  the log loss is :  1.158659919933519\n",
      "For values of alpha =  1  the log loss is :  1.343022804988849\n",
      "For values of alpha =  10  the log loss is :  1.7832046480197103\n",
      "For values of alpha =  100  the log loss is :  1.783182103642615\n"
     ]
    }
   ],
   "source": [
    "alpha = [ 10 ** x for x in range(-6, 3) ]\n",
    "\n",
    "logError = [ ]\n",
    "\n",
    "for i in alpha :\n",
    "    classifier = SGDClassifier(class_weight = 'balanced', alpha = i, penalty='l2', loss='hinge', random_state = 42 )\n",
    "    classifier.fit(xtr3, ytrd2)\n",
    "    \n",
    "    # ClaibratedClassifierCV() : Probability calibration with isotonic regression or sigmoid.\n",
    "    # With this class, the base_estimator is fit on the train set of the cross-validation generator and the ......\n",
    "    # .... test set is used for calibration. The probabilities for each of the folds are then averaged for prediction\n",
    "    \n",
    "    clf = CalibratedClassifierCV( classifier, method=\"sigmoid\" )\n",
    "    \n",
    "    # base_estimator : (classifier) The classifier whose output decision func needs to be calibrated to offer more accurate...\n",
    "    # .... predict_proba outputs. If cv=prefit, the classifier must have been fit already on data.\n",
    "    \n",
    "    clf.fit(xtr3, ytrd2)\n",
    "    \n",
    "    predictY = clf.predict_proba( xcv3 )\n",
    "    \n",
    "    logError.append( log_loss( ycvd2, predictY, labels = clf.classes_, eps = 1e-15) )\n",
    "    print('For values of alpha = ', i, \" the log loss is : \",log_loss(ycvd2, predictY, labels=clf.classes_, eps=1e-15) )"
   ]
  },
  {
   "cell_type": "code",
   "execution_count": 53,
   "metadata": {},
   "outputs": [
    {
     "name": "stdout",
     "output_type": "stream",
     "text": [
      " Best alpha :  1e-06\n",
      " The train log loss is :  0.5421648583479303\n",
      " The test log loss is :  0.9986819266277692\n",
      " The cv log loss is :  1.0262562750455317\n"
     ]
    }
   ],
   "source": [
    "import numpy as np \n",
    "bestA = alpha[ np.argmin(logError) ]\n",
    "clf = SGDClassifier(class_weight = 'balanced', alpha = bestA, penalty='l2', loss='log', random_state=42)\n",
    "clf.fit(xtr3, ytrd2)\n",
    "\n",
    "clf = CalibratedClassifierCV( clf, method=\"sigmoid\" )\n",
    "clf.fit(xtr3, ytrd2)\n",
    "\n",
    "print(' Best alpha : ', bestA)\n",
    "\n",
    "predictY = clf.predict_proba( xtr3 )\n",
    "print(' The train log loss is : ',log_loss( ytrd2, predictY, labels = clf.classes_, eps = 1e-15) )\n",
    "\n",
    "predictY = clf.predict_proba( xte3 )\n",
    "print(' The test log loss is : ',log_loss( yted2, predictY, labels = clf.classes_, eps = 1e-15) )\n",
    "\n",
    "predictY = clf.predict_proba( xcv3 )\n",
    "print(' The cv log loss is : ',log_loss( ycvd2, predictY, labels = clf.classes_, eps = 1e-15) )"
   ]
  },
  {
   "cell_type": "code",
   "execution_count": 54,
   "metadata": {},
   "outputs": [
    {
     "name": "stdout",
     "output_type": "stream",
     "text": [
      " % of points correctly classified :  68.7218045112782\n"
     ]
    }
   ],
   "source": [
    "y_ = clf.predict( xte3 )\n",
    "i =  y_ ^ yted2\n",
    "print(' % of points correctly classified : ', ( ( i.shape[0] - np.count_nonzero( i ) )  / i.shape[0] ) * 100 )"
   ]
  },
  {
   "cell_type": "code",
   "execution_count": 55,
   "metadata": {},
   "outputs": [
    {
     "data": {
      "image/png": "[encoded data removed]",
      "text/plain": [
       "<matplotlib.figure.Figure at 0x24c0d789c88>"
      ]
     },
     "metadata": {},
     "output_type": "display_data"
    },
    {
     "name": "stdout",
     "output_type": "stream",
     "text": [
      "[[ 82   1   1  16   6   2   6   0   0]\n",
      " [  1  54   0   2   2   0  32   0   0]\n",
      " [  1   2   1   6   0   2   6   0   0]\n",
      " [ 27   1   1  97   3   1   7   0   0]\n",
      " [ 12   4   0   4  19   3   6   0   0]\n",
      " [  6   5   0   3   0  31  10   0   0]\n",
      " [  0  17   2   3   1   0 167   0   1]\n",
      " [  0   0   0   0   0   0   2   1   1]\n",
      " [  1   0   0   1   0   0   0   0   5]]\n"
     ]
    }
   ],
   "source": [
    "from sklearn.metrics import confusion_matrix\n",
    "\n",
    "cmte = confusion_matrix( yted2, clf.predict( xte3 ) )\n",
    "\n",
    "labels = [1,2,3,4,5,6,7,8,9]\n",
    "\n",
    "plt.figure( figsize = (18,8) )\n",
    "sns.set( font_scale = 1.4 ) #for label size\n",
    "sns.heatmap( cmte,fmt=\".0f\", annot = True, annot_kws={\"size\": 18}, cmap='Blues_r' )# font size\n",
    "plt.ylabel('True label', size=18)\n",
    "plt.xlabel('Predicted label', size=18)\n",
    "plt.show()\n",
    "print( cmte )"
   ]
  },
  {
   "cell_type": "code",
   "execution_count": 63,
   "metadata": {},
   "outputs": [
    {
     "name": "stdout",
     "output_type": "stream",
     "text": [
      "+-----------------------------------------------+-----------------+------------------+-----------------+\n",
      "|                     Model                     |  Featurization  |  Train log loss  |  Test log loss  |\n",
      "+-----------------------------------------------+-----------------+------------------+-----------------+\n",
      "|              Logistic Regression              |      TFIDF      |      0.5102      |      0.9257     |\n",
      "|  Logistic Regression (balanced class weight)  |      TFIDF      |      0.5179      |      0.9582     |\n",
      "|       Linear SVM (balanced class weight)      |      TFIDF      |      0.5460      |      0.9732     |\n",
      "+-----------------------------------------------+-----------------+------------------+-----------------+\n"
     ]
    }
   ],
   "source": [
    "from prettytable import PrettyTable\n",
    "    \n",
    "x = PrettyTable()\n",
    "   \n",
    "x.field_names = [ \" Model \", \" Featurization \", \" Train log loss \", \" Test log loss \" ]\n",
    "\n",
    "x.add_row( [ \" Logistic Regression \", \" TFIDF \", \" 0.5102 \", \" 0.9257 \" ] )\n",
    "x.add_row( [ \" Logistic Regression (balanced class weight) \", \" TFIDF \", \" 0.5179 \", \" 0.9582 \" ] )\n",
    "x.add_row( [ \" Linear SVM (balanced class weight) \", \" TFIDF \", \" 0.5460 \",  \" 0.9732 \" ] )\n",
    "\n",
    "print( x )"
   ]
  },
  {
   "cell_type": "markdown",
   "metadata": {},
   "source": [
    "The best model is Logistic Regression with TFIDF text featurization with Test log loss of 0.9257"
   ]
  }
 ],
 "metadata": {
  "kernelspec": {
   "display_name": "Python 3",
   "language": "python",
   "name": "python3"
  },
  "language_info": {
   "codemirror_mode": {
    "name": "ipython",
    "version": 3
   },
   "file_extension": ".py",
   "mimetype": "text/x-python",
   "name": "python",
   "nbconvert_exporter": "python",
   "pygments_lexer": "ipython3",
   "version": "3.6.3"
  }
 },
 "nbformat": 4,
 "nbformat_minor": 2
}
